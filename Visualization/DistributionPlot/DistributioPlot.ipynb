{
 "cells": [
  {
   "cell_type": "code",
   "execution_count": 2,
   "id": "d05a1c92-6e4b-4586-84e3-089f3b0366c3",
   "metadata": {},
   "outputs": [],
   "source": [
    "import seaborn as sns\n",
    "import matplotlib.pyplot as plt "
   ]
  },
  {
   "cell_type": "markdown",
   "id": "14967142-5485-44a2-953f-1476b0eec7b9",
   "metadata": {},
   "source": [
    "We use distribution plots to visualize the distribution of quantitative data.\n",
    "\n",
    "\n",
    "Let's discuss some plots that allow us to visualize the distribution of a data set. These plots are:\n",
    "\n",
    "* distplot/histplot\n",
    "* jointplot\n",
    "* pairplot\n",
    "* rugplot"
   ]
  },
  {
   "cell_type": "code",
   "execution_count": null,
   "id": "3939c114-372d-4cd8-bfb2-05b34dd09b0e",
   "metadata": {},
   "outputs": [],
   "source": []
  }
 ],
 "metadata": {
  "kernelspec": {
   "display_name": "Python (booksenv)",
   "language": "python",
   "name": "booksenv"
  },
  "language_info": {
   "codemirror_mode": {
    "name": "ipython",
    "version": 3
   },
   "file_extension": ".py",
   "mimetype": "text/x-python",
   "name": "python",
   "nbconvert_exporter": "python",
   "pygments_lexer": "ipython3",
   "version": "3.12.7"
  }
 },
 "nbformat": 4,
 "nbformat_minor": 5
}
