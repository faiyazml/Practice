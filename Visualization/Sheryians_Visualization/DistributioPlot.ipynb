{
 "cells": [
  {
   "cell_type": "code",
   "execution_count": 2,
   "id": "d05a1c92-6e4b-4586-84e3-089f3b0366c3",
   "metadata": {},
   "outputs": [],
   "source": [
    "import seaborn as sns\n",
    "import matplotlib.pyplot as plt "
   ]
  },
  {
   "cell_type": "markdown",
   "id": "14967142-5485-44a2-953f-1476b0eec7b9",
   "metadata": {},
   "source": [
    "We use distribution plots to visualize the distribution of quantitative data.\n",
    "\n",
    "\n",
    "Let's discuss some plots that allow us to visualize the distribution of a data set. These plots are:\n",
    "\n",
    "* distplot/histplot\n",
    "* jointplot\n",
    "* pairplot\n",
    "* rugplot\n",
    "\n",
    "## Q. What is the difference between Quantitative and Qualitative data?\n",
    "## Ans:\n",
    "### **Quantitative Data**\n",
    "\n",
    "* **Numeric** data (numbers).\n",
    "* Measure kiya ja sakta hai.\n",
    "* Example: Height = 170 cm, Age = 23, Salary = 50k.\n",
    "* Further types: **Discrete** (countable, like number of students) & **Continuous** (measurable, like weight).\n",
    "\n",
    "### **Qualitative Data**\n",
    "\n",
    "* **Categorical / Descriptive** data (non-numeric).\n",
    "* Describe karta hai quality/characteristics.\n",
    "* Example: Gender = Male/Female, Color = Red/Blue, City = Kolkata.\n",
    "* Further types: **Nominal** (no order, like colors) & **Ordinal** (order matters, like ranking).\n",
    "\n",
    "### **Key Difference**\n",
    "\n",
    "* Quantitative → *\"How much / How many?\"* (numbers).\n",
    "* Qualitative → *\"What type / Which category?\"* (labels).\n",
    "\n",
    "👉 Simple: **Quantitative = numbers, Qualitative = categories.**"
   ]
  },
  {
   "cell_type": "code",
   "execution_count": null,
   "id": "3939c114-372d-4cd8-bfb2-05b34dd09b0e",
   "metadata": {},
   "outputs": [],
   "source": []
  }
 ],
 "metadata": {
  "kernelspec": {
   "display_name": "Python (booksenv)",
   "language": "python",
   "name": "booksenv"
  },
  "language_info": {
   "codemirror_mode": {
    "name": "ipython",
    "version": 3
   },
   "file_extension": ".py",
   "mimetype": "text/x-python",
   "name": "python",
   "nbconvert_exporter": "python",
   "pygments_lexer": "ipython3",
   "version": "3.12.7"
  }
 },
 "nbformat": 4,
 "nbformat_minor": 5
}
