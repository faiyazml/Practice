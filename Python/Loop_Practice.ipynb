{
 "cells": [
  {
   "cell_type": "code",
   "execution_count": 3,
   "id": "f0256325-6374-4994-a813-21d48f36c14d",
   "metadata": {},
   "outputs": [
    {
     "name": "stdout",
     "output_type": "stream",
     "text": [
      "1\n",
      "2\n",
      "3\n",
      "4\n",
      "5\n",
      "6\n",
      "7\n",
      "8\n",
      "9\n",
      "10\n"
     ]
    }
   ],
   "source": [
    "# Q1: 1 se 10 tak ke numbers ko print karne ke liye ek for loop likhiye.\n",
    "for i in range(1,11):\n",
    "    print(i)"
   ]
  },
  {
   "cell_type": "code",
   "execution_count": 4,
   "id": "a9ceff97-f84f-4e5d-9057-70d833494ae4",
   "metadata": {},
   "outputs": [
    {
     "name": "stdout",
     "output_type": "stream",
     "text": [
      "3\n",
      "7\n",
      "1\n",
      "9\n",
      "2\n"
     ]
    }
   ],
   "source": [
    "# Q2: Ek list di gayi hai: numbers = [3, 7, 1, 9, 2]\n",
    "# Is list ke sabhi elements ko ek ek karke print karne ke liye for loop likhiye.\n",
    "\n",
    "numbers = [3, 7, 1, 9, 2]\n",
    "for i in numbers:\n",
    "    print(i)"
   ]
  },
  {
   "cell_type": "code",
   "execution_count": 8,
   "id": "0b814602-793e-4975-8d7d-487e51929894",
   "metadata": {},
   "outputs": [
    {
     "name": "stdout",
     "output_type": "stream",
     "text": [
      "15\n"
     ]
    }
   ],
   "source": [
    "# Q3: 1 se 5 tak ke numbers ka sum nikalne ke liye ek loop ka use karke program likhiye.\n",
    "# (Expected output: 15)\n",
    "total = 0\n",
    "for i in range(1,6):\n",
    "    total = total + i\n",
    "print(total)"
   ]
  },
  {
   "cell_type": "code",
   "execution_count": 9,
   "id": "94f006c7-0ba1-4674-a7e0-e12ed24a9523",
   "metadata": {},
   "outputs": [
    {
     "name": "stdout",
     "output_type": "stream",
     "text": [
      "p\n",
      "y\n",
      "t\n",
      "h\n",
      "o\n",
      "n\n"
     ]
    }
   ],
   "source": [
    "# Q4: Ek string di gayi hai: word = \"python\"\n",
    "# Har character ko alag alag line me print karne ke liye ek loop likhiye.\n",
    "word = \"python\"\n",
    "for i in word:\n",
    "    print(i)"
   ]
  },
  {
   "cell_type": "code",
   "execution_count": 15,
   "id": "822a4643-22ad-46fa-8f0c-88047450621e",
   "metadata": {},
   "outputs": [
    {
     "name": "stdout",
     "output_type": "stream",
     "text": [
      "1 is a Odd number\n",
      "2 is a Even number\n",
      "3 is a Odd number\n",
      "4 is a Even number\n",
      "5 is a Odd number\n",
      "6 is a Even number\n",
      "7 is a Odd number\n",
      "8 is a Even number\n",
      "9 is a Odd number\n",
      "10 is a Even number\n"
     ]
    }
   ],
   "source": [
    "# Q5: 1 se 10 tak ke even numbers ko print karne ke liye ek loop likhiye.\n",
    "# (Expected output: 2, 4, 6, 8, 10)\n",
    "for i in range(1,11):\n",
    "    if i%2 == 0:\n",
    "        print(f\"{i} is a Even number\")\n",
    "    else:\n",
    "        print(f\"{i} is a Odd number\")"
   ]
  },
  {
   "cell_type": "code",
   "execution_count": 16,
   "id": "a163223a-ede2-4838-9f18-b58cea0c27f7",
   "metadata": {},
   "outputs": [
    {
     "name": "stdout",
     "output_type": "stream",
     "text": [
      "35\n"
     ]
    }
   ],
   "source": [
    "# Q6: Ek list di gayi hai: nums = [5, 8, 12, 7, 3]\n",
    "# For loop ka use karke list ke sabhi elements ka total nikaaliye.\n",
    "# (Expected output: 35)\n",
    "nums = [5, 8, 12, 7, 3]\n",
    "total = 0\n",
    "for i in nums:\n",
    "    total = total + i\n",
    "print(total)"
   ]
  },
  {
   "cell_type": "code",
   "execution_count": 32,
   "id": "5d75ec5e-3709-4625-84b3-af508a75bbfc",
   "metadata": {},
   "outputs": [
    {
     "name": "stdout",
     "output_type": "stream",
     "text": [
      "1\n",
      "4\n",
      "9\n",
      "16\n",
      "25\n"
     ]
    }
   ],
   "source": [
    "# Q7: 1 se 5 tak ke numbers ke squares print karne ke liye ek loop likhiye.\n",
    "# (Expected output: 1, 4, 9, 16, 25)\n",
    "square = 0\n",
    "for i in range(1,6):\n",
    "    square = i ** 2\n",
    "    print(square)"
   ]
  },
  {
   "cell_type": "code",
   "execution_count": 33,
   "id": "eb4511ad-701e-4498-a888-ceaad03cbd6c",
   "metadata": {},
   "outputs": [
    {
     "name": "stdout",
     "output_type": "stream",
     "text": [
      "Hello Ali\n",
      "Hello Zara\n",
      "Hello Ahmed\n"
     ]
    }
   ],
   "source": [
    "# Q8: Ek list di gayi hai: names = [\"Ali\", \"Zara\", \"Ahmed\"]\n",
    "# For loop ka use karke output me har naam ke aage \"Hello\" print kijiye.\n",
    "# (Expected output: Hello Ali, Hello Zara, Hello Ahmed)\n",
    "names = [\"Ali\", \"Zara\", \"Ahmed\"]\n",
    "\n",
    "for i in names:\n",
    "    print(f\"Hello {i}\")"
   ]
  },
  {
   "cell_type": "code",
   "execution_count": null,
   "id": "94700b9b-c1df-4428-8734-9c9291d4bfb1",
   "metadata": {},
   "outputs": [],
   "source": [
    "# Q9: Ek number input lene ke baad, agar wo number positive ho to \"Positive\" print kijiye,\n",
    "# agar negative ho to \"Negative\" print kijiye, aur agar zero ho to \"Zero\" print kijiye.\n",
    "user = int(input(\"Enter a number : \"))\n",
    "\n",
    "while True:\n",
    "    if user > 0:\n",
    "        print(\"Positive\")\n",
    "        break\n",
    "    elif user == 0:\n",
    "        print(\"Zero\")\n",
    "        break\n",
    "    else:\n",
    "        print(\"Negative\")\n",
    "        break"
   ]
  },
  {
   "cell_type": "code",
   "execution_count": 2,
   "id": "e72cdd16-c959-4ec7-8617-fac0f71d043a",
   "metadata": {},
   "outputs": [
    {
     "name": "stdout",
     "output_type": "stream",
     "text": [
      "Hi Sanu, Welcome to our community.\n"
     ]
    }
   ],
   "source": [
    "def func(name):\n",
    "    print(f\"Hi {name}, Welcome to our community.\")\n",
    "\n",
    "func(\"Sanu\")"
   ]
  },
  {
   "cell_type": "code",
   "execution_count": 17,
   "id": "ef3907a4-3c9d-4b21-b07e-1956acbb7ced",
   "metadata": {},
   "outputs": [
    {
     "data": {
      "text/plain": [
       "['H', 'E', 'Y', ' ', 'H', 'O', 'W', ' ', 'U', ' ', 'D', 'O', 'I', 'N', 'G']"
      ]
     },
     "execution_count": 17,
     "metadata": {},
     "output_type": "execute_result"
    }
   ],
   "source": [
    "l = \"hey how u doing\"\n",
    "list(map(lambda x: x.upper(), l))"
   ]
  },
  {
   "cell_type": "code",
   "execution_count": 10,
   "id": "5d25d903-6b41-4278-9b23-c6a8c52394eb",
   "metadata": {},
   "outputs": [
    {
     "ename": "_IncompleteInputError",
     "evalue": "incomplete input (1492585268.py, line 1)",
     "output_type": "error",
     "traceback": [
      "\u001b[1;36m  Cell \u001b[1;32mIn[10], line 1\u001b[1;36m\u001b[0m\n\u001b[1;33m    ls=[one ,two, three](lambda ls:upper(),ls\u001b[0m\n\u001b[1;37m                                             ^\u001b[0m\n\u001b[1;31m_IncompleteInputError\u001b[0m\u001b[1;31m:\u001b[0m incomplete input\n"
     ]
    }
   ],
   "source": [
    "ls=[one ,two, three](lambda ls:upper(),ls"
   ]
  }
 ],
 "metadata": {
  "kernelspec": {
   "display_name": "Python 3 (ipykernel)",
   "language": "python",
   "name": "python3"
  },
  "language_info": {
   "codemirror_mode": {
    "name": "ipython",
    "version": 3
   },
   "file_extension": ".py",
   "mimetype": "text/x-python",
   "name": "python",
   "nbconvert_exporter": "python",
   "pygments_lexer": "ipython3",
   "version": "3.13.4"
  }
 },
 "nbformat": 4,
 "nbformat_minor": 5
}
