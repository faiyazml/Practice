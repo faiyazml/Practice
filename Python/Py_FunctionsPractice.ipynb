{
 "cells": [
  {
   "cell_type": "code",
   "execution_count": 17,
   "id": "938591be-171e-4f7c-ac33-764a0b0177f3",
   "metadata": {},
   "outputs": [],
   "source": [
    "# Take an input from user and find the length of words of given user inpput\n",
    "def count_words():\n",
    "    sentence = input(\"Enter a sentence : \")\n",
    "    return len(sentence.split(' '))"
   ]
  },
  {
   "cell_type": "code",
   "execution_count": 18,
   "id": "5bbb3f32-34a4-430c-8ed3-b8ca6734f10a",
   "metadata": {},
   "outputs": [
    {
     "name": "stdin",
     "output_type": "stream",
     "text": [
      "Enter a sentence :  Hi I am Good Today and what about U\n"
     ]
    },
    {
     "data": {
      "text/plain": [
       "9"
      ]
     },
     "execution_count": 18,
     "metadata": {},
     "output_type": "execute_result"
    }
   ],
   "source": [
    "count_words()"
   ]
  },
  {
   "cell_type": "code",
   "execution_count": null,
   "id": "b92a3b3c-902a-4e64-8955-63b3499bf27d",
   "metadata": {},
   "outputs": [],
   "source": [
    "# Take an input from user and find the length of words of given user inpput\n",
    "def counting(sentence):\n",
    "    count = 1\n",
    "    for char in sentence:\n",
    "        if char == ' ':\n",
    "            count += 1\n",
    "    return count\n",
    "sentence = input(\"Enter a sentence: \")\n",
    "print(\"No. of words:\", counting(sentence))"
   ]
  }
 ],
 "metadata": {
  "kernelspec": {
   "display_name": "Python 3 (ipykernel)",
   "language": "python",
   "name": "python3"
  },
  "language_info": {
   "codemirror_mode": {
    "name": "ipython",
    "version": 3
   },
   "file_extension": ".py",
   "mimetype": "text/x-python",
   "name": "python",
   "nbconvert_exporter": "python",
   "pygments_lexer": "ipython3",
   "version": "3.13.4"
  }
 },
 "nbformat": 4,
 "nbformat_minor": 5
}
