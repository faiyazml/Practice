{
 "cells": [
  {
   "cell_type": "code",
   "execution_count": 9,
   "id": "70f985e4-0be2-4617-ba12-e56fd67d9b6c",
   "metadata": {},
   "outputs": [
    {
     "name": "stdout",
     "output_type": "stream",
     "text": [
      "[1, 2, 3, 4, 5]\n"
     ]
    }
   ],
   "source": [
    "apples = [1, 2, 3, 4, 5]  # These are your apples (each number is an apple)\n",
    "\n",
    "new_apples = [apple for apple in apples]\n",
    "print(new_apples)"
   ]
  },
  {
   "cell_type": "code",
   "execution_count": 12,
   "id": "537fa6a4-77f1-4789-8d14-e5c90ad4a629",
   "metadata": {},
   "outputs": [
    {
     "name": "stdout",
     "output_type": "stream",
     "text": [
      "[2, 4, 6, 8, 10]\n"
     ]
    }
   ],
   "source": [
    "apples = [1, 2, 3, 4, 5]  # These are your apples (each number is an apple)\n",
    "\n",
    "new_apples = [apple * 2 for apple in apples]\n",
    "print(new_apples)  # [2, 4, 6, 8, 10]"
   ]
  },
  {
   "cell_type": "code",
   "execution_count": 13,
   "id": "f3ed19f0-8184-47a8-83bf-da405ce13400",
   "metadata": {},
   "outputs": [
    {
     "name": "stdout",
     "output_type": "stream",
     "text": [
      "[1, 4, 9, 16, 25]\n"
     ]
    }
   ],
   "source": [
    "numbers = [1, 2, 3, 4, 5]\n",
    "\n",
    "new_nums = [number ** 2 for number in numbers]\n",
    "print(new_nums)"
   ]
  },
  {
   "cell_type": "code",
   "execution_count": 15,
   "id": "8d9f4107-577c-495e-b47b-62e0fe282926",
   "metadata": {},
   "outputs": [
    {
     "name": "stdout",
     "output_type": "stream",
     "text": [
      "[68.0, 77.0, 86.0, 95.0]\n"
     ]
    }
   ],
   "source": [
    "# Convert each temperature to Fahrenheit using the formula:\n",
    "# F = C × 9/5 + 32\n",
    "temperatures_celsius = [20, 25, 30, 35]\n",
    "\n",
    "f = [c * 9/5 + 32 for c in temperatures_celsius]\n",
    "print(f)"
   ]
  },
  {
   "cell_type": "code",
   "execution_count": 16,
   "id": "e877bcbd-c076-4266-b001-a3837250c0a8",
   "metadata": {},
   "outputs": [
    {
     "name": "stdout",
     "output_type": "stream",
     "text": [
      "[3, 4, 5, 6]\n"
     ]
    }
   ],
   "source": [
    "#Q5: Create a new list using list comprehension that contains the length of each name in the list below.\n",
    "names = ['Ali', 'Zara', 'Ahmed', 'Fatima']\n",
    "\n",
    "len_names = [len(name) for name in names]\n",
    "print(len_names)"
   ]
  },
  {
   "cell_type": "code",
   "execution_count": 18,
   "id": "657382ad-febc-45dd-8a5b-414347b55b0e",
   "metadata": {},
   "outputs": [
    {
     "name": "stdout",
     "output_type": "stream",
     "text": [
      "['HELLO', 'WORLD', 'PYTHON', 'ROCKS']\n"
     ]
    }
   ],
   "source": [
    "#Q6: Create a new list using list comprehension that converts each word in the list to uppercase.\n",
    "words = ['hello', 'world', 'python', 'rocks']\n",
    "\n",
    "up_words = [word.upper() for word in words]\n",
    "print(up_words)"
   ]
  },
  {
   "cell_type": "code",
   "execution_count": 21,
   "id": "f29a5882-0283-4fa4-b132-1117f1e73d2a",
   "metadata": {},
   "outputs": [
    {
     "name": "stdout",
     "output_type": "stream",
     "text": [
      "[1, 2, 3, 4, 5, 6, 7, 8, 9]\n"
     ]
    }
   ],
   "source": [
    "#Q7: Create a new list using list comprehension that contains the squares of even numbers from the list below.\n",
    "numbers = [1, 2, 3, 4, 5, 6, 7, 8, 9]\n",
    "\n",
    "final = [num for num in numbers]\n",
    "print(final)"
   ]
  },
  {
   "cell_type": "code",
   "execution_count": 4,
   "id": "0a26366c-dd43-409c-af21-7a67c8519d99",
   "metadata": {},
   "outputs": [
    {
     "name": "stdout",
     "output_type": "stream",
     "text": [
      "[4, 16, 36, 64]\n"
     ]
    }
   ],
   "source": [
    "#Q7: Create a new list using list comprehension that contains the squares of even numbers from the list below.\n",
    "numbers = [1, 2, 3, 4, 5, 6, 7, 8, 9]\n",
    "\n",
    "new = [num ** 2 for num in numbers if num % 2 == 0]\n",
    "print(new)"
   ]
  },
  {
   "cell_type": "code",
   "execution_count": 11,
   "id": "6c1d58e2-9dcb-4e35-9681-a591c143b3e6",
   "metadata": {},
   "outputs": [
    {
     "name": "stdout",
     "output_type": "stream",
     "text": [
      "['HELLO', 'WORLD', 'PYTHON', 'ROCKS']\n"
     ]
    }
   ],
   "source": [
    "#Q8: Create a new list using list comprehension that contains the words in uppercase, but only those with more than 4 characters from the list below.\n",
    "words = ['hello', 'world', 'python', 'rocks', 'sun']\n",
    "\n",
    "solution = [i.upper() for i in words if len(i) > 4]\n",
    "print(solution)"
   ]
  },
  {
   "cell_type": "code",
   "execution_count": 24,
   "id": "cb180850-1583-4f95-bf37-cbbdca505af1",
   "metadata": {},
   "outputs": [
    {
     "name": "stdout",
     "output_type": "stream",
     "text": [
      "['a', 'b', 'c', 'd']\n"
     ]
    }
   ],
   "source": [
    "#Q9: Create a new list using list comprehension that contains the first letter of each word in the list below.\n",
    "words = ['apple', 'banana', 'cherry', 'date']\n",
    "\n",
    "new = [word[0] for word in words]\n",
    "print(new)"
   ]
  },
  {
   "cell_type": "code",
   "execution_count": 29,
   "id": "0b05157a-50b6-4fd9-ad90-39cea9d73a95",
   "metadata": {},
   "outputs": [
    {
     "name": "stdout",
     "output_type": "stream",
     "text": [
      "[-3, -8, -1, -4]\n"
     ]
    }
   ],
   "source": [
    "#Q10: Create a new list using list comprehension that contains only the negative numbers from the list below.\n",
    "numbers = [10, -3, 5, -8, 2, -1, 6, -4]\n",
    "\n",
    "new = [num for num in numbers if num < 0]\n",
    "print(new)"
   ]
  },
  {
   "cell_type": "code",
   "execution_count": 30,
   "id": "9ce7ffdb-ec9b-494d-a827-6aba6ecb7fef",
   "metadata": {},
   "outputs": [
    {
     "name": "stdout",
     "output_type": "stream",
     "text": [
      "[2.0, 3.0, 4.0, 5.0, 6.0]\n"
     ]
    }
   ],
   "source": [
    "#Q11: Create a new list using list comprehension that contains the square root of each number in the list below.\n",
    "import math\n",
    "numbers = [4, 9, 16, 25, 36]\n",
    "\n",
    "roots = [math.sqrt(num) for num in numbers]\n",
    "print(roots)"
   ]
  },
  {
   "cell_type": "code",
   "execution_count": 1,
   "id": "8cb8dfde-ad45-4b35-842c-ac82483715a3",
   "metadata": {},
   "outputs": [
    {
     "name": "stdout",
     "output_type": "stream",
     "text": [
      "[2, 4, 6, 8, 10]\n"
     ]
    }
   ],
   "source": [
    "# Q1: Use list comprehension to extract only even numbers from the given list.\n",
    "numbers = [1, 2, 3, 4, 5, 6, 7, 8, 9, 10]\n",
    "\n",
    "# Your code here:\n",
    "new = [num for num in numbers if num % 2 == 0]\n",
    "print(new)"
   ]
  },
  {
   "cell_type": "code",
   "execution_count": 2,
   "id": "46eadb62-5af8-4d9e-9b51-1b70879b062f",
   "metadata": {},
   "outputs": [
    {
     "name": "stdout",
     "output_type": "stream",
     "text": [
      "[1, 4, 9, 16, 25]\n"
     ]
    }
   ],
   "source": [
    "# Q2: Use list comprehension to create a new list where each element is the square of the numbers in the given list.\n",
    "numbers = [1, 2, 3, 4, 5]\n",
    "\n",
    "# Your code here:\n",
    "new = [num ** 2 for num in numbers]\n",
    "print(new)"
   ]
  },
  {
   "cell_type": "code",
   "execution_count": 4,
   "id": "8d8460e4-d135-47e2-88fe-6224149d8f8d",
   "metadata": {},
   "outputs": [
    {
     "name": "stdout",
     "output_type": "stream",
     "text": [
      "['world', 'python']\n"
     ]
    }
   ],
   "source": [
    "# Q3: Use list comprehension to create a new list containing only the words that have more than 3 characters.\n",
    "words = [\"hi\", \"world\", \"a\", \"python\", \"is\", \"fun\"]\n",
    "\n",
    "# Your code here:\n",
    "new = [word for word in words if len(word) > 3]\n",
    "print(new)"
   ]
  },
  {
   "cell_type": "code",
   "execution_count": 5,
   "id": "61e487c4-6423-49b3-9cc9-c62a9d34a6ed",
   "metadata": {},
   "outputs": [
    {
     "name": "stdout",
     "output_type": "stream",
     "text": [
      "['APPLE', 'BANANA', 'CHERRY', 'MANGO']\n"
     ]
    }
   ],
   "source": [
    "# Q4: Use list comprehension to convert all strings in the list to uppercase.\n",
    "fruits = [\"apple\", \"banana\", \"cherry\", \"mango\"]\n",
    "\n",
    "# Your code here:\n",
    "new = [word.upper() for word in fruits]\n",
    "print(new)"
   ]
  },
  {
   "cell_type": "code",
   "execution_count": 8,
   "id": "d87b67bf-cbb5-4734-99ff-b1949fa8e29e",
   "metadata": {},
   "outputs": [
    {
     "name": "stdout",
     "output_type": "stream",
     "text": [
      "[(1, 1), (2, 4), (3, 9), (4, 16), (5, 25)]\n"
     ]
    }
   ],
   "source": [
    "# Q5: Use list comprehension to create a list of tuples where each tuple contains the number and its square.\n",
    "numbers = [1, 2, 3, 4, 5]     # Output [(1, 1), (2, 4), (3, 9), (4, 16), (5, 25)]\n",
    "\n",
    "# Your code here:\n",
    "new = [(num, num**2) for num in numbers]\n",
    "print(new)"
   ]
  },
  {
   "cell_type": "code",
   "execution_count": 9,
   "id": "71fac3c3-d0cf-4ad4-adc2-1a20886ff946",
   "metadata": {},
   "outputs": [
    {
     "name": "stdout",
     "output_type": "stream",
     "text": [
      "[-5, -1, -42]\n"
     ]
    }
   ],
   "source": [
    "# Q6: Use list comprehension to filter out all the negative numbers from the list.\n",
    "numbers = [-5, 3, -1, 101, -42, 0, 9]\n",
    "\n",
    "# Your code here:\n",
    "new = [num for num in numbers if num < 0]\n",
    "print(new)"
   ]
  },
  {
   "cell_type": "code",
   "execution_count": 7,
   "id": "1754e22c-efc9-4ff3-9b7a-87bf3f0a50a4",
   "metadata": {},
   "outputs": [
    {
     "name": "stdout",
     "output_type": "stream",
     "text": [
      "['i', 'o', 'e', 'e', 'i', 'o', 'i', 'o', 'i', 'o', 'e', 'u', 'a', 'o', 'a']\n"
     ]
    }
   ],
   "source": [
    "# Q7: Use list comprehension to extract all vowels from the given string.\n",
    "text = \"List comprehension in Python is powerful and compact.\"\n",
    "\n",
    "# Your code here:\n",
    "vowels = [char for char in text if char.lower() in 'aeiou']\n",
    "print(vowels)"
   ]
  },
  {
   "cell_type": "code",
   "execution_count": 2,
   "id": "94670e2f-7a94-4100-b919-5ad42d8ed88e",
   "metadata": {},
   "outputs": [
    {
     "name": "stdout",
     "output_type": "stream",
     "text": [
      "True\n"
     ]
    }
   ],
   "source": []
  }
 ],
 "metadata": {
  "kernelspec": {
   "display_name": "Python 3 (ipykernel)",
   "language": "python",
   "name": "python3"
  },
  "language_info": {
   "codemirror_mode": {
    "name": "ipython",
    "version": 3
   },
   "file_extension": ".py",
   "mimetype": "text/x-python",
   "name": "python",
   "nbconvert_exporter": "python",
   "pygments_lexer": "ipython3",
   "version": "3.13.4"
  }
 },
 "nbformat": 4,
 "nbformat_minor": 5
}
