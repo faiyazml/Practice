{
 "cells": [
  {
   "cell_type": "code",
   "execution_count": null,
   "id": "6879200c-45e5-4657-a66c-27d4409f156b",
   "metadata": {},
   "outputs": [],
   "source": [
    "fruits = []\n",
    "fruit_input = input(\"Enter fruits name :  \")\n",
    "fruits.append(fruit_input)\n",
    "print(fruits)"
   ]
  },
  {
   "cell_type": "code",
   "execution_count": 1,
   "id": "4443ddae-8374-4662-91b9-cebab84c1743",
   "metadata": {},
   "outputs": [
    {
     "name": "stdout",
     "output_type": "stream",
     "text": [
      "['apple', 'banana', 'cherry', 'orange']\n"
     ]
    }
   ],
   "source": [
    "# Ek list di gayi hai:\n",
    "fruits = ['apple', 'banana', 'cherry']\n",
    "\n",
    "# Is list ke end mein 'orange' add karke updated list print kijiye.\n",
    "fruits.append('orange')\n",
    "print(fruits)"
   ]
  },
  {
   "cell_type": "code",
   "execution_count": 2,
   "id": "c7eafd62-9558-454d-a8f4-3378198b3ce7",
   "metadata": {},
   "outputs": [
    {
     "name": "stdout",
     "output_type": "stream",
     "text": [
      "[10, 20, 25, 30, 40, 50]\n"
     ]
    }
   ],
   "source": [
    "# Ek list di gayi hai:\n",
    "numbers = [10, 20, 30, 40, 50]\n",
    "\n",
    "# Is list mein index 2 par value 25 insert karni hai.\n",
    "# List update karke print kijiye.\n",
    "numbers.insert(2, 25)\n",
    "print(numbers)"
   ]
  },
  {
   "cell_type": "code",
   "execution_count": 3,
   "id": "d833ee51-6f0c-4793-b781-f8c94dca334a",
   "metadata": {},
   "outputs": [
    {
     "name": "stdout",
     "output_type": "stream",
     "text": [
      "['Zara', 'Ahmed', 'Sara', 'Ali']\n"
     ]
    }
   ],
   "source": [
    "# Ek list di gayi hai:\n",
    "names = ['Ali', 'Zara', 'Ahmed', 'Sara', 'Ali']\n",
    "\n",
    "# List mein se sirf pehla 'Ali' hataaiye.\n",
    "# Updated list print kijiye.\n",
    "names.remove('Ali')\n",
    "print(names)"
   ]
  },
  {
   "cell_type": "code",
   "execution_count": 4,
   "id": "552bce2e-7bd8-4aa1-8b5e-bb7de05e3c8a",
   "metadata": {},
   "outputs": [
    {
     "name": "stdout",
     "output_type": "stream",
     "text": [
      "[88, 76, 92, 85]\n"
     ]
    }
   ],
   "source": [
    "# Ek list di gayi hai:\n",
    "marks = [88, 76, 92, 85, 69]\n",
    "\n",
    "# List ka aakhri element hataaiye aur usse print bhi kijiye.\n",
    "# Uske baad updated list bhi print kijiye.\n",
    "marks.pop()\n",
    "print(marks)"
   ]
  },
  {
   "cell_type": "code",
   "execution_count": 10,
   "id": "8f79ce50-ae6d-4cea-844d-1c3724733ec2",
   "metadata": {},
   "outputs": [
    {
     "name": "stdout",
     "output_type": "stream",
     "text": [
      "['yellow', 'green', 'blue', 'red']\n"
     ]
    }
   ],
   "source": [
    "# Ek list di gayi hai:\n",
    "colors = ['red', 'blue', 'green', 'yellow']\n",
    "\n",
    "# Is list ko reverse order mein kar ke print kijiye.\n",
    "colors.reverse()\n",
    "print(colors)"
   ]
  },
  {
   "cell_type": "code",
   "execution_count": 12,
   "id": "54a11f6f-29cd-482a-8618-052ebb7cb6bc",
   "metadata": {},
   "outputs": [
    {
     "name": "stdout",
     "output_type": "stream",
     "text": [
      "[1, 2, 3, 7, 9]\n"
     ]
    }
   ],
   "source": [
    "# Ek list di gayi hai:\n",
    "data = [3, 7, 1, 9, 2]\n",
    "\n",
    "# Is list ko ascending order mein sort karke print kijiye.\n",
    "data.sort()\n",
    "print(data)"
   ]
  },
  {
   "cell_type": "code",
   "execution_count": 17,
   "id": "ce4af6d9-a489-4ffb-b512-31d15f1521fe",
   "metadata": {},
   "outputs": [
    {
     "name": "stdout",
     "output_type": "stream",
     "text": [
      "['pen', 'pencil', 'eraser', 'sharpener']\n"
     ]
    }
   ],
   "source": [
    "# Ek list di gayi hai:\n",
    "items = ['pen', 'pencil', 'eraser', 'sharpener']\n",
    "\n",
    "# List ko copy karke ek nayi list banaiye jiska naam new_items ho.\n",
    "# Dono lists ko print karke dikhaiye.\n",
    "new_items = items.copy()\n",
    "print(new_items)"
   ]
  },
  {
   "cell_type": "code",
   "execution_count": 20,
   "id": "673321ce-25f6-400f-8fb5-5c9361bba5c1",
   "metadata": {},
   "outputs": [
    {
     "name": "stdout",
     "output_type": "stream",
     "text": [
      "3\n"
     ]
    }
   ],
   "source": [
    "# Ek list di gayi hai:\n",
    "scores = [45, 67, 89, 45, 67, 89, 45]\n",
    "\n",
    "# List mein 45 kitni baar aaya hai, count karke print kijiye.\n",
    "print(scores.count(45))  # it should be in a print statement"
   ]
  },
  {
   "cell_type": "code",
   "execution_count": 21,
   "id": "c45026c2-d83c-4f37-8927-7f17cf55bbf5",
   "metadata": {},
   "outputs": [
    {
     "name": "stdout",
     "output_type": "stream",
     "text": [
      "[1, 2, 3, 4, 5, 6]\n"
     ]
    }
   ],
   "source": [
    "# Do lists di gayi hain:\n",
    "a = [1, 2, 3]\n",
    "b = [4, 5, 6]\n",
    "\n",
    "# List 'b' ke elements list 'a' ke end mein jod dijiye.\n",
    "# Updated list 'a' print kijiye.\n",
    "a.extend(b)\n",
    "print(a)"
   ]
  },
  {
   "cell_type": "code",
   "execution_count": 30,
   "id": "ec80ab18-d433-4e23-9716-c15995246eeb",
   "metadata": {},
   "outputs": [
    {
     "name": "stdout",
     "output_type": "stream",
     "text": [
      "['a', 'b', 'c', 'd']\n"
     ]
    }
   ],
   "source": [
    "# Ek list di gayi hai:\n",
    "chars = ['a', 'b', 'c', 'd', 'e']\n",
    "\n",
    "# List ke last element ko delete kar dijiye (without using pop).\n",
    "# Updated list print kijiye.\n",
    "chars.remove('e')\n",
    "print(chars)"
   ]
  },
  {
   "cell_type": "code",
   "execution_count": 2,
   "id": "e7980d34-5c40-449b-b31a-6e1f16644af8",
   "metadata": {},
   "outputs": [
    {
     "name": "stdout",
     "output_type": "stream",
     "text": [
      "[3, 4, 5]\n"
     ]
    }
   ],
   "source": [
    "a = [1, 2, 3, 4, 5]\n",
    "print(a[2:6])"
   ]
  },
  {
   "cell_type": "code",
   "execution_count": null,
   "id": "c67f651f-e40e-48bf-be83-f6e9e7d44d48",
   "metadata": {},
   "outputs": [],
   "source": [
    "# List comprehension ka use karke 1 se 5 tak ke numbers ka square ki list banao.\n"
   ]
  },
  {
   "cell_type": "code",
   "execution_count": null,
   "id": "d6cdb56f-8c4c-4e49-8c30-b43251ab80f3",
   "metadata": {},
   "outputs": [],
   "source": [
    "# Ek list di gayi hai:\n",
    "scores = [45, 67, 89, 45, 67, 89, 45]\n",
    "\n",
    "# List mein 45 kitni baar aaya hai, count karke print kijiye.\n",
    "print(scores.count(45))  # it should be in a print statement"
   ]
  },
  {
   "cell_type": "code",
   "execution_count": null,
   "id": "fc5cb715-7cab-42cb-8242-b22db4992f0e",
   "metadata": {},
   "outputs": [],
   "source": []
  }
 ],
 "metadata": {
  "kernelspec": {
   "display_name": "Python 3 (ipykernel)",
   "language": "python",
   "name": "python3"
  },
  "language_info": {
   "codemirror_mode": {
    "name": "ipython",
    "version": 3
   },
   "file_extension": ".py",
   "mimetype": "text/x-python",
   "name": "python",
   "nbconvert_exporter": "python",
   "pygments_lexer": "ipython3",
   "version": "3.13.4"
  }
 },
 "nbformat": 4,
 "nbformat_minor": 5
}
