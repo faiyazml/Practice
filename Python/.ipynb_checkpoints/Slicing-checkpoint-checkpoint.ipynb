{
 "cells": [
  {
   "cell_type": "code",
   "execution_count": 6,
   "id": "2f31e728-fad2-4126-b166-5cb219bb6e2c",
   "metadata": {},
   "outputs": [
    {
     "data": {
      "text/plain": [
       "'morning'"
      ]
     },
     "execution_count": 6,
     "metadata": {},
     "output_type": "execute_result"
    }
   ],
   "source": [
    "# Q1: Given the string below, extract the word \"morning\" using slicing.\n",
    "text = \"Good morning, have a nice day!\"\n",
    "# solution\n",
    "text[5:12]"
   ]
  },
  {
   "cell_type": "code",
   "execution_count": 8,
   "id": "f7430fe7-77c6-46fa-a149-191055030a6e",
   "metadata": {},
   "outputs": [
    {
     "data": {
      "text/plain": [
       "'lufrewop si nohtyP'"
      ]
     },
     "execution_count": 8,
     "metadata": {},
     "output_type": "execute_result"
    }
   ],
   "source": [
    "# Q2: Given the string below, reverse the entire string using slicing.\n",
    "text = \"Python is powerful\"\n",
    "# solution\n",
    "text[::-1]"
   ]
  },
  {
   "cell_type": "code",
   "execution_count": 15,
   "id": "513ebf45-27e0-478a-b83b-5306fcc5da90",
   "metadata": {},
   "outputs": [
    {
     "data": {
      "text/plain": [
       "'Data'"
      ]
     },
     "execution_count": 15,
     "metadata": {},
     "output_type": "execute_result"
    }
   ],
   "source": [
    "# Q3: Given the string below, extract only the word \"Data\" using slicing.\n",
    "text = \"Learn Data Science with fun!\"\n",
    "# solution\n",
    "text[6:10]"
   ]
  },
  {
   "cell_type": "code",
   "execution_count": 20,
   "id": "2a1e6a6a-fc6f-45ed-87fa-f71033b5ffa0",
   "metadata": {},
   "outputs": [
    {
     "data": {
      "text/plain": [
       "'World'"
      ]
     },
     "execution_count": 20,
     "metadata": {},
     "output_type": "execute_result"
    }
   ],
   "source": [
    "# Q4: Given the string below, extract the word \"World\" using slicing.\n",
    "text = \"Hello World!\"\n",
    "# solution\n",
    "text[6:11]"
   ]
  },
  {
   "cell_type": "code",
   "execution_count": 21,
   "id": "458beb48-9216-4984-9aac-f68c2a2af5e5",
   "metadata": {},
   "outputs": [
    {
     "data": {
      "text/plain": [
       "'thon'"
      ]
     },
     "execution_count": 21,
     "metadata": {},
     "output_type": "execute_result"
    }
   ],
   "source": [
    "# Q5: Given the string below, extract the word \"thon\" using slicing.\n",
    "text = \"Python Programming\"\n",
    "# solution\n",
    "text[2:6]"
   ]
  },
  {
   "cell_type": "code",
   "execution_count": 25,
   "id": "fd4a1629-d4ba-4705-a034-385432a9409d",
   "metadata": {},
   "outputs": [
    {
     "data": {
      "text/plain": [
       "'rning'"
      ]
     },
     "execution_count": 25,
     "metadata": {},
     "output_type": "execute_result"
    }
   ],
   "source": [
    "# Q6: Given the string below, extract the last 5 characters using slicing.\n",
    "text = \"Machine Learning\"\n",
    "# solution\n",
    "text[-5:]"
   ]
  },
  {
   "cell_type": "code",
   "execution_count": 27,
   "id": "adecd736-e0a8-49c6-8ef7-50df075246ec",
   "metadata": {},
   "outputs": [
    {
     "data": {
      "text/plain": [
       "'DtSine'"
      ]
     },
     "execution_count": 27,
     "metadata": {},
     "output_type": "execute_result"
    }
   ],
   "source": [
    "# Q7: Given the string below, extract every alternate character starting from the 2nd character.\n",
    "text = \"DataScience\"\n",
    "# solution\n",
    "text[::2]"
   ]
  },
  {
   "cell_type": "code",
   "execution_count": 28,
   "id": "79e22697-2091-4298-8b37-c9e974d6f6b1",
   "metadata": {},
   "outputs": [
    {
     "data": {
      "text/plain": [
       "'ificia'"
      ]
     },
     "execution_count": 28,
     "metadata": {},
     "output_type": "execute_result"
    }
   ],
   "source": [
    "# Q8: Given the string below, extract the characters from index 3 to 8 using slicing.\n",
    "text = \"Artificial Intelligence\"\n",
    "# solution\n",
    "text[3:9]"
   ]
  },
  {
   "cell_type": "code",
   "execution_count": 30,
   "id": "1598e689-fa4b-44ba-ac2a-369cfa7679be",
   "metadata": {},
   "outputs": [
    {
     "data": {
      "text/plain": [
       "'Deep'"
      ]
     },
     "execution_count": 30,
     "metadata": {},
     "output_type": "execute_result"
    }
   ],
   "source": [
    "# Q9: Given the string below, extract the characters from the beginning till index 4 (excluding index 4).\n",
    "text = \"DeepLearning\"\n",
    "# solution\n",
    "text[:4]"
   ]
  },
  {
   "cell_type": "code",
   "execution_count": 32,
   "id": "35fe1838-df02-41db-bf4d-d354647ee996",
   "metadata": {},
   "outputs": [
    {
     "data": {
      "text/plain": [
       "'margorP'"
      ]
     },
     "execution_count": 32,
     "metadata": {},
     "output_type": "execute_result"
    }
   ],
   "source": [
    "# Q10: Given the string below, extract the string in reverse order, but only for the first 6 characters.\n",
    "text = \"Programming\"\n",
    "# solution\n",
    "text[6::-1]"
   ]
  },
  {
   "cell_type": "code",
   "execution_count": 34,
   "id": "b816e6cb-750f-4f96-a77c-17915d6afadc",
   "metadata": {},
   "outputs": [
    {
     "data": {
      "text/plain": [
       "'perCode'"
      ]
     },
     "execution_count": 34,
     "metadata": {},
     "output_type": "execute_result"
    }
   ],
   "source": [
    "# Q11: Given the string below, extract the characters from index 2 to the second last index.\n",
    "text = \"SuperCoder\"\n",
    "# solution\n",
    "text[2:-1]"
   ]
  },
  {
   "cell_type": "code",
   "execution_count": 39,
   "id": "942336af-8918-4494-af6d-8491e56c1b7f",
   "metadata": {},
   "outputs": [
    {
     "data": {
      "text/plain": [
       "'ecn'"
      ]
     },
     "execution_count": 39,
     "metadata": {},
     "output_type": "execute_result"
    }
   ],
   "source": [
    "# Q12: Given the string below, extract the last 3 characters in reverse order.\n",
    "text = \"DataScience\"\n",
    "# solution\n",
    "text[-1:-4:-1]"
   ]
  },
  {
   "cell_type": "code",
   "execution_count": 42,
   "id": "b3ef9867-cb7c-49ba-9549-e46e74e7e073",
   "metadata": {},
   "outputs": [
    {
     "data": {
      "text/plain": [
       "'eLear'"
      ]
     },
     "execution_count": 42,
     "metadata": {},
     "output_type": "execute_result"
    }
   ],
   "source": [
    "# Q13: Given the string below, extract the middle 4 characters.\n",
    "text = \"MachineLearning\"\n",
    "# solution\n",
    "text[6:11]"
   ]
  },
  {
   "cell_type": "code",
   "execution_count": 53,
   "id": "6d6b1048-2d78-46b7-9323-58fa1eac2240",
   "metadata": {},
   "outputs": [
    {
     "data": {
      "text/plain": [
       "'Artif'"
      ]
     },
     "execution_count": 53,
     "metadata": {},
     "output_type": "execute_result"
    }
   ],
   "source": [
    "# Q14: Given the string below, extract the first 5 characters and the last 5 characters.\n",
    "text = \"ArtificialIntelligence\"\n",
    "# solution\n",
    "text[:5]\n",
    "text[-6:-1]"
   ]
  },
  {
   "cell_type": "code",
   "execution_count": 54,
   "id": "480ce96d-f071-45a6-912e-02901a834d22",
   "metadata": {},
   "outputs": [
    {
     "data": {
      "text/plain": [
       "'aiLrn'"
      ]
     },
     "execution_count": 54,
     "metadata": {},
     "output_type": "execute_result"
    }
   ],
   "source": [
    "# Q15: Given the string below, extract every third character starting from index 1.\n",
    "text = \"MachineLearning\"\n",
    "# solution\n",
    "text[1::3]"
   ]
  },
  {
   "cell_type": "code",
   "execution_count": 57,
   "id": "a055c374-b695-4cbd-bcfb-21b4084f35fa",
   "metadata": {},
   "outputs": [
    {
     "data": {
      "text/plain": [
       "'Intelligence'"
      ]
     },
     "execution_count": 57,
     "metadata": {},
     "output_type": "execute_result"
    }
   ],
   "source": [
    "# Q16: Given the string below, extract the string \"Intelligence\" without using any loop.\n",
    "text = \"ArtificialIntelligence\"\n",
    "# solution\n",
    "text[10:]"
   ]
  },
  {
   "cell_type": "code",
   "execution_count": 58,
   "id": "583f7711-9b23-4505-8880-28d30f87e7f4",
   "metadata": {},
   "outputs": [
    {
     "data": {
      "text/plain": [
       "'Science'"
      ]
     },
     "execution_count": 58,
     "metadata": {},
     "output_type": "execute_result"
    }
   ],
   "source": [
    "# Q17: Given the string below, extract the substring \"Science\" using slicing.\n",
    "text = \"DataScience\"\n",
    "# solution\n",
    "text[4:]"
   ]
  },
  {
   "cell_type": "code",
   "execution_count": 59,
   "id": "88f18c8d-2edb-41c9-8d53-ec4197fb2a9b",
   "metadata": {},
   "outputs": [
    {
     "data": {
      "text/plain": [
       "'cieer'"
      ]
     },
     "execution_count": 59,
     "metadata": {},
     "output_type": "execute_result"
    }
   ],
   "source": [
    "# Q18: Given the string below, extract every alternate character starting from index 2 to 10.\n",
    "text = \"MachineLearning\"\n",
    "# solution\n",
    "text[2:11:2]"
   ]
  },
  {
   "cell_type": "code",
   "execution_count": 68,
   "id": "c01748fc-e025-4928-8a44-d6d1970bcd3d",
   "metadata": {},
   "outputs": [
    {
     "name": "stdout",
     "output_type": "stream",
     "text": [
      "Suptar\n"
     ]
    }
   ],
   "source": [
    "# Q19: Given the string below, extract the first 3 characters and the last 3 characters together using slicing.\n",
    "text = \"Superstar\"\n",
    "# solution\n",
    "x=text[:3] #sup\n",
    "y=text[6:] #tar\n",
    "print(x+y)"
   ]
  },
  {
   "cell_type": "code",
   "execution_count": 69,
   "id": "ae8416c3-532f-4259-aa76-ed617bfa3e4d",
   "metadata": {},
   "outputs": [
    {
     "data": {
      "text/plain": [
       "'gram'"
      ]
     },
     "execution_count": 69,
     "metadata": {},
     "output_type": "execute_result"
    }
   ],
   "source": [
    "# Q20: Given the string below, extract the substring \"gram\" using slicing.\n",
    "text = \"Programming\"\n",
    "# solution\n",
    "text[3:7]"
   ]
  },
  {
   "cell_type": "code",
   "execution_count": 70,
   "id": "4aac1998-0725-477f-a311-4f4211670562",
   "metadata": {},
   "outputs": [
    {
     "data": {
      "text/plain": [
       "'esadnP'"
      ]
     },
     "execution_count": 70,
     "metadata": {},
     "output_type": "execute_result"
    }
   ],
   "source": [
    "# Q21: Given the string below, extract every 2nd character from index 3 to index -3 (excluding index -3).\n",
    "text = \"UnderstandingPython\"\n",
    "# solution\n",
    "text[3:-4:2]"
   ]
  },
  {
   "cell_type": "code",
   "execution_count": 72,
   "id": "a8ced836-4b19-4e39-8d92-f24400f4bd62",
   "metadata": {},
   "outputs": [
    {
     "data": {
      "text/plain": [
       "'azilausi'"
      ]
     },
     "execution_count": 72,
     "metadata": {},
     "output_type": "execute_result"
    }
   ],
   "source": [
    "# Q22: Given the string below, reverse the substring from index 5 to 12 (inclusive).\n",
    "text = \"DataVisualization\"\n",
    "# solution\n",
    "text[12:4:-1]"
   ]
  },
  {
   "cell_type": "code",
   "execution_count": 74,
   "id": "7ee80457-fd9c-44ea-91e7-5e2f3a17c6b5",
   "metadata": {},
   "outputs": [
    {
     "data": {
      "text/plain": [
       "'nempoleveD'"
      ]
     },
     "execution_count": 74,
     "metadata": {},
     "output_type": "execute_result"
    }
   ],
   "source": [
    "# Q23: Given the string below, extract characters from the start till the second last character in reverse order.\n",
    "text = \"Development\"\n",
    "# solution\n",
    "text[-2::-1]"
   ]
  },
  {
   "cell_type": "code",
   "execution_count": 75,
   "id": "09e5e9c0-df08-4959-a795-c590b1f1d640",
   "metadata": {},
   "outputs": [
    {
     "data": {
      "text/plain": [
       "'nolog'"
      ]
     },
     "execution_count": 75,
     "metadata": {},
     "output_type": "execute_result"
    }
   ],
   "source": [
    "# Q24: Given the string below, extract the substring starting from index 4 up to 4th character from the end (excluding it).\n",
    "text = \"Technological\"\n",
    "# solution\n",
    "text[4:-4]"
   ]
  },
  {
   "cell_type": "code",
   "execution_count": 77,
   "id": "2b25b5f7-ca96-4d2e-a248-a6435ebc6371",
   "metadata": {},
   "outputs": [
    {
     "data": {
      "text/plain": [
       "'pmti'"
      ]
     },
     "execution_count": 77,
     "metadata": {},
     "output_type": "execute_result"
    }
   ],
   "source": [
    "# Q25: Given the string below, extract every 3rd character between index 2 and index -2.\n",
    "text = \"Implementation\"\n",
    "# solution\n",
    "text[2:-2:3]"
   ]
  },
  {
   "cell_type": "code",
   "execution_count": 84,
   "id": "f572e32e-df6b-40e3-863d-9bdef2e17ec2",
   "metadata": {},
   "outputs": [
    {
     "data": {
      "text/plain": [
       "'anidroart'"
      ]
     },
     "execution_count": 84,
     "metadata": {},
     "output_type": "execute_result"
    }
   ],
   "source": [
    "# Q26: Given the string below, reverse only the middle portion of the string (excluding first 2 and last 2 characters).\n",
    "text = \"Extraordinary\"\n",
    "# solution\n",
    "# x=text[2:-2] #traordina\n",
    "# text[5:8]\n",
    "text[2:-2][::-1]  # first slicesed (first 2 idx) and (last 2 idx), then reversed the rest of idx"
   ]
  }
 ],
 "metadata": {
  "kernelspec": {
   "display_name": "Python 3 (ipykernel)",
   "language": "python",
   "name": "python3"
  },
  "language_info": {
   "codemirror_mode": {
    "name": "ipython",
    "version": 3
   },
   "file_extension": ".py",
   "mimetype": "text/x-python",
   "name": "python",
   "nbconvert_exporter": "python",
   "pygments_lexer": "ipython3",
   "version": "3.13.4"
  }
 },
 "nbformat": 4,
 "nbformat_minor": 5
}
