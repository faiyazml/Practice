{
 "cells": [
  {
   "cell_type": "code",
   "execution_count": 1,
   "id": "2f31e728-fad2-4126-b166-5cb219bb6e2c",
   "metadata": {},
   "outputs": [
    {
     "data": {
      "text/plain": [
       "'morning'"
      ]
     },
     "execution_count": 1,
     "metadata": {},
     "output_type": "execute_result"
    }
   ],
   "source": [
    "# Q1: Given the string below, extract the word \"morning\" using slicing.\n",
    "text = \"Good morning, have a nice day!\"\n",
    "# solution\n",
    "text[5:12]"
   ]
  },
  {
   "cell_type": "code",
   "execution_count": 2,
   "id": "f7430fe7-77c6-46fa-a149-191055030a6e",
   "metadata": {},
   "outputs": [
    {
     "data": {
      "text/plain": [
       "'lufrewop si nohtyP'"
      ]
     },
     "execution_count": 2,
     "metadata": {},
     "output_type": "execute_result"
    }
   ],
   "source": [
    "# Q2: Given the string below, reverse the entire string using slicing.\n",
    "text = \"Python is powerful\"\n",
    "# solution\n",
    "text[::-1]"
   ]
  },
  {
   "cell_type": "code",
   "execution_count": 3,
   "id": "513ebf45-27e0-478a-b83b-5306fcc5da90",
   "metadata": {},
   "outputs": [
    {
     "data": {
      "text/plain": [
       "'Data'"
      ]
     },
     "execution_count": 3,
     "metadata": {},
     "output_type": "execute_result"
    }
   ],
   "source": [
    "# Q3: Given the string below, extract only the word \"Data\" using slicing.\n",
    "text = \"Learn Data Science with fun!\"\n",
    "# solution\n",
    "text[6:10]"
   ]
  },
  {
   "cell_type": "code",
   "execution_count": 4,
   "id": "2a1e6a6a-fc6f-45ed-87fa-f71033b5ffa0",
   "metadata": {},
   "outputs": [
    {
     "data": {
      "text/plain": [
       "'World'"
      ]
     },
     "execution_count": 4,
     "metadata": {},
     "output_type": "execute_result"
    }
   ],
   "source": [
    "# Q4: Given the string below, extract the word \"World\" using slicing.\n",
    "text = \"Hello World!\"\n",
    "# solution\n",
    "text[6:11]"
   ]
  },
  {
   "cell_type": "code",
   "execution_count": 5,
   "id": "458beb48-9216-4984-9aac-f68c2a2af5e5",
   "metadata": {},
   "outputs": [
    {
     "data": {
      "text/plain": [
       "'thon'"
      ]
     },
     "execution_count": 5,
     "metadata": {},
     "output_type": "execute_result"
    }
   ],
   "source": [
    "# Q5: Given the string below, extract the word \"thon\" using slicing.\n",
    "text = \"Python Programming\"\n",
    "# solution\n",
    "text[2:6]"
   ]
  },
  {
   "cell_type": "code",
   "execution_count": 6,
   "id": "fd4a1629-d4ba-4705-a034-385432a9409d",
   "metadata": {},
   "outputs": [
    {
     "data": {
      "text/plain": [
       "'rning'"
      ]
     },
     "execution_count": 6,
     "metadata": {},
     "output_type": "execute_result"
    }
   ],
   "source": [
    "# Q6: Given the string below, extract the last 5 characters using slicing.\n",
    "text = \"Machine Learning\"\n",
    "# solution\n",
    "text[-5:]"
   ]
  },
  {
   "cell_type": "code",
   "execution_count": 7,
   "id": "adecd736-e0a8-49c6-8ef7-50df075246ec",
   "metadata": {},
   "outputs": [
    {
     "data": {
      "text/plain": [
       "'DtSine'"
      ]
     },
     "execution_count": 7,
     "metadata": {},
     "output_type": "execute_result"
    }
   ],
   "source": [
    "# Q7: Given the string below, extract every alternate character starting from the 2nd character.\n",
    "text = \"DataScience\"\n",
    "# solution\n",
    "text[::2]"
   ]
  },
  {
   "cell_type": "code",
   "execution_count": 8,
   "id": "79e22697-2091-4298-8b37-c9e974d6f6b1",
   "metadata": {},
   "outputs": [
    {
     "data": {
      "text/plain": [
       "'ificia'"
      ]
     },
     "execution_count": 8,
     "metadata": {},
     "output_type": "execute_result"
    }
   ],
   "source": [
    "# Q8: Given the string below, extract the characters from index 3 to 8 using slicing.\n",
    "text = \"Artificial Intelligence\"\n",
    "# solution\n",
    "text[3:9]"
   ]
  },
  {
   "cell_type": "code",
   "execution_count": 9,
   "id": "1598e689-fa4b-44ba-ac2a-369cfa7679be",
   "metadata": {},
   "outputs": [
    {
     "data": {
      "text/plain": [
       "'Deep'"
      ]
     },
     "execution_count": 9,
     "metadata": {},
     "output_type": "execute_result"
    }
   ],
   "source": [
    "# Q9: Given the string below, extract the characters from the beginning till index 4 (excluding index 4).\n",
    "text = \"DeepLearning\"\n",
    "# solution\n",
    "text[:4]"
   ]
  },
  {
   "cell_type": "code",
   "execution_count": 10,
   "id": "35fe1838-df02-41db-bf4d-d354647ee996",
   "metadata": {},
   "outputs": [
    {
     "data": {
      "text/plain": [
       "'margorP'"
      ]
     },
     "execution_count": 10,
     "metadata": {},
     "output_type": "execute_result"
    }
   ],
   "source": [
    "# Q10: Given the string below, extract the string in reverse order, but only for the first 6 characters.\n",
    "text = \"Programming\"\n",
    "# solution\n",
    "text[6::-1]"
   ]
  },
  {
   "cell_type": "code",
   "execution_count": 11,
   "id": "b816e6cb-750f-4f96-a77c-17915d6afadc",
   "metadata": {},
   "outputs": [
    {
     "data": {
      "text/plain": [
       "'perCode'"
      ]
     },
     "execution_count": 11,
     "metadata": {},
     "output_type": "execute_result"
    }
   ],
   "source": [
    "# Q11: Given the string below, extract the characters from index 2 to the second last index.\n",
    "text = \"SuperCoder\"\n",
    "# solution\n",
    "text[2:-1]"
   ]
  },
  {
   "cell_type": "code",
   "execution_count": 12,
   "id": "942336af-8918-4494-af6d-8491e56c1b7f",
   "metadata": {},
   "outputs": [
    {
     "data": {
      "text/plain": [
       "'ecn'"
      ]
     },
     "execution_count": 12,
     "metadata": {},
     "output_type": "execute_result"
    }
   ],
   "source": [
    "# Q12: Given the string below, extract the last 3 characters in reverse order.\n",
    "text = \"DataScience\"\n",
    "# solution\n",
    "text[-1:-4:-1]"
   ]
  },
  {
   "cell_type": "code",
   "execution_count": 13,
   "id": "b3ef9867-cb7c-49ba-9549-e46e74e7e073",
   "metadata": {},
   "outputs": [
    {
     "data": {
      "text/plain": [
       "'eLear'"
      ]
     },
     "execution_count": 13,
     "metadata": {},
     "output_type": "execute_result"
    }
   ],
   "source": [
    "# Q13: Given the string below, extract the middle 4 characters.\n",
    "text = \"MachineLearning\"\n",
    "# solution\n",
    "text[6:11]"
   ]
  },
  {
   "cell_type": "code",
   "execution_count": 14,
   "id": "6d6b1048-2d78-46b7-9323-58fa1eac2240",
   "metadata": {},
   "outputs": [
    {
     "data": {
      "text/plain": [
       "'igenc'"
      ]
     },
     "execution_count": 14,
     "metadata": {},
     "output_type": "execute_result"
    }
   ],
   "source": [
    "# Q14: Given the string below, extract the first 5 characters and the last 5 characters.\n",
    "text = \"ArtificialIntelligence\"\n",
    "# solution\n",
    "text[:5]\n",
    "text[-6:-1]"
   ]
  },
  {
   "cell_type": "code",
   "execution_count": 15,
   "id": "480ce96d-f071-45a6-912e-02901a834d22",
   "metadata": {},
   "outputs": [
    {
     "data": {
      "text/plain": [
       "'aiLrn'"
      ]
     },
     "execution_count": 15,
     "metadata": {},
     "output_type": "execute_result"
    }
   ],
   "source": [
    "# Q15: Given the string below, extract every third character starting from index 1.\n",
    "text = \"MachineLearning\"\n",
    "# solution\n",
    "text[1::3]"
   ]
  },
  {
   "cell_type": "code",
   "execution_count": 16,
   "id": "a055c374-b695-4cbd-bcfb-21b4084f35fa",
   "metadata": {},
   "outputs": [
    {
     "data": {
      "text/plain": [
       "'Intelligence'"
      ]
     },
     "execution_count": 16,
     "metadata": {},
     "output_type": "execute_result"
    }
   ],
   "source": [
    "# Q16: Given the string below, extract the string \"Intelligence\" without using any loop.\n",
    "text = \"ArtificialIntelligence\"\n",
    "# solution\n",
    "text[10:]"
   ]
  },
  {
   "cell_type": "code",
   "execution_count": 17,
   "id": "583f7711-9b23-4505-8880-28d30f87e7f4",
   "metadata": {},
   "outputs": [
    {
     "data": {
      "text/plain": [
       "'Science'"
      ]
     },
     "execution_count": 17,
     "metadata": {},
     "output_type": "execute_result"
    }
   ],
   "source": [
    "# Q17: Given the string below, extract the substring \"Science\" using slicing.\n",
    "text = \"DataScience\"\n",
    "# solution\n",
    "text[4:]"
   ]
  },
  {
   "cell_type": "code",
   "execution_count": 18,
   "id": "88f18c8d-2edb-41c9-8d53-ec4197fb2a9b",
   "metadata": {},
   "outputs": [
    {
     "data": {
      "text/plain": [
       "'cieer'"
      ]
     },
     "execution_count": 18,
     "metadata": {},
     "output_type": "execute_result"
    }
   ],
   "source": [
    "# Q18: Given the string below, extract every alternate character starting from index 2 to 10.\n",
    "text = \"MachineLearning\"\n",
    "# solution\n",
    "text[2:11:2]"
   ]
  },
  {
   "cell_type": "code",
   "execution_count": 19,
   "id": "c01748fc-e025-4928-8a44-d6d1970bcd3d",
   "metadata": {},
   "outputs": [
    {
     "name": "stdout",
     "output_type": "stream",
     "text": [
      "Suptar\n"
     ]
    }
   ],
   "source": [
    "# Q19: Given the string below, extract the first 3 characters and the last 3 characters together using slicing.\n",
    "text = \"Superstar\"\n",
    "# solution\n",
    "x=text[:3] #sup\n",
    "y=text[6:] #tar\n",
    "print(x+y)"
   ]
  },
  {
   "cell_type": "code",
   "execution_count": 20,
   "id": "ae8416c3-532f-4259-aa76-ed617bfa3e4d",
   "metadata": {},
   "outputs": [
    {
     "data": {
      "text/plain": [
       "'gram'"
      ]
     },
     "execution_count": 20,
     "metadata": {},
     "output_type": "execute_result"
    }
   ],
   "source": [
    "# Q20: Given the string below, extract the substring \"gram\" using slicing.\n",
    "text = \"Programming\"\n",
    "# solution\n",
    "text[3:7]"
   ]
  },
  {
   "cell_type": "code",
   "execution_count": 21,
   "id": "4aac1998-0725-477f-a311-4f4211670562",
   "metadata": {},
   "outputs": [
    {
     "data": {
      "text/plain": [
       "'esadnP'"
      ]
     },
     "execution_count": 21,
     "metadata": {},
     "output_type": "execute_result"
    }
   ],
   "source": [
    "# Q21: Given the string below, extract every 2nd character from index 3 to index -3 (excluding index -3).\n",
    "text = \"UnderstandingPython\"\n",
    "# solution\n",
    "text[3:-4:2]"
   ]
  },
  {
   "cell_type": "code",
   "execution_count": 22,
   "id": "a8ced836-4b19-4e39-8d92-f24400f4bd62",
   "metadata": {},
   "outputs": [
    {
     "data": {
      "text/plain": [
       "'azilausi'"
      ]
     },
     "execution_count": 22,
     "metadata": {},
     "output_type": "execute_result"
    }
   ],
   "source": [
    "# Q22: Given the string below, reverse the substring from index 5 to 12 (inclusive).\n",
    "text = \"DataVisualization\"\n",
    "# solution\n",
    "text[12:4:-1]"
   ]
  },
  {
   "cell_type": "code",
   "execution_count": 23,
   "id": "7ee80457-fd9c-44ea-91e7-5e2f3a17c6b5",
   "metadata": {},
   "outputs": [
    {
     "data": {
      "text/plain": [
       "'nempoleveD'"
      ]
     },
     "execution_count": 23,
     "metadata": {},
     "output_type": "execute_result"
    }
   ],
   "source": [
    "# Q23: Given the string below, extract characters from the start till the second last character in reverse order.\n",
    "text = \"Development\"\n",
    "# solution\n",
    "text[-2::-1]"
   ]
  },
  {
   "cell_type": "code",
   "execution_count": 24,
   "id": "09e5e9c0-df08-4959-a795-c590b1f1d640",
   "metadata": {},
   "outputs": [
    {
     "data": {
      "text/plain": [
       "'nolog'"
      ]
     },
     "execution_count": 24,
     "metadata": {},
     "output_type": "execute_result"
    }
   ],
   "source": [
    "# Q24: Given the string below, extract the substring starting from index 4 up to 4th character from the end (excluding it).\n",
    "text = \"Technological\"\n",
    "# solution\n",
    "text[4:-4]"
   ]
  },
  {
   "cell_type": "code",
   "execution_count": 25,
   "id": "2b25b5f7-ca96-4d2e-a248-a6435ebc6371",
   "metadata": {},
   "outputs": [
    {
     "data": {
      "text/plain": [
       "'pmti'"
      ]
     },
     "execution_count": 25,
     "metadata": {},
     "output_type": "execute_result"
    }
   ],
   "source": [
    "# Q25: Given the string below, extract every 3rd character between index 2 and index -2.\n",
    "text = \"Implementation\"\n",
    "# solution\n",
    "text[2:-2:3]"
   ]
  },
  {
   "cell_type": "code",
   "execution_count": 26,
   "id": "f572e32e-df6b-40e3-863d-9bdef2e17ec2",
   "metadata": {},
   "outputs": [
    {
     "data": {
      "text/plain": [
       "'anidroart'"
      ]
     },
     "execution_count": 26,
     "metadata": {},
     "output_type": "execute_result"
    }
   ],
   "source": [
    "# Q26: Given the string below, reverse only the middle portion of the string (excluding first 2 and last 2 characters).\n",
    "text = \"Extraordinary\"\n",
    "# solution\n",
    "# x=text[2:-2] #traordina\n",
    "# text[5:8]\n",
    "text[2:-2][::-1]  # first slicesed (first 2 idx) and (last 2 idx), then reversed the rest of idx"
   ]
  },
  {
   "cell_type": "code",
   "execution_count": 27,
   "id": "5a4c6ef9-b74b-4972-b6c4-78250e86f264",
   "metadata": {},
   "outputs": [
    {
     "data": {
      "text/plain": [
       "'lufrewop si nohtyP'"
      ]
     },
     "execution_count": 27,
     "metadata": {},
     "output_type": "execute_result"
    }
   ],
   "source": [
    "# Given the string below, reverse the entire string using slicing.\n",
    "text = \"Python is powerful\"\n",
    "# solution\n",
    "text[::-1]"
   ]
  },
  {
   "cell_type": "code",
   "execution_count": 28,
   "id": "8e349ac8-9fab-4639-ada5-f74692295103",
   "metadata": {},
   "outputs": [
    {
     "data": {
      "text/plain": [
       "['Mumbai', 'Chennai', 'Hyderabad']"
      ]
     },
     "execution_count": 28,
     "metadata": {},
     "output_type": "execute_result"
    }
   ],
   "source": [
    "# Q. Using slicing, extract a list of every second city starting from 'Mumbai' to 'Hyderabad' (inclusive).\n",
    "cities = ['Delhi', 'Mumbai', 'Kolkata', 'Chennai', 'Bangalore', 'Hyderabad', 'Pune', 'Ahmedabad', 'Jaipur']\n",
    "cities[1:6:2]"
   ]
  },
  {
   "cell_type": "code",
   "execution_count": 29,
   "id": "5934112a-6da9-4a59-90db-293489b110bd",
   "metadata": {},
   "outputs": [
    {
     "data": {
      "text/plain": [
       "[23, 42, 50, 60]"
      ]
     },
     "execution_count": 29,
     "metadata": {},
     "output_type": "execute_result"
    }
   ],
   "source": [
    "# Q26: Extract the last 4 elements in reverse order.\n",
    "nums = [4, 8, 15, 16, 23, 42, 50, 60]\n",
    "nums[-4:]"
   ]
  },
  {
   "cell_type": "code",
   "execution_count": 30,
   "id": "99b249d9-4409-4a92-a268-c09f1b340191",
   "metadata": {},
   "outputs": [
    {
     "data": {
      "text/plain": [
       "[800, 600, 400]"
      ]
     },
     "execution_count": 30,
     "metadata": {},
     "output_type": "execute_result"
    }
   ],
   "source": [
    "# Q27: From the given list, extract every 2nd element starting from the 2nd last element up to the 2nd element (in reverse order).\n",
    "values = [100, 200, 300, 400, 500, 600, 700, 800, 900]\n",
    "values[-2:-7:-2] "
   ]
  },
  {
   "cell_type": "code",
   "execution_count": 31,
   "id": "32fdb6dd-596b-45d7-b0ba-a378a0d2bdf7",
   "metadata": {},
   "outputs": [
    {
     "data": {
      "text/plain": [
       "[800, 600, 400, 200]"
      ]
     },
     "execution_count": 31,
     "metadata": {},
     "output_type": "execute_result"
    }
   ],
   "source": [
    "# Q3: Extract every 2nd element starting from the second-last element to the second element (in reverse order).\n",
    "values = [100, 200, 300, 400, 500, 600, 700, 800, 900]\n",
    "values[7:0:-2]"
   ]
  },
  {
   "cell_type": "code",
   "execution_count": 32,
   "id": "79f2dfd6-db34-4377-a876-0548c55612e6",
   "metadata": {},
   "outputs": [
    {
     "data": {
      "text/plain": [
       "[15, 25, 35]"
      ]
     },
     "execution_count": 32,
     "metadata": {},
     "output_type": "execute_result"
    }
   ],
   "source": [
    "# Q4: Extract elements from index 2 to 7 (excluding 7) with step 2.\n",
    "values = [5, 10, 15, 20, 25, 30, 35, 40, 45, 50]\n",
    "values[2:7:2]"
   ]
  },
  {
   "cell_type": "code",
   "execution_count": 33,
   "id": "c437da74-22a7-4c6b-b69d-96c9be65511b",
   "metadata": {},
   "outputs": [
    {
     "data": {
      "text/plain": [
       "[88, 77, 66, 55]"
      ]
     },
     "execution_count": 33,
     "metadata": {},
     "output_type": "execute_result"
    }
   ],
   "source": [
    "# Q5: Extract the last 4 elements in reverse order.\n",
    "values = [11, 22, 33, 44, 55, 66, 77, 88]\n",
    "values[:3:-1]"
   ]
  },
  {
   "cell_type": "code",
   "execution_count": 34,
   "id": "e2997dab-4b1a-4c77-89f7-d11b1a5c2835",
   "metadata": {},
   "outputs": [
    {
     "data": {
      "text/plain": [
       "[1, 5, 9]"
      ]
     },
     "execution_count": 34,
     "metadata": {},
     "output_type": "execute_result"
    }
   ],
   "source": [
    "# Q6: Extract the first 5 elements but skip every 2nd element.\n",
    "values = [1, 3, 5, 7, 9, 11, 13]\n",
    "values[:5:2]"
   ]
  },
  {
   "cell_type": "code",
   "execution_count": 35,
   "id": "4f21bdbf-ef5b-4384-b73c-07f72aca760a",
   "metadata": {},
   "outputs": [
    {
     "data": {
      "text/plain": [
       "'morning'"
      ]
     },
     "execution_count": 35,
     "metadata": {},
     "output_type": "execute_result"
    }
   ],
   "source": [
    "# Given the string below, extract the word \"morning\" using slicing.\n",
    "text = \"Good morning, have a nice day!\"\n",
    "# solution\n",
    "text[5:12]"
   ]
  },
  {
   "cell_type": "code",
   "execution_count": null,
   "id": "fc50de3d-307f-4877-8a31-864d2b131f09",
   "metadata": {},
   "outputs": [],
   "source": [
    "# Q. Using slicing, extract a list of every second city starting from 'Mumbai' to 'Hyderabad' (inclusive).\n",
    "cities = ['Delhi', 'Mumbai', 'Kolkata', 'Chennai', 'Bangalore', 'Hyderabad', 'Pune', 'Ahmedabad', 'Jaipur']\n",
    "cities[1:6:2]"
   ]
  },
  {
   "cell_type": "code",
   "execution_count": 36,
   "id": "80417d2c-9a87-45c9-b1b6-33226f5a2109",
   "metadata": {},
   "outputs": [
    {
     "data": {
      "text/plain": [
       "[1, 5, 9]"
      ]
     },
     "execution_count": 36,
     "metadata": {},
     "output_type": "execute_result"
    }
   ],
   "source": [
    "# Q6: Extract the first 5 elements but skip every 2nd element.\n",
    "values = [1, 3, 5, 7, 9, 11, 13]\n",
    "values[:5:2]"
   ]
  },
  {
   "cell_type": "code",
   "execution_count": 1,
   "id": "93cd27db-b7b4-470a-a948-b51fb3eff74f",
   "metadata": {},
   "outputs": [
    {
     "data": {
      "text/plain": [
       "'igenc'"
      ]
     },
     "execution_count": 1,
     "metadata": {},
     "output_type": "execute_result"
    }
   ],
   "source": [
    "# Given the string below, extract the first 5 characters and the last 5 characters.\n",
    "text = \"ArtificialIntelligence\"\n",
    "# solution\n",
    "text[:5]\n",
    "text[-6:-1]"
   ]
  },
  {
   "cell_type": "code",
   "execution_count": null,
   "id": "a1e90b42-870c-4378-b6fb-d455d3d35c49",
   "metadata": {},
   "outputs": [],
   "source": []
  }
 ],
 "metadata": {
  "kernelspec": {
   "display_name": "Python 3 (ipykernel)",
   "language": "python",
   "name": "python3"
  },
  "language_info": {
   "codemirror_mode": {
    "name": "ipython",
    "version": 3
   },
   "file_extension": ".py",
   "mimetype": "text/x-python",
   "name": "python",
   "nbconvert_exporter": "python",
   "pygments_lexer": "ipython3",
   "version": "3.13.4"
  }
 },
 "nbformat": 4,
 "nbformat_minor": 5
}
