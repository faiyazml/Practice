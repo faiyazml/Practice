{
 "cells": [
  {
   "cell_type": "code",
   "execution_count": 1,
   "id": "2f31e728-fad2-4126-b166-5cb219bb6e2c",
   "metadata": {},
   "outputs": [
    {
     "data": {
      "text/plain": [
       "'morning'"
      ]
     },
     "execution_count": 1,
     "metadata": {},
     "output_type": "execute_result"
    }
   ],
   "source": [
    "# Q1: Given the string below, extract the word \"morning\" using slicing.\n",
    "text = \"Good morning, have a nice day!\"\n",
    "# solution\n",
    "text[5:12]"
   ]
  },
  {
   "cell_type": "code",
   "execution_count": null,
   "id": "f7430fe7-77c6-46fa-a149-191055030a6e",
   "metadata": {},
   "outputs": [],
   "source": [
    "# Q2: Given the string below, reverse the entire string using slicing.\n",
    "text = \"Python is powerful\"\n",
    "# solution\n",
    "text[::-1]"
   ]
  },
  {
   "cell_type": "code",
   "execution_count": 3,
   "id": "513ebf45-27e0-478a-b83b-5306fcc5da90",
   "metadata": {},
   "outputs": [
    {
     "data": {
      "text/plain": [
       "'Data'"
      ]
     },
     "execution_count": 3,
     "metadata": {},
     "output_type": "execute_result"
    }
   ],
   "source": [
    "# Q3: Given the string below, extract only the word \"Data\" using slicing.\n",
    "text = \"Learn Data Science with fun!\"\n",
    "# solution\n",
    "text[6:10]"
   ]
  },
  {
   "cell_type": "code",
   "execution_count": 4,
   "id": "2a1e6a6a-fc6f-45ed-87fa-f71033b5ffa0",
   "metadata": {},
   "outputs": [
    {
     "data": {
      "text/plain": [
       "'World'"
      ]
     },
     "execution_count": 4,
     "metadata": {},
     "output_type": "execute_result"
    }
   ],
   "source": [
    "# Q4: Given the string below, extract the word \"World\" using slicing.\n",
    "text = \"Hello World!\"\n",
    "# solution\n",
    "text[6:11]"
   ]
  },
  {
   "cell_type": "code",
   "execution_count": 5,
   "id": "458beb48-9216-4984-9aac-f68c2a2af5e5",
   "metadata": {},
   "outputs": [
    {
     "data": {
      "text/plain": [
       "'thon'"
      ]
     },
     "execution_count": 5,
     "metadata": {},
     "output_type": "execute_result"
    }
   ],
   "source": [
    "# Q5: Given the string below, extract the word \"thon\" using slicing.\n",
    "text = \"Python Programming\"\n",
    "# solution\n",
    "text[2:6]"
   ]
  },
  {
   "cell_type": "code",
   "execution_count": 6,
   "id": "fd4a1629-d4ba-4705-a034-385432a9409d",
   "metadata": {},
   "outputs": [
    {
     "data": {
      "text/plain": [
       "'rning'"
      ]
     },
     "execution_count": 6,
     "metadata": {},
     "output_type": "execute_result"
    }
   ],
   "source": [
    "# Q6: Given the string below, extract the last 5 characters using slicing.\n",
    "text = \"Machine Learning\"\n",
    "# solution\n",
    "text[-5:]"
   ]
  },
  {
   "cell_type": "code",
   "execution_count": 7,
   "id": "adecd736-e0a8-49c6-8ef7-50df075246ec",
   "metadata": {},
   "outputs": [
    {
     "data": {
      "text/plain": [
       "'DtSine'"
      ]
     },
     "execution_count": 7,
     "metadata": {},
     "output_type": "execute_result"
    }
   ],
   "source": [
    "# Q7: Given the string below, extract every alternate character starting from the 2nd character.\n",
    "text = \"DataScience\"\n",
    "# solution\n",
    "text[::2]"
   ]
  },
  {
   "cell_type": "code",
   "execution_count": 8,
   "id": "79e22697-2091-4298-8b37-c9e974d6f6b1",
   "metadata": {},
   "outputs": [
    {
     "data": {
      "text/plain": [
       "'ificia'"
      ]
     },
     "execution_count": 8,
     "metadata": {},
     "output_type": "execute_result"
    }
   ],
   "source": [
    "# Q8: Given the string below, extract the characters from index 3 to 8 using slicing.\n",
    "text = \"Artificial Intelligence\"\n",
    "# solution\n",
    "text[3:9]"
   ]
  },
  {
   "cell_type": "code",
   "execution_count": 9,
   "id": "1598e689-fa4b-44ba-ac2a-369cfa7679be",
   "metadata": {},
   "outputs": [
    {
     "data": {
      "text/plain": [
       "'Deep'"
      ]
     },
     "execution_count": 9,
     "metadata": {},
     "output_type": "execute_result"
    }
   ],
   "source": [
    "# Q9: Given the string below, extract the characters from the beginning till index 4 (excluding index 4).\n",
    "text = \"DeepLearning\"\n",
    "# solution\n",
    "text[:4]"
   ]
  },
  {
   "cell_type": "code",
   "execution_count": 10,
   "id": "35fe1838-df02-41db-bf4d-d354647ee996",
   "metadata": {},
   "outputs": [
    {
     "data": {
      "text/plain": [
       "'margorP'"
      ]
     },
     "execution_count": 10,
     "metadata": {},
     "output_type": "execute_result"
    }
   ],
   "source": [
    "# Q10: Given the string below, extract the string in reverse order, but only for the first 6 characters.\n",
    "text = \"Programming\"\n",
    "# solution\n",
    "text[6::-1]"
   ]
  },
  {
   "cell_type": "code",
   "execution_count": 11,
   "id": "b816e6cb-750f-4f96-a77c-17915d6afadc",
   "metadata": {},
   "outputs": [
    {
     "data": {
      "text/plain": [
       "'perCode'"
      ]
     },
     "execution_count": 11,
     "metadata": {},
     "output_type": "execute_result"
    }
   ],
   "source": [
    "# Q11: Given the string below, extract the characters from index 2 to the second last index.\n",
    "text = \"SuperCoder\"\n",
    "# solution\n",
    "text[2:-1]"
   ]
  },
  {
   "cell_type": "code",
   "execution_count": 12,
   "id": "942336af-8918-4494-af6d-8491e56c1b7f",
   "metadata": {},
   "outputs": [
    {
     "data": {
      "text/plain": [
       "'ecn'"
      ]
     },
     "execution_count": 12,
     "metadata": {},
     "output_type": "execute_result"
    }
   ],
   "source": [
    "# Q12: Given the string below, extract the last 3 characters in reverse order.\n",
    "text = \"DataScience\"\n",
    "# solution\n",
    "text[-1:-4:-1]"
   ]
  },
  {
   "cell_type": "code",
   "execution_count": 13,
   "id": "b3ef9867-cb7c-49ba-9549-e46e74e7e073",
   "metadata": {},
   "outputs": [
    {
     "data": {
      "text/plain": [
       "'eLear'"
      ]
     },
     "execution_count": 13,
     "metadata": {},
     "output_type": "execute_result"
    }
   ],
   "source": [
    "# Q13: Given the string below, extract the middle 4 characters.\n",
    "text = \"MachineLearning\"\n",
    "# solution\n",
    "text[6:11]"
   ]
  },
  {
   "cell_type": "code",
   "execution_count": 14,
   "id": "6d6b1048-2d78-46b7-9323-58fa1eac2240",
   "metadata": {},
   "outputs": [
    {
     "data": {
      "text/plain": [
       "'igenc'"
      ]
     },
     "execution_count": 14,
     "metadata": {},
     "output_type": "execute_result"
    }
   ],
   "source": [
    "# Q14: Given the string below, extract the first 5 characters and the last 5 characters.\n",
    "text = \"ArtificialIntelligence\"\n",
    "# solution\n",
    "text[:5]\n",
    "text[-6:-1]"
   ]
  },
  {
   "cell_type": "code",
   "execution_count": 15,
   "id": "480ce96d-f071-45a6-912e-02901a834d22",
   "metadata": {},
   "outputs": [
    {
     "data": {
      "text/plain": [
       "'aiLrn'"
      ]
     },
     "execution_count": 15,
     "metadata": {},
     "output_type": "execute_result"
    }
   ],
   "source": [
    "# Q15: Given the string below, extract every third character starting from index 1.\n",
    "text = \"MachineLearning\"\n",
    "# solution\n",
    "text[1::3]"
   ]
  },
  {
   "cell_type": "code",
   "execution_count": 16,
   "id": "a055c374-b695-4cbd-bcfb-21b4084f35fa",
   "metadata": {},
   "outputs": [
    {
     "data": {
      "text/plain": [
       "'Intelligence'"
      ]
     },
     "execution_count": 16,
     "metadata": {},
     "output_type": "execute_result"
    }
   ],
   "source": [
    "# Q16: Given the string below, extract the string \"Intelligence\" without using any loop.\n",
    "text = \"ArtificialIntelligence\"\n",
    "# solution\n",
    "text[10:]"
   ]
  },
  {
   "cell_type": "code",
   "execution_count": 17,
   "id": "583f7711-9b23-4505-8880-28d30f87e7f4",
   "metadata": {},
   "outputs": [
    {
     "data": {
      "text/plain": [
       "'Science'"
      ]
     },
     "execution_count": 17,
     "metadata": {},
     "output_type": "execute_result"
    }
   ],
   "source": [
    "# Q17: Given the string below, extract the substring \"Science\" using slicing.\n",
    "text = \"DataScience\"\n",
    "# solution\n",
    "text[4:]"
   ]
  },
  {
   "cell_type": "code",
   "execution_count": 18,
   "id": "88f18c8d-2edb-41c9-8d53-ec4197fb2a9b",
   "metadata": {},
   "outputs": [
    {
     "data": {
      "text/plain": [
       "'cieer'"
      ]
     },
     "execution_count": 18,
     "metadata": {},
     "output_type": "execute_result"
    }
   ],
   "source": [
    "# Q18: Given the string below, extract every alternate character starting from index 2 to 10.\n",
    "text = \"MachineLearning\"\n",
    "# solution\n",
    "text[2:11:2]"
   ]
  },
  {
   "cell_type": "code",
   "execution_count": 19,
   "id": "c01748fc-e025-4928-8a44-d6d1970bcd3d",
   "metadata": {},
   "outputs": [
    {
     "name": "stdout",
     "output_type": "stream",
     "text": [
      "Suptar\n"
     ]
    }
   ],
   "source": [
    "# Q19: Given the string below, extract the first 3 characters and the last 3 characters together using slicing.\n",
    "text = \"Superstar\"\n",
    "# solution\n",
    "x=text[:3] #sup\n",
    "y=text[6:] #tar\n",
    "print(x+y)"
   ]
  },
  {
   "cell_type": "code",
   "execution_count": 20,
   "id": "ae8416c3-532f-4259-aa76-ed617bfa3e4d",
   "metadata": {},
   "outputs": [
    {
     "data": {
      "text/plain": [
       "'gram'"
      ]
     },
     "execution_count": 20,
     "metadata": {},
     "output_type": "execute_result"
    }
   ],
   "source": [
    "# Q20: Given the string below, extract the substring \"gram\" using slicing.\n",
    "text = \"Programming\"\n",
    "# solution\n",
    "text[3:7]"
   ]
  },
  {
   "cell_type": "code",
   "execution_count": 21,
   "id": "4aac1998-0725-477f-a311-4f4211670562",
   "metadata": {},
   "outputs": [
    {
     "data": {
      "text/plain": [
       "'esadnP'"
      ]
     },
     "execution_count": 21,
     "metadata": {},
     "output_type": "execute_result"
    }
   ],
   "source": [
    "# Q21: Given the string below, extract every 2nd character from index 3 to index -3 (excluding index -3).\n",
    "text = \"UnderstandingPython\"\n",
    "# solution\n",
    "text[3:-4:2]"
   ]
  },
  {
   "cell_type": "code",
   "execution_count": 22,
   "id": "a8ced836-4b19-4e39-8d92-f24400f4bd62",
   "metadata": {},
   "outputs": [
    {
     "data": {
      "text/plain": [
       "'azilausi'"
      ]
     },
     "execution_count": 22,
     "metadata": {},
     "output_type": "execute_result"
    }
   ],
   "source": [
    "# Q22: Given the string below, reverse the substring from index 5 to 12 (inclusive).\n",
    "text = \"DataVisualization\"\n",
    "# solution\n",
    "text[12:4:-1]"
   ]
  },
  {
   "cell_type": "code",
   "execution_count": 23,
   "id": "7ee80457-fd9c-44ea-91e7-5e2f3a17c6b5",
   "metadata": {},
   "outputs": [
    {
     "data": {
      "text/plain": [
       "'nempoleveD'"
      ]
     },
     "execution_count": 23,
     "metadata": {},
     "output_type": "execute_result"
    }
   ],
   "source": [
    "# Q23: Given the string below, extract characters from the start till the second last character in reverse order.\n",
    "text = \"Development\"\n",
    "# solution\n",
    "text[-2::-1]"
   ]
  },
  {
   "cell_type": "code",
   "execution_count": 24,
   "id": "09e5e9c0-df08-4959-a795-c590b1f1d640",
   "metadata": {},
   "outputs": [
    {
     "data": {
      "text/plain": [
       "'nolog'"
      ]
     },
     "execution_count": 24,
     "metadata": {},
     "output_type": "execute_result"
    }
   ],
   "source": [
    "# Q24: Given the string below, extract the substring starting from index 4 up to 4th character from the end (excluding it).\n",
    "text = \"Technological\"\n",
    "# solution\n",
    "text[4:-4]"
   ]
  },
  {
   "cell_type": "code",
   "execution_count": 25,
   "id": "2b25b5f7-ca96-4d2e-a248-a6435ebc6371",
   "metadata": {},
   "outputs": [
    {
     "data": {
      "text/plain": [
       "'pmti'"
      ]
     },
     "execution_count": 25,
     "metadata": {},
     "output_type": "execute_result"
    }
   ],
   "source": [
    "# Q25: Given the string below, extract every 3rd character between index 2 and index -2.\n",
    "text = \"Implementation\"\n",
    "# solution\n",
    "text[2:-2:3]"
   ]
  },
  {
   "cell_type": "code",
   "execution_count": 26,
   "id": "f572e32e-df6b-40e3-863d-9bdef2e17ec2",
   "metadata": {},
   "outputs": [
    {
     "data": {
      "text/plain": [
       "'anidroart'"
      ]
     },
     "execution_count": 26,
     "metadata": {},
     "output_type": "execute_result"
    }
   ],
   "source": [
    "# Q26: Given the string below, reverse only the middle portion of the string (excluding first 2 and last 2 characters).\n",
    "text = \"Extraordinary\"\n",
    "# solution\n",
    "# x=text[2:-2] #traordina\n",
    "# text[5:8]\n",
    "text[2:-2][::-1]  # first slicesed (first 2 idx) and (last 2 idx), then reversed the rest of idx"
   ]
  },
  {
   "cell_type": "code",
   "execution_count": 27,
   "id": "5a4c6ef9-b74b-4972-b6c4-78250e86f264",
   "metadata": {},
   "outputs": [
    {
     "data": {
      "text/plain": [
       "'lufrewop si nohtyP'"
      ]
     },
     "execution_count": 27,
     "metadata": {},
     "output_type": "execute_result"
    }
   ],
   "source": [
    "# Given the string below, reverse the entire string using slicing.\n",
    "text = \"Python is powerful\"\n",
    "# solution\n",
    "text[::-1]"
   ]
  },
  {
   "cell_type": "code",
   "execution_count": 28,
   "id": "8e349ac8-9fab-4639-ada5-f74692295103",
   "metadata": {},
   "outputs": [
    {
     "data": {
      "text/plain": [
       "['Mumbai', 'Chennai', 'Hyderabad']"
      ]
     },
     "execution_count": 28,
     "metadata": {},
     "output_type": "execute_result"
    }
   ],
   "source": [
    "# Q. Using slicing, extract a list of every second city starting from 'Mumbai' to 'Hyderabad' (inclusive).\n",
    "cities = ['Delhi', 'Mumbai', 'Kolkata', 'Chennai', 'Bangalore', 'Hyderabad', 'Pune', 'Ahmedabad', 'Jaipur']\n",
    "cities[1:6:2]"
   ]
  },
  {
   "cell_type": "code",
   "execution_count": 29,
   "id": "5934112a-6da9-4a59-90db-293489b110bd",
   "metadata": {},
   "outputs": [
    {
     "data": {
      "text/plain": [
       "[23, 42, 50, 60]"
      ]
     },
     "execution_count": 29,
     "metadata": {},
     "output_type": "execute_result"
    }
   ],
   "source": [
    "# Q26: Extract the last 4 elements in reverse order.\n",
    "nums = [4, 8, 15, 16, 23, 42, 50, 60]\n",
    "nums[-4:]"
   ]
  },
  {
   "cell_type": "code",
   "execution_count": 30,
   "id": "99b249d9-4409-4a92-a268-c09f1b340191",
   "metadata": {},
   "outputs": [
    {
     "data": {
      "text/plain": [
       "[800, 600, 400]"
      ]
     },
     "execution_count": 30,
     "metadata": {},
     "output_type": "execute_result"
    }
   ],
   "source": [
    "# Q27: From the given list, extract every 2nd element starting from the 2nd last element up to the 2nd element (in reverse order).\n",
    "values = [100, 200, 300, 400, 500, 600, 700, 800, 900]\n",
    "values[-2:-7:-2] "
   ]
  },
  {
   "cell_type": "code",
   "execution_count": 31,
   "id": "32fdb6dd-596b-45d7-b0ba-a378a0d2bdf7",
   "metadata": {},
   "outputs": [
    {
     "data": {
      "text/plain": [
       "[800, 600, 400, 200]"
      ]
     },
     "execution_count": 31,
     "metadata": {},
     "output_type": "execute_result"
    }
   ],
   "source": [
    "# Q3: Extract every 2nd element starting from the second-last element to the second element (in reverse order).\n",
    "values = [100, 200, 300, 400, 500, 600, 700, 800, 900]\n",
    "values[7:0:-2]"
   ]
  },
  {
   "cell_type": "code",
   "execution_count": 32,
   "id": "79f2dfd6-db34-4377-a876-0548c55612e6",
   "metadata": {},
   "outputs": [
    {
     "data": {
      "text/plain": [
       "[15, 25, 35]"
      ]
     },
     "execution_count": 32,
     "metadata": {},
     "output_type": "execute_result"
    }
   ],
   "source": [
    "# Q4: Extract elements from index 2 to 7 (excluding 7) with step 2.\n",
    "values = [5, 10, 15, 20, 25, 30, 35, 40, 45, 50]\n",
    "values[2:7:2]"
   ]
  },
  {
   "cell_type": "code",
   "execution_count": 33,
   "id": "c437da74-22a7-4c6b-b69d-96c9be65511b",
   "metadata": {},
   "outputs": [
    {
     "data": {
      "text/plain": [
       "[88, 77, 66, 55]"
      ]
     },
     "execution_count": 33,
     "metadata": {},
     "output_type": "execute_result"
    }
   ],
   "source": [
    "# Q5: Extract the last 4 elements in reverse order.\n",
    "values = [11, 22, 33, 44, 55, 66, 77, 88]\n",
    "values[:3:-1]"
   ]
  },
  {
   "cell_type": "code",
   "execution_count": 34,
   "id": "e2997dab-4b1a-4c77-89f7-d11b1a5c2835",
   "metadata": {},
   "outputs": [
    {
     "data": {
      "text/plain": [
       "[1, 5, 9]"
      ]
     },
     "execution_count": 34,
     "metadata": {},
     "output_type": "execute_result"
    }
   ],
   "source": [
    "# Q6: Extract the first 5 elements but skip every 2nd element.\n",
    "values = [1, 3, 5, 7, 9, 11, 13]\n",
    "values[:5:2]"
   ]
  },
  {
   "cell_type": "code",
   "execution_count": 35,
   "id": "4f21bdbf-ef5b-4384-b73c-07f72aca760a",
   "metadata": {},
   "outputs": [
    {
     "data": {
      "text/plain": [
       "'morning'"
      ]
     },
     "execution_count": 35,
     "metadata": {},
     "output_type": "execute_result"
    }
   ],
   "source": [
    "# Given the string below, extract the word \"morning\" using slicing.\n",
    "text = \"Good morning, have a nice day!\"\n",
    "# solution\n",
    "text[5:12]"
   ]
  },
  {
   "cell_type": "code",
   "execution_count": 36,
   "id": "fc50de3d-307f-4877-8a31-864d2b131f09",
   "metadata": {},
   "outputs": [
    {
     "data": {
      "text/plain": [
       "['Mumbai', 'Chennai', 'Hyderabad']"
      ]
     },
     "execution_count": 36,
     "metadata": {},
     "output_type": "execute_result"
    }
   ],
   "source": [
    "# Q. Using slicing, extract a list of every second city starting from 'Mumbai' to 'Hyderabad' (inclusive).\n",
    "cities = ['Delhi', 'Mumbai', 'Kolkata', 'Chennai', 'Bangalore', 'Hyderabad', 'Pune', 'Ahmedabad', 'Jaipur']\n",
    "cities[1:6:2]"
   ]
  },
  {
   "cell_type": "code",
   "execution_count": 37,
   "id": "80417d2c-9a87-45c9-b1b6-33226f5a2109",
   "metadata": {},
   "outputs": [
    {
     "data": {
      "text/plain": [
       "[1, 5, 9]"
      ]
     },
     "execution_count": 37,
     "metadata": {},
     "output_type": "execute_result"
    }
   ],
   "source": [
    "# Q6: Extract the first 5 elements but skip every 2nd element.\n",
    "values = [1, 3, 5, 7, 9, 11, 13]\n",
    "values[:5:2]"
   ]
  },
  {
   "cell_type": "code",
   "execution_count": 38,
   "id": "93cd27db-b7b4-470a-a948-b51fb3eff74f",
   "metadata": {},
   "outputs": [
    {
     "data": {
      "text/plain": [
       "'igenc'"
      ]
     },
     "execution_count": 38,
     "metadata": {},
     "output_type": "execute_result"
    }
   ],
   "source": [
    "# Given the string below, extract the first 5 characters and the last 5 characters.\n",
    "text = \"ArtificialIntelligence\"\n",
    "# solution\n",
    "text[:5]\n",
    "text[-6:-1]"
   ]
  },
  {
   "cell_type": "code",
   "execution_count": 39,
   "id": "a1e90b42-870c-4378-b6fb-d455d3d35c49",
   "metadata": {},
   "outputs": [
    {
     "data": {
      "text/plain": [
       "'perCode'"
      ]
     },
     "execution_count": 39,
     "metadata": {},
     "output_type": "execute_result"
    }
   ],
   "source": [
    "# Given the string below, extract the characters from index 2 to the second last index.\n",
    "text = \"SuperCoder\"\n",
    "# solution\n",
    "text[2:-1]"
   ]
  },
  {
   "cell_type": "code",
   "execution_count": 40,
   "id": "555581c4-96c6-4ea2-ab84-79ded17fea52",
   "metadata": {},
   "outputs": [
    {
     "data": {
      "text/plain": [
       "[30, 40, 50]"
      ]
     },
     "execution_count": 40,
     "metadata": {},
     "output_type": "execute_result"
    }
   ],
   "source": [
    "# Given the following list, write a slice that extracts only the middle 3 elements.\n",
    "numbers = [10, 20, 30, 40, 50, 60, 70]\n",
    "numbers[2:5]"
   ]
  },
  {
   "cell_type": "code",
   "execution_count": 41,
   "id": "b5d8abaf-8bde-4e8d-8d3e-87ff17a1584a",
   "metadata": {},
   "outputs": [
    {
     "data": {
      "text/plain": [
       "[40, 35, 30, 25]"
      ]
     },
     "execution_count": 41,
     "metadata": {},
     "output_type": "execute_result"
    }
   ],
   "source": [
    "# Given the list below, write a slice that gives the last 4 elements **in reverse order**.\n",
    "data = [5, 10, 15, 20, 25, 30, 35, 40]\n",
    "data[-1:-5:-1]"
   ]
  },
  {
   "cell_type": "code",
   "execution_count": 42,
   "id": "ad808370-da24-4c99-813d-af48e77da0fb",
   "metadata": {},
   "outputs": [
    {
     "data": {
      "text/plain": [
       "[14, 10, 6, 2]"
      ]
     },
     "execution_count": 42,
     "metadata": {},
     "output_type": "execute_result"
    }
   ],
   "source": [
    "# From the list below, slice out every second element in reverse, starting from the second-last.\n",
    "nums = [2, 4, 6, 8, 10, 12, 14, 16]\n",
    "nums[6::-2]"
   ]
  },
  {
   "cell_type": "code",
   "execution_count": 43,
   "id": "782c8ad3-f9cc-461c-b559-6d55a7366822",
   "metadata": {},
   "outputs": [
    {
     "data": {
      "text/plain": [
       "'machine'"
      ]
     },
     "execution_count": 43,
     "metadata": {},
     "output_type": "execute_result"
    }
   ],
   "source": [
    "# From the string below, extract only the word \"machine\" using slicing.\n",
    "text = \"ILOVEmachineLEARNING\"\n",
    "text[5:12]"
   ]
  },
  {
   "cell_type": "code",
   "execution_count": 44,
   "id": "dc261db1-6468-4847-a849-8e968ca5be96",
   "metadata": {},
   "outputs": [
    {
     "data": {
      "text/plain": [
       "[4, 7, 10, 13, 16]"
      ]
     },
     "execution_count": 44,
     "metadata": {},
     "output_type": "execute_result"
    }
   ],
   "source": [
    "# From the given list, extract every 3rd element starting from index 3 to 15 (inclusive).\n",
    "data = list(range(1, 21))  # [1, 2, 3, ..., 20]\n",
    "data[3:16:3]"
   ]
  },
  {
   "cell_type": "code",
   "execution_count": 45,
   "id": "28eea0a7-f899-4c9b-b299-bc75e6661483",
   "metadata": {},
   "outputs": [
    {
     "data": {
      "text/plain": [
       "'madam'"
      ]
     },
     "execution_count": 45,
     "metadata": {},
     "output_type": "execute_result"
    }
   ],
   "source": [
    "# Check using slicing whether the given string is a palindrome (same forward and backward).\n",
    "word = \"madam\"\n",
    "word[::-1]"
   ]
  },
  {
   "cell_type": "code",
   "execution_count": 46,
   "id": "4699b7c4-09da-49d8-b7a4-735223bb82bb",
   "metadata": {},
   "outputs": [
    {
     "data": {
      "text/plain": [
       "'GENIUS'"
      ]
     },
     "execution_count": 46,
     "metadata": {},
     "output_type": "execute_result"
    }
   ],
   "source": [
    "# From the given nested string list, slice out the word **\"GENIUS\"** using a combination of slicing and string indexing.\n",
    "# ❗ Do NOT directly index data[5] — use slicing logic only (no hardcoding \"5\").\n",
    "# Hint: Use negative indexing and slicing to extract \"GENIUS\" as a string.\n",
    "data = [\"PYTHON\", \"IS\", \"SUPER\", \"COOL\", \"BUT\", \"GENIUS\", \"INDEED\"]\n",
    "data[-2][::]"
   ]
  },
  {
   "cell_type": "code",
   "execution_count": 47,
   "id": "850d3304-283d-4cc2-9a3d-0b11752e0a85",
   "metadata": {},
   "outputs": [
    {
     "data": {
      "text/plain": [
       "'54321'"
      ]
     },
     "execution_count": 47,
     "metadata": {},
     "output_type": "execute_result"
    }
   ],
   "source": [
    "# From the nested list below, slice out the characters \"54321\" (as a string) using slicing only.\n",
    "data = [\n",
    "    \"abcdef\",\n",
    "    \"ghijkl\",\n",
    "    \"mnopqr\",\n",
    "    \"stuvwx\",\n",
    "    \"123456\"\n",
    "]\n",
    "\n",
    "# ❗ Constraints:\n",
    "# - Do NOT use data[4] directly.\n",
    "# - Use slicing to get to the string \"123456\", then reverse it and extract \"54321\".\n",
    "# - Final output should be: '54321'\n",
    "data[-1][-2::-1]"
   ]
  },
  {
   "cell_type": "code",
   "execution_count": 48,
   "id": "edf02cfc-153c-4ffe-9950-7e16bdfa0dd8",
   "metadata": {},
   "outputs": [
    {
     "data": {
      "text/plain": [
       "'dlroW'"
      ]
     },
     "execution_count": 48,
     "metadata": {},
     "output_type": "execute_result"
    }
   ],
   "source": [
    "# From the list below, slice out the word \"World\" in reverse using only slicing.\n",
    "# Do NOT directly use data[2] or hardcode \"World\".\n",
    "# Final output should be: 'dlroW'\n",
    "data = [\n",
    "    \"Hello\",\n",
    "    \"Python\",\n",
    "    \"SayWorldLoud\",\n",
    "    \"Coding\",\n",
    "    \"Fun\"\n",
    "]\n",
    "\n",
    "data[-3][-5:-10:-1]"
   ]
  },
  {
   "cell_type": "code",
   "execution_count": 49,
   "id": "3b11e466-4f7c-440d-8f2b-600429f4db4a",
   "metadata": {},
   "outputs": [
    {
     "data": {
      "text/plain": [
       "'nuFsIedoC'"
      ]
     },
     "execution_count": 49,
     "metadata": {},
     "output_type": "execute_result"
    }
   ],
   "source": [
    "# From the list below, extract the string \"CodeIsFun\" in reverse as \"nuFsIdoC\"\n",
    "# You must use slicing only — no loops, no manual character picking.\n",
    "# Also, do NOT directly use data[3] or hardcode \"CodeIsFun\"\n",
    "\n",
    "data = [\n",
    "    \"LearnFast\",\n",
    "    \"PracticeHard\",\n",
    "    \"WinBig\",\n",
    "    \"CodeIsFun\",\n",
    "    \"LevelUp\",\n",
    "    \"NeverQuit\"\n",
    "]\n",
    "\n",
    "# Your result should be: 'nuFsIdoC'\n",
    "data[-3][::-1]"
   ]
  },
  {
   "cell_type": "code",
   "execution_count": 50,
   "id": "73994188-272c-4b92-9713-a6010ac64bac",
   "metadata": {},
   "outputs": [
    {
     "data": {
      "text/plain": [
       "'Machine'"
      ]
     },
     "execution_count": 50,
     "metadata": {},
     "output_type": "execute_result"
    }
   ],
   "source": [
    "# From the list below, extract the word \"Machine\" (in correct order) without directly using data[3],\n",
    "# AND without using any numbers greater than 2 in any index.\n",
    "# Use slicing only — no loops, no string methods.\n",
    "\n",
    "data = [\n",
    "    \"XxStart\",\n",
    "    \"AlphaBetaGamma\",\n",
    "    \"LearningMachineAI\",\n",
    "    \"Target\",\n",
    "    \"End\"\n",
    "]\n",
    "\n",
    "# Rules:\n",
    "# - Final output should be: \"Machine\"\n",
    "# - You cannot write anything like data[3] or data[2][8:] etc.\n",
    "# - Use only slicing, and use only indexes like 0, 1, 2 or -1, -2, etc.\n",
    "\n",
    "data[-3][-9:-2]"
   ]
  },
  {
   "cell_type": "code",
   "execution_count": 51,
   "id": "64faa59b-ccd3-46fa-b6eb-73db0ab5405a",
   "metadata": {},
   "outputs": [
    {
     "data": {
      "text/plain": [
       "'DataHero'"
      ]
     },
     "execution_count": 51,
     "metadata": {},
     "output_type": "execute_result"
    }
   ],
   "source": [
    "# From the list below, construct the word \"DataHero\" using only slicing.\n",
    "# Do NOT use any string methods (like .replace, .join, etc.)\n",
    "# Do NOT hardcode the final word — only build it using slices.\n",
    "# All slicing must stay within indexes -5 to 5 only (no numbers beyond 5 or below -5).\n",
    "# Final output must be exactly: \"DataHero\"\n",
    "\n",
    "data = [\n",
    "    \"---DataDriven---\",\n",
    "    \"MachineLearn++\",\n",
    "    \"ZeroToHero###\",\n",
    "    \"AI4ALL\",\n",
    "    \"CodeX\"\n",
    "]\n",
    "\n",
    "# Rules:\n",
    "# - You can use multiple slice expressions and concatenate them\n",
    "# - Only use slicing (e.g., data[__][__ : __])\n",
    "# - Index values must stay within -5 to +5\n",
    "# - Final result should be: \"DataHero\"\n",
    "\n",
    "result = data[-5][-13:7] + data[-3][-7:10]\n",
    "result"
   ]
  },
  {
   "cell_type": "code",
   "execution_count": 52,
   "id": "d7fa89d0-1e2e-4992-ae38-1a87460606bf",
   "metadata": {},
   "outputs": [
    {
     "data": {
      "text/plain": [
       "'DeepMind'"
      ]
     },
     "execution_count": 52,
     "metadata": {},
     "output_type": "execute_result"
    }
   ],
   "source": [
    "# Challenge:\n",
    "# From the list below, construct the final output \"DeepMind\" using only slicing.\n",
    "# You CANNOT directly use any index greater than 10 or less than -10.\n",
    "# You are allowed to use multiple slicing operations and concatenate.\n",
    "# Final result should be exactly: \"DeepMind\"\n",
    "\n",
    "data = [\n",
    "    \"SuperDeepTech\",\n",
    "    \"MindstormXAI\",\n",
    "    \"CodeGenie\",\n",
    "    \"VisionLLM\",\n",
    "    \"Promptly\"\n",
    "]\n",
    "\n",
    "# 💡 Rules:\n",
    "# - Only slicing allowed (e.g. data[__][__ : __ : __])\n",
    "# - You may combine 2 or more slices\n",
    "# - You cannot use string methods like .replace(), .strip(), etc.\n",
    "# - All indices (positive or negative) must be between -10 and 10\n",
    "# - Final output must be: \"DeepMind\"\n",
    "\n",
    "result = data[-5][-8:-4] + data[-4][:4]\n",
    "result "
   ]
  },
  {
   "cell_type": "code",
   "execution_count": 53,
   "id": "d3de582b-a782-4c06-b7ff-53357e51b96e",
   "metadata": {},
   "outputs": [
    {
     "data": {
      "text/plain": [
       "'illusion'"
      ]
     },
     "execution_count": 53,
     "metadata": {},
     "output_type": "execute_result"
    }
   ],
   "source": [
    "# 🎯 Goal:\n",
    "# Slice the word: \"illusion\" from the data list using ONLY slicing.\n",
    "# You cannot use ANY index greater than 9 or less than -9.\n",
    "# No hardcoding allowed (e.g., no data[0] == \"illusion\")\n",
    "# You must combine at least 2 different slices from DIFFERENT strings.\n",
    "# Only string slicing allowed – no use of string methods, variables, or len().\n",
    "\n",
    "data = [\n",
    "    \"AllusionsMatter\",   # index 0\n",
    "    \"OpticalTrickery\",   # index 1\n",
    "    \"Confuse\",           # index 2\n",
    "    \"NoillusionHere\",    # index 3\n",
    "    \"Simulation\",        # index 4\n",
    "]\n",
    "\n",
    "step1 = data[-2][2:8]\n",
    "step2 = data[-2][-6:-4]\n",
    "step1+step2"
   ]
  },
  {
   "cell_type": "code",
   "execution_count": 54,
   "id": "aa1a5cb8-a89a-4c3a-87f8-174a838ed7f0",
   "metadata": {},
   "outputs": [
    {
     "data": {
      "text/plain": [
       "'QuantumAI'"
      ]
     },
     "execution_count": 54,
     "metadata": {},
     "output_type": "execute_result"
    }
   ],
   "source": [
    "# 🎯 Goal:\n",
    "# Slice and construct the exact word: \"QuantumAI\"\n",
    "# Use only string slicing.\n",
    "# You must use at least **3 different strings** from the data list.\n",
    "# No index (positive or negative) can go beyond **±8**\n",
    "# No use of variables, len(), loops, or functions — only slicing and +\n",
    "# Final output must be: \"QuantumAI\"\n",
    "\n",
    "data = [\n",
    "    \"Qualify\",\n",
    "    \"QuarksAndAtoms\",\n",
    "    \"NeuralTempo\",\n",
    "    \"TurbulenceModel\",\n",
    "    \"AIAgentXtreme\",\n",
    "    \"QUBITZ\",\n",
    "    \"AntimatterPulse\",\n",
    "]\n",
    "\n",
    "result = data[0][:3] + data[-1][1:3] + data[-1][-4] + data[-1][4] + data[-3][0:2]\n",
    "result"
   ]
  },
  {
   "cell_type": "code",
   "execution_count": 55,
   "id": "d1d12f81-b73a-4fa0-a831-daf851a8f657",
   "metadata": {},
   "outputs": [
    {
     "data": {
      "text/plain": [
       "'TorchAI'"
      ]
     },
     "execution_count": 55,
     "metadata": {},
     "output_type": "execute_result"
    }
   ],
   "source": [
    "# Challenge:\n",
    "# Using only slicing, extract the string: \"TorchAI\" from the data list below.\n",
    "\n",
    "data = [\n",
    "    \"TopologyTorchLight\",     # index 0\n",
    "    \"RapidFusionTech\",        # index 1\n",
    "    \"ChronoTrigger\",          # index 2\n",
    "    \"GradientDescent\",        # index 3\n",
    "    \"ArtificialNeurons\",      # index 4\n",
    "    \"ChainAIModels\",          # index 5\n",
    "    \"QuantumWaves\"            # index 6\n",
    "]\n",
    "\n",
    "# Use only slicing (no variables, no methods, no hardcoded strings)\n",
    "# Try to use at least 3 different strings from the list (from 3 different list items).\n",
    "# Avoid going out of bounds.\n",
    "\n",
    "data[0][-10:-5] + data[-3][0] +  data[-2][6:7] "
   ]
  },
  {
   "cell_type": "code",
   "execution_count": 56,
   "id": "01fcf63c-5c16-47ae-85bd-76259cc6b21a",
   "metadata": {},
   "outputs": [
    {
     "data": {
      "text/plain": [
       "'NeuralX'"
      ]
     },
     "execution_count": 56,
     "metadata": {},
     "output_type": "execute_result"
    }
   ],
   "source": [
    "# Challenge:\n",
    "# From the given data list, extract the string: \"NeuralX\"\n",
    "\n",
    "data = [\n",
    "    \"NeuroMappingField\",      # index 0\n",
    "    \"ElectroMagneticCore\",    # index 1\n",
    "    \"DeepLearnXtreme\",        # index 2\n",
    "    \"BackpropAlgorithm\",      # index 3\n",
    "    \"CortexNeuronsMap\",       # index 4\n",
    "    \"NeuralSynthAI\",          # index 5\n",
    "    \"VisionAxis\"              # index 6\n",
    "]\n",
    "\n",
    "# Constraints:\n",
    "# Use ONLY slicing (no replace, no join, no upper/lower etc.)\n",
    "# You must use AT LEAST 3 unique strings (from 3 different list items)\n",
    "# Final result must be exactly: \"NeuralX\"\n",
    "\n",
    "data[0][0:4] + data[-2][4:6] + data[2][-6]"
   ]
  },
  {
   "cell_type": "code",
   "execution_count": 57,
   "id": "02023551-6255-465d-9bff-d6429526fde7",
   "metadata": {},
   "outputs": [
    {
     "data": {
      "text/plain": [
       "'DeepAxisAI'"
      ]
     },
     "execution_count": 57,
     "metadata": {},
     "output_type": "execute_result"
    }
   ],
   "source": [
    "# Challenge:\n",
    "# From the given data list, extract the string: \"DeepAxisAI\"\n",
    "\n",
    "data = [\n",
    "    \"NeuroMappingField\",      # index 0\n",
    "    \"ElectroMagneticCore\",    # index 1\n",
    "    \"DeepLearnXtreme\",        # index 2\n",
    "    \"BackpropAlgorithm\",      # index 3\n",
    "    \"CortexNeuronsMap\",       # index 4\n",
    "    \"NeuralSynthAI\",          # index 5\n",
    "    \"VisionAxis\"              # index 6\n",
    "]\n",
    "\n",
    "# Constraints:\n",
    "# - Use only slicing (no replace, join, upper/lower, etc.)\n",
    "# - Final result must exactly be: \"DeepAxisAI\"\n",
    "# - You must use at least 3 unique strings from the list (from 3 different list items)\n",
    "# - No hardcoding characters one-by-one\n",
    "\n",
    "data[2][0:4] + data[-1][-4:] + data[-2][-2:]"
   ]
  },
  {
   "cell_type": "code",
   "execution_count": 58,
   "id": "1f7d65e4-911b-4d78-859f-143ee4405805",
   "metadata": {},
   "outputs": [
    {
     "data": {
      "text/plain": [
       "'BackLearnAI'"
      ]
     },
     "execution_count": 58,
     "metadata": {},
     "output_type": "execute_result"
    }
   ],
   "source": [
    "# Challenge:\n",
    "# From the given data list, extract the string: \"BackLearnAI\"\n",
    "\n",
    "data = [\n",
    "    \"BackpropAlgorithm\",      # index 0\n",
    "    \"NeuralPatternMatch\",     # index 1\n",
    "    \"QuantumLearnBase\",       # index 2\n",
    "    \"SynthAIBoost\",           # index 3\n",
    "    \"DeepNetRebuild\",         # index 4\n",
    "    \"LogicalLayers\",          # index 5\n",
    "    \"AdaptiveInference\"       # index 6\n",
    "]\n",
    "\n",
    "# Constraints:\n",
    "# - Use only slicing (no replace, join, upper/lower, etc.)\n",
    "# - Final result must exactly be: \"BackLearnAI\"\n",
    "# - You must use at least 3 unique strings from the list (3 different list items)\n",
    "# - No hardcoding characters one-by-one\n",
    "\n",
    "data[0][:4] + data[2][-9:-4] + data[-4][-7:-5]"
   ]
  },
  {
   "cell_type": "code",
   "execution_count": 59,
   "id": "0489bfa7-7a73-4429-b33d-c084cbfe9f42",
   "metadata": {},
   "outputs": [
    {
     "data": {
      "text/plain": [
       "'NeuroSynthMap'"
      ]
     },
     "execution_count": 59,
     "metadata": {},
     "output_type": "execute_result"
    }
   ],
   "source": [
    "# Challenge:\n",
    "# From the given data list, extract the string: \"NeuroSynthMap\"\n",
    "\n",
    "data = [\n",
    "    \"DeepFlowEncoder\",         # index 0\n",
    "    \"NeuroTransmitterAI\",      # index 1\n",
    "    \"VisionSynthUnit\",         # index 2\n",
    "    \"LanguageMappingBase\",     # index 3\n",
    "    \"CortexStreamBuild\",       # index 4\n",
    "    \"FusionNetProcessor\",      # index 5\n",
    "    \"SignalMapTrack\"           # index 6\n",
    "]\n",
    "\n",
    "# Constraints:\n",
    "# - Use only slicing (no replace, join, upper/lower, etc.)\n",
    "# - Final result must exactly be: \"NeuroSynthMap\"\n",
    "# - You must use at least 3 unique strings from the list (3 different list items)\n",
    "# - No hardcoding individual characters like 'N' + 'e' + ...\n",
    "\n",
    "data[1][:5] + data[2][-9:-4] + data[-1][-8:-5]"
   ]
  },
  {
   "cell_type": "code",
   "execution_count": 60,
   "id": "cf8c3f3e-566d-4724-ac83-4f08ecf6655e",
   "metadata": {},
   "outputs": [
    {
     "data": {
      "text/plain": [
       "'CoreAIUnit'"
      ]
     },
     "execution_count": 60,
     "metadata": {},
     "output_type": "execute_result"
    }
   ],
   "source": [
    "# Challenge:\n",
    "# From the given data list, extract the string: \"CoreAIUnit\"\n",
    "\n",
    "data = [\n",
    "    \"MatrixPatternTrack\",      # index 0\n",
    "    \"DeepStreamAnalyzer\",      # index 1\n",
    "    \"LogicNetBaseAI\",          # index 2\n",
    "    \"SignalBoostCoreAI\",       # index 3\n",
    "    \"VisionTrackingUnit\",      # index 4\n",
    "    \"NeuroSharpModule\",        # index 5\n",
    "    \"FusionLayerSwitch\"        # index 6\n",
    "]\n",
    "\n",
    "# Constraints:\n",
    "# - Use only slicing (no replace, join, upper/lower, etc.)\n",
    "# - Final result must exactly be: \"CoreAIUnit\"\n",
    "# - You must use at least 3 unique strings from the list (3 different list items)\n",
    "# - No hardcoding characters like 'C' + 'o' + ...\n",
    "\n",
    "data[3][-6:-2] + data[2][-2:] + data[-3][-4:]"
   ]
  },
  {
   "cell_type": "code",
   "execution_count": 61,
   "id": "e273c7bd-4a4a-4ccf-bbbf-b2bece459252",
   "metadata": {},
   "outputs": [
    {
     "data": {
      "text/plain": [
       "'TrackDeepMap'"
      ]
     },
     "execution_count": 61,
     "metadata": {},
     "output_type": "execute_result"
    }
   ],
   "source": [
    "# Challenge:\n",
    "# From the given data list, extract the string: \"TrackDeepMap\"\n",
    "\n",
    "data = [\n",
    "    \"EncoderVisionMap\",         # index 0\n",
    "    \"SignalFusionLayer\",        # index 1\n",
    "    \"CortexPathwayCore\",        # index 2\n",
    "    \"TrackReverseSynth\",        # index 3\n",
    "    \"BackpropDeepLearn\",        # index 4\n",
    "    \"NeuroStepTrigger\",         # index 5\n",
    "    \"UnitPulseMapping\"          # index 6\n",
    "]\n",
    "\n",
    "# Constraints:\n",
    "# - Use only slicing (no replace, join, upper/lower, etc.)\n",
    "# - Final result must exactly be: \"TrackDeepMap\"\n",
    "# - You must use at least 3 unique strings from the list (3 different list items)\n",
    "# - No hardcoding letters individually (e.g., 'T' + 'r' + 'a' ...)\n",
    "# - Reverse slicing may be required in at least one part 😉\n",
    "\n",
    "data[-4][:5] + data[-3][-9:-5] + data[0][-3:]"
   ]
  },
  {
   "cell_type": "code",
   "execution_count": 62,
   "id": "75d4713f-8bdd-4cb9-9ba2-6955c2ebfc8f",
   "metadata": {},
   "outputs": [
    {
     "data": {
      "text/plain": [
       "'PulseSynthAI'"
      ]
     },
     "execution_count": 62,
     "metadata": {},
     "output_type": "execute_result"
    }
   ],
   "source": [
    "# Challenge:\n",
    "# From the given data list, extract the string: \"PulseSynthAI\"\n",
    "\n",
    "data = [\n",
    "    \"NeuroMatrixLayer\",        # index 0\n",
    "    \"BacktrackFusionCore\",     # index 1\n",
    "    \"PulseReverseEncoder\",     # index 2\n",
    "    \"AIBaseTriggerPoint\",      # index 3\n",
    "    \"SignalBoostSynthLab\",     # index 4\n",
    "    \"CortexMappingVision\",     # index 5\n",
    "    \"StreamAnalyzerUnit\"       # index 6\n",
    "]\n",
    "\n",
    "# Constraints:\n",
    "# - Use only slicing (no replace, join, upper/lower, etc.)\n",
    "# - Final result must exactly be: \"PulseSynthAI\"\n",
    "# - Use at least 3 unique strings from the list\n",
    "# - No hardcoded characters like 'P' + 'u' + ...\n",
    "# - You may need to slice in reverse in at least one case\n",
    "\n",
    "data[2][:5] + data[-3][-8:-3] + data[3][:2]"
   ]
  },
  {
   "cell_type": "code",
   "execution_count": 63,
   "id": "4dd01872-8d17-4849-a6ce-68afb37fac43",
   "metadata": {},
   "outputs": [
    {
     "data": {
      "text/plain": [
       "'TriggerMapNet'"
      ]
     },
     "execution_count": 63,
     "metadata": {},
     "output_type": "execute_result"
    }
   ],
   "source": [
    "# Challenge:\n",
    "# From the given data list, extract the string: \"TriggerMapNet\"\n",
    "\n",
    "data = [\n",
    "    \"LogicPulseNetwork\",        # index 0\n",
    "    \"SynthCoreAIUnit\",          # index 1\n",
    "    \"SignalMappingLayer\",       # index 2\n",
    "    \"VisionTrackTrigger\",       # index 3\n",
    "    \"FusionDecodeBase\",         # index 4\n",
    "    \"BackpropLearnMap\",         # index 5\n",
    "    \"NeuroStreamBoost\"          # index 6\n",
    "]\n",
    "\n",
    "# Constraints:\n",
    "# - Use only slicing (no replace, join, upper/lower, etc.)\n",
    "# - Final result must exactly be: \"TriggerMapNet\"\n",
    "# - You must use at least 3 different strings from the list\n",
    "# - No hardcoding characters like 'T' + 'r' + ...\n",
    "# - Reverse slicing may be necessary 😉\n",
    "# From the given data list, extract the string: \"TriggerMapNet\"\n",
    "\n",
    "data[3][-7:] + data[-2][-3:] + data[0][-7:-4]"
   ]
  },
  {
   "cell_type": "code",
   "execution_count": 64,
   "id": "27a634d9-4c2b-4c5c-b0bf-0805ac8bf58e",
   "metadata": {},
   "outputs": [
    {
     "data": {
      "text/plain": [
       "'BoostCoreBase'"
      ]
     },
     "execution_count": 64,
     "metadata": {},
     "output_type": "execute_result"
    }
   ],
   "source": [
    "# Challenge:\n",
    "# From the given data list, extract the string: \"BoostCoreBase\"\n",
    "\n",
    "data = [\n",
    "    \"LayeredVisionMap\",         # index 0\n",
    "    \"BackpropagationStep\",      # index 1\n",
    "    \"SignalTrackBoostNet\",      # index 2\n",
    "    \"CoreDecoderFusion\",        # index 3\n",
    "    \"TriggerMappingBase\",       # index 4\n",
    "    \"StreamAnalyzerUnit\",       # index 5\n",
    "    \"CortexSharpAIHub\"          # index 6\n",
    "]\n",
    "\n",
    "# Constraints:\n",
    "# - Use only slicing (no replace, join, upper/lower, etc.)\n",
    "# - Final result must exactly be: \"BoostCoreBase\"\n",
    "# - You must use at least 3 different strings from the list\n",
    "# - No hardcoded characters like 'B' + 'o' + ...\n",
    "# - May involve reverse slicing or offset tricks 😈\n",
    "\n",
    "data[2][-8:-3] + data[-4][:4] + data[-3][-4:]"
   ]
  },
  {
   "cell_type": "code",
   "execution_count": 65,
   "id": "a6ac453a-ef08-4314-99bb-03f1f5a41a2b",
   "metadata": {},
   "outputs": [
    {
     "data": {
      "text/plain": [
       "'MapStepHub'"
      ]
     },
     "execution_count": 65,
     "metadata": {},
     "output_type": "execute_result"
    }
   ],
   "source": [
    "# Challenge:\n",
    "# From the given data list, extract the string: \"MapStepHub\"\n",
    "\n",
    "data = [\n",
    "    \"LayeredVisionMap\",         # index 0\n",
    "    \"BackpropagationStep\",      # index 1\n",
    "    \"SignalTrackBoostNet\",      # index 2\n",
    "    \"CoreDecoderFusion\",        # index 3\n",
    "    \"TriggerMappingBase\",       # index 4\n",
    "    \"StreamAnalyzerUnit\",       # index 5\n",
    "    \"CortexSharpAIHub\"          # index 6\n",
    "]\n",
    "\n",
    "# Constraints:\n",
    "# - Use only slicing (no replace, join, upper/lower, etc.)\n",
    "# - Final result must exactly be: \"MapStepHub\"\n",
    "# - You must use at least 3 different strings from the list\n",
    "# - No hardcoded characters like 'M' + 'a' + ...\n",
    "# - May involve reverse slicing or offset tricks 😈\n",
    "\n",
    "data[0][-3:] + data[1][-4:] + data[-1][-3:]"
   ]
  },
  {
   "cell_type": "code",
   "execution_count": 66,
   "id": "5bf75262-f205-4a91-acbe-95516488085a",
   "metadata": {},
   "outputs": [
    {
     "data": {
      "text/plain": [
       "'TrackSharpUnit'"
      ]
     },
     "execution_count": 66,
     "metadata": {},
     "output_type": "execute_result"
    }
   ],
   "source": [
    "# Challenge:\n",
    "# From the given data list, extract the string: \"TrackSharpUnit\"\n",
    "\n",
    "data = [\n",
    "    \"LayeredVisionMap\",         # index 0\n",
    "    \"BackpropagationStep\",      # index 1\n",
    "    \"SignalTrackBoostNet\",      # index 2\n",
    "    \"CoreDecoderFusion\",        # index 3\n",
    "    \"TriggerMappingBase\",       # index 4\n",
    "    \"StreamAnalyzerUnit\",       # index 5\n",
    "    \"CortexSharpAIHub\"          # index 6\n",
    "]\n",
    "\n",
    "# Constraints:\n",
    "# - Use only slicing (no replace, join, upper/lower, etc.)\n",
    "# - Final result must exactly be: \"TrackSharpUnit\"\n",
    "# - You must use at least 3 different strings from the list\n",
    "# - No hardcoded characters like 'T' + 'r' + ...\n",
    "# - May involve reverse slicing or offset tricks 😈\n",
    "\n",
    "data[2][6:11] + data[-1][6:11] + data[-2][-4:]"
   ]
  },
  {
   "cell_type": "code",
   "execution_count": 71,
   "id": "79a308e7-5b44-4a37-9938-a401d1d28cbe",
   "metadata": {},
   "outputs": [
    {
     "data": {
      "text/plain": [
       "'VisionTriggerAI'"
      ]
     },
     "execution_count": 71,
     "metadata": {},
     "output_type": "execute_result"
    }
   ],
   "source": [
    "# Challenge:\n",
    "# From the given data list, extract the string: \"VisionTriggerAI\"\n",
    "\n",
    "data = [\n",
    "    \"LayeredVisionMap\",         # index 0\n",
    "    \"BackpropagationStep\",      # index 1\n",
    "    \"SignalTrackBoostNet\",      # index 2\n",
    "    \"CoreDecoderFusion\",        # index 3\n",
    "    \"TriggerMappingBase\",       # index 4\n",
    "    \"StreamAnalyzerUnit\",       # index 5\n",
    "    \"CortexSharpAIHub\"          # index 6\n",
    "]\n",
    "\n",
    "# Constraints:\n",
    "# - Use only slicing (no replace, join, upper/lower, etc.)\n",
    "# - Final result must exactly be: \"VisionTriggerAI\"\n",
    "# - You must use at least 3 different strings from the list\n",
    "# - No hardcoded characters like 'V' + 'i' + ...\n",
    "# - May involve reverse slicing or offset tricks 😈\n",
    "\n",
    "data[0][7:13] + data[-3][:7] + data[-1][-5:-3]"
   ]
  },
  {
   "cell_type": "code",
   "execution_count": 6,
   "id": "698c45c4-a0c4-449e-928f-08687b78e50d",
   "metadata": {},
   "outputs": [
    {
     "data": {
      "text/plain": [
       "'LayerCoreSharp'"
      ]
     },
     "execution_count": 6,
     "metadata": {},
     "output_type": "execute_result"
    }
   ],
   "source": [
    "# Challenge:\n",
    "# From the given data list, extract the string: \"LayerCoreSharp\"\n",
    "\n",
    "data = [\n",
    "    \"LayeredVisionMap\",         # index 0\n",
    "    \"BackpropagationStep\",      # index 1\n",
    "    \"SignalTrackBoostNet\",      # index 2\n",
    "    \"CoreDecoderFusion\",        # index 3\n",
    "    \"TriggerMappingBase\",       # index 4\n",
    "    \"StreamAnalyzerUnit\",       # index 5\n",
    "    \"CortexSharpAIHub\"          # index 6\n",
    "]\n",
    "\n",
    "# Constraints:\n",
    "# - Use only slicing (no replace, join, upper/lower, etc.)\n",
    "# - Final result must exactly be: \"LayerCoreSharp\"\n",
    "# - You must use at least 3 different strings from the list\n",
    "# - No hardcoded characters like 'L' + 'a' + ...\n",
    "# - May involve reverse slicing or offset tricks 😈\n",
    "\n",
    "data[0][:5] + data[3][:4] + data[-1][6:11]"
   ]
  },
  {
   "cell_type": "code",
   "execution_count": 11,
   "id": "9f1e87ac-8572-4b00-806b-625cf95afcc8",
   "metadata": {},
   "outputs": [
    {
     "data": {
      "text/plain": [
       "'FusionMappingVision'"
      ]
     },
     "execution_count": 11,
     "metadata": {},
     "output_type": "execute_result"
    }
   ],
   "source": [
    "# Challenge:\n",
    "# From the given data list, extract the string: \"FusionMappingVision\"\n",
    "\n",
    "data = [\n",
    "    \"LayeredVisionMap\",         # index 0\n",
    "    \"BackpropagationStep\",      # index 1\n",
    "    \"SignalTrackBoostNet\",      # index 2\n",
    "    \"CoreDecoderFusion\",        # index 3\n",
    "    \"TriggerMappingBase\",       # index 4\n",
    "    \"StreamAnalyzerUnit\",       # index 5\n",
    "    \"CortexSharpAIHub\"          # index 6\n",
    "]\n",
    "\n",
    "# Constraints:\n",
    "# - Use only slicing (no replace, join, upper/lower, etc.)\n",
    "# - Final result must exactly be: \"FusionMappingVision\"\n",
    "# - You must use at least 3 different strings from the list\n",
    "# - No hardcoded characters like 'F' + 'u' + ...\n",
    "# - May involve reverse slicing or offset tricks 😈\n",
    "\n",
    "data[3][-6:] + data[-3][7:14] + data[0][7:13]"
   ]
  },
  {
   "cell_type": "code",
   "execution_count": 17,
   "id": "c5bcd015-d439-4f8a-a7c7-7297aa6c9973",
   "metadata": {},
   "outputs": [
    {
     "data": {
      "text/plain": [
       "'StreamTriggerBoost'"
      ]
     },
     "execution_count": 17,
     "metadata": {},
     "output_type": "execute_result"
    }
   ],
   "source": [
    "# Challenge:\n",
    "# From the given data list, extract the string: \"StreamTriggerBoost\"\n",
    "\n",
    "data = [\n",
    "    \"LayeredVisionMap\",         # index 0\n",
    "    \"BackpropagationStep\",      # index 1\n",
    "    \"SignalTrackBoostNet\",      # index 2\n",
    "    \"CoreDecoderFusion\",        # index 3\n",
    "    \"TriggerMappingBase\",       # index 4\n",
    "    \"StreamAnalyzerUnit\",       # index 5\n",
    "    \"CortexSharpAIHub\"          # index 6\n",
    "]\n",
    "\n",
    "# Constraints:\n",
    "# - Use only slicing (no replace, join, upper/lower, etc.)\n",
    "# - Final result must exactly be: \"StreamTriggerBoost\"\n",
    "# - You must use at least 3 different strings from the list\n",
    "# - No hardcoded characters\n",
    "# - Must involve some tricky slicing or offsets 😈\n",
    "\n",
    "data[-2][:6] + data[-3][:7] + data[2][-8:-3]"
   ]
  },
  {
   "cell_type": "code",
   "execution_count": 2,
   "id": "e7f71d29-41f9-4af9-a9b7-46a069c9ae1b",
   "metadata": {},
   "outputs": [
    {
     "data": {
      "text/plain": [
       "'AnalyzerCortexStep'"
      ]
     },
     "execution_count": 2,
     "metadata": {},
     "output_type": "execute_result"
    }
   ],
   "source": [
    "# Challenge:\n",
    "# From the given data list, extract the string: \"AnalyzerCortexStep\"\n",
    "\n",
    "data = [\n",
    "    \"LayeredVisionMap\",         # index 0\n",
    "    \"BackpropagationStep\",      # index 1\n",
    "    \"SignalTrackBoostNet\",      # index 2\n",
    "    \"CoreDecoderFusion\",        # index 3\n",
    "    \"TriggerMappingBase\",       # index 4\n",
    "    \"StreamAnalyzerUnit\",       # index 5\n",
    "    \"CortexSharpAIHub\"          # index 6\n",
    "]\n",
    "\n",
    "# Constraints:\n",
    "# - Use only slicing (no replace, join, upper/lower, etc.)\n",
    "# - Final result must exactly be: \"AnalyzerCortexStep\"\n",
    "# - You must use at least 3 different strings from the list\n",
    "# - No hardcoded characters\n",
    "# - May require offset tricks or reverse logic 😈\n",
    "\n",
    "data[-2][6:14] + data[-1][:6] + data[1][-4:]"
   ]
  },
  {
   "cell_type": "code",
   "execution_count": 8,
   "id": "7f0624a3-2b71-476c-bd57-b15a15af8488",
   "metadata": {},
   "outputs": [
    {
     "data": {
      "text/plain": [
       "'TriggerBoostAI'"
      ]
     },
     "execution_count": 8,
     "metadata": {},
     "output_type": "execute_result"
    }
   ],
   "source": [
    "# Challenge:\n",
    "# From the given data list, extract the string: \"TriggerBoostAI\"\n",
    "\n",
    "data = [\n",
    "    \"LayeredVisionMap\",         # index 0\n",
    "    \"BackpropagationStep\",      # index 1\n",
    "    \"SignalTrackBoostNet\",      # index 2\n",
    "    \"CoreDecoderFusion\",        # index 3\n",
    "    \"TriggerMappingBase\",       # index 4\n",
    "    \"StreamAnalyzerUnit\",       # index 5\n",
    "    \"CortexSharpAIHub\"          # index 6\n",
    "]\n",
    "\n",
    "# Constraints:\n",
    "# - Use only slicing (no replace, join, upper/lower, etc.)\n",
    "# - Final result must exactly be: \"TriggerBoostAI\"\n",
    "# - You must use at least 3 different strings from the list\n",
    "# - No hardcoded characters\n",
    "# - Tricky indexing encouraged 😈\n",
    "\n",
    "data[-3][:7] + data[2][-8:-3] + data[-1][-5:-3]"
   ]
  },
  {
   "cell_type": "code",
   "execution_count": 14,
   "id": "6b8202e0-d3cb-4be4-a4a4-a0a04a1507f7",
   "metadata": {},
   "outputs": [
    {
     "data": {
      "text/plain": [
       "'CoreStepVision'"
      ]
     },
     "execution_count": 14,
     "metadata": {},
     "output_type": "execute_result"
    }
   ],
   "source": [
    "# Challenge:\n",
    "# From the given data list, extract the string: \"CoreStepVision\"\n",
    "\n",
    "data = [\n",
    "    \"LayeredVisionMap\",         # index 0\n",
    "    \"BackpropagationStep\",      # index 1\n",
    "    \"SignalTrackBoostNet\",      # index 2\n",
    "    \"CoreDecoderFusion\",        # index 3\n",
    "    \"TriggerMappingBase\",       # index 4\n",
    "    \"StreamAnalyzerUnit\",       # index 5\n",
    "    \"CortexSharpAIHub\"          # index 6\n",
    "]\n",
    "\n",
    "# Constraints:\n",
    "# - Use only slicing (no replace, join, upper/lower, etc.)\n",
    "# - Final result must exactly be: \"CoreStepVision\"\n",
    "# - You must use at least 3 different strings from the list\n",
    "# - No hardcoded characters\n",
    "# - Should include offset tricks or slicing from the middle 😈\n",
    "\n",
    "data[3][:4] + data[1][-4:] + data[0][7:13]"
   ]
  },
  {
   "cell_type": "code",
   "execution_count": 1,
   "id": "96bd46df-90bb-46cc-8de9-943589bf06e2",
   "metadata": {},
   "outputs": [
    {
     "data": {
      "text/plain": [
       "'LayerCoreSharp'"
      ]
     },
     "execution_count": 1,
     "metadata": {},
     "output_type": "execute_result"
    }
   ],
   "source": [
    "# Challenge:\n",
    "# From the given data list, extract the string: \"LayerCoreSharp\"\n",
    "\n",
    "data = [\n",
    "    \"LayeredVisionMap\",         # index 0\n",
    "    \"BackpropagationStep\",      # index 1\n",
    "    \"SignalTrackBoostNet\",      # index 2\n",
    "    \"CoreDecoderFusion\",        # index 3\n",
    "    \"TriggerMappingBase\",       # index 4\n",
    "    \"StreamAnalyzerUnit\",       # index 5\n",
    "    \"CortexSharpAIHub\"          # index 6\n",
    "]\n",
    "\n",
    "# Constraints:\n",
    "# - Use only slicing (no replace, join, upper/lower, etc.)\n",
    "# - Final result must exactly be: \"LayerCoreSharp\"\n",
    "# - You must use at least 3 different strings from the list\n",
    "# - No hardcoded characters like 'L' + 'a' + ...\n",
    "# - May involve reverse slicing or offset tricks 😈\n",
    "\n",
    "data[0][:5] + data[3][:4] + data[-1][6:11]"
   ]
  },
  {
   "cell_type": "code",
   "execution_count": 2,
   "id": "0663cd2e-67e8-44fb-bcd6-070cc042e309",
   "metadata": {},
   "outputs": [
    {
     "data": {
      "text/plain": [
       "'DataHero'"
      ]
     },
     "execution_count": 2,
     "metadata": {},
     "output_type": "execute_result"
    }
   ],
   "source": [
    "# From the list below, construct the word \"DataHero\" using only slicing.\n",
    "# Do NOT use any string methods (like .replace, .join, etc.)\n",
    "# Do NOT hardcode the final word — only build it using slices.\n",
    "# All slicing must stay within indexes -5 to 5 only (no numbers beyond 5 or below -5).\n",
    "# Final output must be exactly: \"DataHero\"\n",
    "\n",
    "data = [\n",
    "    \"---DataDriven---\",\n",
    "    \"MachineLearn++\",\n",
    "    \"ZeroToHero###\",\n",
    "    \"AI4ALL\",\n",
    "    \"CodeX\"\n",
    "]\n",
    "\n",
    "# Rules:\n",
    "# - You can use multiple slice expressions and concatenate them\n",
    "# - Only use slicing (e.g., data[__][__ : __])\n",
    "# - Index values must stay within -5 to +5\n",
    "# - Final result should be: \"DataHero\"\n",
    "\n",
    "result = data[-5][-13:7] + data[-3][-7:10]\n",
    "result"
   ]
  },
  {
   "cell_type": "code",
   "execution_count": 3,
   "id": "da7eb651-b656-4d86-8059-40e9aaab6f2b",
   "metadata": {},
   "outputs": [
    {
     "data": {
      "text/plain": [
       "'Machine'"
      ]
     },
     "execution_count": 3,
     "metadata": {},
     "output_type": "execute_result"
    }
   ],
   "source": [
    "# From the list below, extract the word \"Machine\" (in correct order) without directly using data[3],\n",
    "# AND without using any numbers greater than 2 in any index.\n",
    "# Use slicing only — no loops, no string methods.\n",
    "\n",
    "data = [\n",
    "    \"XxStart\",\n",
    "    \"AlphaBetaGamma\",\n",
    "    \"LearningMachineAI\",\n",
    "    \"Target\",\n",
    "    \"End\"\n",
    "]\n",
    "\n",
    "# Rules:\n",
    "# - Final output should be: \"Machine\"\n",
    "# - You cannot write anything like data[3] or data[2][8:] etc.\n",
    "# - Use only slicing, and use only indexes like 0, 1, 2 or -1, -2, etc.\n",
    "\n",
    "data[-3][-9:-2]"
   ]
  },
  {
   "cell_type": "code",
   "execution_count": 5,
   "id": "3355690a-653e-4948-90ce-fcca6ed53129",
   "metadata": {},
   "outputs": [
    {
     "data": {
      "text/plain": [
       "'BoostUnitMap'"
      ]
     },
     "execution_count": 5,
     "metadata": {},
     "output_type": "execute_result"
    }
   ],
   "source": [
    "# Challenge:\n",
    "# From the given data list, extract the string: \"BoostUnitMap\"\n",
    "\n",
    "data = [\n",
    "    \"LayeredVisionMap\",         # index 0\n",
    "    \"BackpropagationStep\",      # index 1\n",
    "    \"SignalTrackBoostNet\",      # index 2\n",
    "    \"CoreDecoderFusion\",        # index 3\n",
    "    \"TriggerMappingBase\",       # index 4\n",
    "    \"StreamAnalyzerUnit\",       # index 5\n",
    "    \"CortexSharpAIHub\"          # index 6\n",
    "]\n",
    "\n",
    "# Constraints:\n",
    "# - Use only slicing (no replace, join, upper/lower, etc.)\n",
    "# - Final result must exactly be: \"BoostUnitMap\"\n",
    "# - You must use at least 3 different strings from the list\n",
    "# - No hardcoded characters\n",
    "# - Use smart indexing and avoid obvious patterns 😈\n",
    "\n",
    "data[2][-8:-3] + data[-2][-4:] + data[0][-3:]"
   ]
  },
  {
   "cell_type": "code",
   "execution_count": 10,
   "id": "6bb8c929-67a2-4601-9c4e-8840dbff4c06",
   "metadata": {},
   "outputs": [
    {
     "data": {
      "text/plain": [
       "'HubNetLayer'"
      ]
     },
     "execution_count": 10,
     "metadata": {},
     "output_type": "execute_result"
    }
   ],
   "source": [
    "# Challenge:\n",
    "# From the given data list, extract the string: \"HubNetLayer\"\n",
    "\n",
    "data = [\n",
    "    \"LayeredVisionMap\",         # index 0\n",
    "    \"BackpropagationStep\",      # index 1\n",
    "    \"SignalTrackBoostNet\",      # index 2\n",
    "    \"CoreDecoderFusion\",        # index 3\n",
    "    \"TriggerMappingBase\",       # index 4\n",
    "    \"StreamAnalyzerUnit\",       # index 5\n",
    "    \"CortexSharpAIHub\"          # index 6\n",
    "]\n",
    "\n",
    "# Constraints:\n",
    "# - Use only slicing (no replace, join, upper/lower, etc.)\n",
    "# - Final result must exactly be: \"HubNetLayer\"\n",
    "# - You must use at least 3 different strings from the list\n",
    "# - No hardcoded characters\n",
    "# - You must use at least one **reverse slicing** trick 😈\n",
    "\n",
    "data[-1][-3:] + data[2][-3:] + data[0][:5]"
   ]
  },
  {
   "cell_type": "code",
   "execution_count": 15,
   "id": "f141666a-cbfc-4ee5-a1ba-3cdc69f61105",
   "metadata": {},
   "outputs": [
    {
     "data": {
      "text/plain": [
       "'DecoderStreamTrack'"
      ]
     },
     "execution_count": 15,
     "metadata": {},
     "output_type": "execute_result"
    }
   ],
   "source": [
    "# Challenge:\n",
    "# From the given data list, extract the string: \"DecoderStreamTrack\"\n",
    "\n",
    "data = [\n",
    "    \"LayeredVisionMap\",         # index 0\n",
    "    \"BackpropagationStep\",      # index 1\n",
    "    \"SignalTrackBoostNet\",      # index 2\n",
    "    \"CoreDecoderFusion\",        # index 3\n",
    "    \"TriggerMappingBase\",       # index 4\n",
    "    \"StreamAnalyzerUnit\",       # index 5\n",
    "    \"CortexSharpAIHub\"          # index 6\n",
    "]\n",
    "\n",
    "# Constraints:\n",
    "# - Use only slicing (no replace, join, upper/lower, etc.)\n",
    "# - Final result must exactly be: \"DecoderStreamTrack\"\n",
    "# - You must use at least 3 different strings from the list\n",
    "# - No hardcoded characters\n",
    "# - At least one slice must be in **reverse**\n",
    "# - Avoid obvious indexes — offset and inner slicing preferred 😈\n",
    "\n",
    "data[3][4:11] + data[-2][:6] + data[2][6:11]"
   ]
  },
  {
   "cell_type": "code",
   "execution_count": 5,
   "id": "b23cfc1d-baf9-4fb0-9187-bd4809a901d0",
   "metadata": {},
   "outputs": [
    {
     "data": {
      "text/plain": [
       "'MappingFusionSharp'"
      ]
     },
     "execution_count": 5,
     "metadata": {},
     "output_type": "execute_result"
    }
   ],
   "source": [
    "# Challenge:\n",
    "# From the given data list, extract the string: \"MappingFusionSharp\"\n",
    "\n",
    "data = [\n",
    "    \"LayeredVisionMap\",         # index 0\n",
    "    \"BackpropagationStep\",      # index 1\n",
    "    \"SignalTrackBoostNet\",      # index 2\n",
    "    \"CoreDecoderFusion\",        # index 3\n",
    "    \"TriggerMappingBase\",       # index 4\n",
    "    \"StreamAnalyzerUnit\",       # index 5\n",
    "    \"CortexSharpAIHub\"          # index 6\n",
    "]\n",
    "\n",
    "# Constraints:\n",
    "# - Use only slicing (no replace, join, upper/lower, etc.)\n",
    "# - Final result must exactly be: \"MappingFusionSharp\"\n",
    "# - You must use at least 3 different strings from the list\n",
    "# - No hardcoded characters\n",
    "# - Must include at least one **reverse slice**\n",
    "# - Bonus points for using offsets creatively 😈\n",
    "\n",
    "data[-3][7:14] + data[3][-6:] + data[-1][6:11]"
   ]
  },
  {
   "cell_type": "code",
   "execution_count": 10,
   "id": "77f3f2be-a47b-4925-9113-4f7dbb114b17",
   "metadata": {},
   "outputs": [
    {
     "data": {
      "text/plain": [
       "'AITriggerLayer'"
      ]
     },
     "execution_count": 10,
     "metadata": {},
     "output_type": "execute_result"
    }
   ],
   "source": [
    "# Challenge:\n",
    "# From the given data list, extract the string: \"AITriggerLayer\"\n",
    "\n",
    "data = [\n",
    "    \"LayeredVisionMap\",         # index 0\n",
    "    \"BackpropagationStep\",      # index 1\n",
    "    \"SignalTrackBoostNet\",      # index 2\n",
    "    \"CoreDecoderFusion\",        # index 3\n",
    "    \"TriggerMappingBase\",       # index 4\n",
    "    \"StreamAnalyzerUnit\",       # index 5\n",
    "    \"CortexSharpAIHub\"          # index 6\n",
    "]\n",
    "\n",
    "# Constraints:\n",
    "# - Use only slicing (no replace, join, upper/lower, etc.)\n",
    "# - Final result must exactly be: \"AITriggerLayer\"\n",
    "# - You must use at least 3 different strings from the list\n",
    "# - No hardcoded characters\n",
    "# - You **must** use at least one **reverse slicing** (e.g., [::-1] or similar)\n",
    "# - Trickier offsets and clever cuts encouraged 😈\n",
    "\n",
    "data[-1][-5:-3] + data[-3][:7] + data[0][:5]"
   ]
  },
  {
   "cell_type": "code",
   "execution_count": null,
   "id": "782a8253-6f51-45ce-98d9-e173caf7b729",
   "metadata": {},
   "outputs": [],
   "source": []
  }
 ],
 "metadata": {
  "kernelspec": {
   "display_name": "Python 3 (ipykernel)",
   "language": "python",
   "name": "python3"
  },
  "language_info": {
   "codemirror_mode": {
    "name": "ipython",
    "version": 3
   },
   "file_extension": ".py",
   "mimetype": "text/x-python",
   "name": "python",
   "nbconvert_exporter": "python",
   "pygments_lexer": "ipython3",
   "version": "3.13.4"
  }
 },
 "nbformat": 4,
 "nbformat_minor": 5
}
