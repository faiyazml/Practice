{
 "cells": [
  {
   "cell_type": "code",
   "execution_count": 1,
   "id": "20beb902-c142-457c-b76e-3ed9ec7c6d5f",
   "metadata": {},
   "outputs": [],
   "source": [
    "import pandas as pd\n",
    "import numpy as np\n",
    "import matplotlib.pyplot as plt\n",
    "import seaborn as sns"
   ]
  },
  {
   "cell_type": "markdown",
   "id": "b8184faf-56e6-4cb5-84bc-9a23cce153fe",
   "metadata": {},
   "source": [
    "### Valid Sudoku"
   ]
  },
  {
   "cell_type": "code",
   "execution_count": 2,
   "id": "01aca062-5ef2-423a-94d1-24cb73fc0551",
   "metadata": {},
   "outputs": [],
   "source": [
    "s = np.array([\n",
    "    [5, 3, 4, 6, 7, 8, 9, 1, 2],\n",
    "    [6, 7, 2, 1, 9, 5, 3, 4, 8],\n",
    "    [1, 9, 8, 3, 4, 2, 5, 6, 7],\n",
    "    \n",
    "    [8, 5, 9, 7, 6, 1, 4, 2, 3],\n",
    "    [4, 2, 6, 8, 5, 3, 7, 9, 1],\n",
    "    [7, 1, 3, 9, 2, 4, 8, 5, 6],\n",
    "    \n",
    "    [9, 6, 1, 5, 3, 7, 2, 8, 4],\n",
    "    [2, 8, 7, 4, 1, 9, 6, 3, 5],\n",
    "    [3, 4, 5, 2, 8, 6, 1, 7, 9]\n",
    "])"
   ]
  },
  {
   "cell_type": "code",
   "execution_count": 3,
   "id": "255886a9-babb-462a-9923-0bfd6635c14c",
   "metadata": {},
   "outputs": [
    {
     "name": "stdout",
     "output_type": "stream",
     "text": [
      "For rows it is valid.\n"
     ]
    }
   ],
   "source": [
    "b = np.sum(s, axis = 1)  # axis = 1 is for rows\n",
    "for i in b:\n",
    "    if i != 45:\n",
    "        print(\"Sudoku is not valid!\")\n",
    "    else:\n",
    "        print(\"For rows it is valid.\")\n",
    "        break"
   ]
  },
  {
   "cell_type": "code",
   "execution_count": 4,
   "id": "d80a068e-c1e3-40cc-bd65-94d123756182",
   "metadata": {},
   "outputs": [
    {
     "data": {
      "text/plain": [
       "array([[5, 3, 4],\n",
       "       [6, 7, 2],\n",
       "       [1, 9, 8]])"
      ]
     },
     "execution_count": 4,
     "metadata": {},
     "output_type": "execute_result"
    }
   ],
   "source": [
    "s[0:3, 0:3]  # for index slicing, first slicing for rows and second for columns"
   ]
  },
  {
   "cell_type": "code",
   "execution_count": 5,
   "id": "d6209046-99d6-4b3e-b07a-a89ac45dae9b",
   "metadata": {},
   "outputs": [
    {
     "data": {
      "text/plain": [
       "array([[6, 7, 8],\n",
       "       [1, 9, 5],\n",
       "       [3, 4, 2]])"
      ]
     },
     "execution_count": 5,
     "metadata": {},
     "output_type": "execute_result"
    }
   ],
   "source": [
    "s[0:3, 3:6]  # index slicing, first slicing for rows and second for columns"
   ]
  },
  {
   "cell_type": "code",
   "execution_count": 6,
   "id": "ad84b488-01a9-4e7b-b0a1-a1f59a660355",
   "metadata": {},
   "outputs": [
    {
     "data": {
      "text/plain": [
       "array([[9, 1, 2],\n",
       "       [3, 4, 8],\n",
       "       [5, 6, 7]])"
      ]
     },
     "execution_count": 6,
     "metadata": {},
     "output_type": "execute_result"
    }
   ],
   "source": [
    "s[0:3, 6:9]  # index slicing, first slicing for rows and second for columns"
   ]
  },
  {
   "cell_type": "code",
   "execution_count": 7,
   "id": "a99dc0a6-85d1-486e-a6ff-a6629584f46b",
   "metadata": {},
   "outputs": [
    {
     "data": {
      "text/plain": [
       "array([[5, 3, 4, 6, 7, 8, 9, 1, 2],\n",
       "       [6, 7, 2, 1, 9, 5, 3, 4, 8],\n",
       "       [1, 9, 8, 3, 4, 2, 5, 6, 7],\n",
       "       [8, 5, 9, 7, 6, 1, 4, 2, 3],\n",
       "       [4, 2, 6, 8, 5, 3, 7, 9, 1],\n",
       "       [7, 1, 3, 9, 2, 4, 8, 5, 6],\n",
       "       [9, 6, 1, 5, 3, 7, 2, 8, 4],\n",
       "       [2, 8, 7, 4, 1, 9, 6, 3, 5],\n",
       "       [3, 4, 5, 2, 8, 6, 1, 7, 9]])"
      ]
     },
     "execution_count": 7,
     "metadata": {},
     "output_type": "execute_result"
    }
   ],
   "source": [
    "s"
   ]
  },
  {
   "cell_type": "code",
   "execution_count": 8,
   "id": "844f350b-6a6f-473a-b55b-5fef3d460018",
   "metadata": {},
   "outputs": [
    {
     "name": "stdout",
     "output_type": "stream",
     "text": [
      "[[5 3 4]\n",
      " [6 7 2]\n",
      " [1 9 8]]\n",
      "[[6 7 8]\n",
      " [1 9 5]\n",
      " [3 4 2]]\n",
      "[[9 1 2]\n",
      " [3 4 8]\n",
      " [5 6 7]]\n",
      "[[8 5 9]\n",
      " [4 2 6]\n",
      " [7 1 3]]\n",
      "[[7 6 1]\n",
      " [8 5 3]\n",
      " [9 2 4]]\n",
      "[[4 2 3]\n",
      " [7 9 1]\n",
      " [8 5 6]]\n",
      "[[9 6 1]\n",
      " [2 8 7]\n",
      " [3 4 5]]\n",
      "[[5 3 7]\n",
      " [4 1 9]\n",
      " [2 8 6]]\n",
      "[[2 8 4]\n",
      " [6 3 5]\n",
      " [1 7 9]]\n"
     ]
    }
   ],
   "source": [
    "# making 3X3 array of s using loop wise slicing\n",
    "for i in range(0, 9, 3):  # for rows\n",
    "    for j in range(0, 9, 3):  # for columns\n",
    "        print(s[i:i+3,j:j+3])  # s[start_row : end_row, start_column : end_column]\n",
    "\n",
    "# in official Numpy slicing of array format are mention below \n",
    "# s[rows, columns] "
   ]
  },
  {
   "cell_type": "markdown",
   "id": "437eb8fb-5e6f-471a-8d75-e80ff8d3c5c9",
   "metadata": {},
   "source": [
    "### General Questions"
   ]
  },
  {
   "cell_type": "code",
   "execution_count": 9,
   "id": "4f6fdcb3-c6c5-4170-9672-fda6da8391f6",
   "metadata": {},
   "outputs": [],
   "source": [
    "# Columns: [Age, Math Marks, Science Marks]\n",
    "data = np.array([\n",
    "    [18, 85, 78],   # Student 1\n",
    "    [19, 92, 88],   # Student 2\n",
    "    [17, 76, 95],   # Student 3\n",
    "    [18, 65, 70],   # Student 4\n",
    "    [20, 90, 85]    # Student 5\n",
    "]) "
   ]
  },
  {
   "cell_type": "code",
   "execution_count": 20,
   "id": "cc86649d-6eaf-4f29-ae82-626d87ab0412",
   "metadata": {},
   "outputs": [
    {
     "data": {
      "text/plain": [
       "(5, 3)"
      ]
     },
     "execution_count": 20,
     "metadata": {},
     "output_type": "execute_result"
    }
   ],
   "source": [
    "# Get the shape of the matrix.\n",
    "data.shape"
   ]
  },
  {
   "cell_type": "code",
   "execution_count": 23,
   "id": "512ab9df-174c-473a-b85a-edcaf1694bc3",
   "metadata": {},
   "outputs": [
    {
     "data": {
      "text/plain": [
       "18.4"
      ]
     },
     "execution_count": 23,
     "metadata": {},
     "output_type": "execute_result"
    }
   ],
   "source": [
    "# Find the average age of students.\n",
    "np.mean(data[:, 0])"
   ]
  },
  {
   "cell_type": "code",
   "execution_count": 12,
   "id": "050a5141-ab0a-4e9d-be98-bb37d1e8bd3f",
   "metadata": {},
   "outputs": [],
   "source": [
    "# Extract Math marks of all students.\n"
   ]
  },
  {
   "cell_type": "code",
   "execution_count": 13,
   "id": "05a724aa-b2b6-4c32-b1f6-03b568d87649",
   "metadata": {},
   "outputs": [],
   "source": [
    "# Find the highest Science mark.\n"
   ]
  },
  {
   "cell_type": "code",
   "execution_count": 14,
   "id": "58dbe813-ad7d-4bd1-af72-81f0f7cd86ff",
   "metadata": {},
   "outputs": [],
   "source": [
    "# Get details of the student who scored more than 90 in Math.\n"
   ]
  },
  {
   "cell_type": "code",
   "execution_count": 15,
   "id": "0d8d4e9f-e7aa-4926-a432-4565b3e08f27",
   "metadata": {},
   "outputs": [],
   "source": [
    "# Increase Math marks of all students by 5.\n"
   ]
  },
  {
   "cell_type": "code",
   "execution_count": 16,
   "id": "6d3945af-91b5-4e81-ad8d-3ec3dca1119d",
   "metadata": {},
   "outputs": [],
   "source": [
    "# Find how many students are younger than 19.\n"
   ]
  },
  {
   "cell_type": "code",
   "execution_count": 17,
   "id": "64134eb8-c6d1-4d0b-a19b-1d124b18cf71",
   "metadata": {},
   "outputs": [],
   "source": [
    "# Calculate the average marks in each subject (column-wise mean).\n"
   ]
  },
  {
   "cell_type": "code",
   "execution_count": 18,
   "id": "0c44133f-6641-4da8-9d52-e28ee75098c4",
   "metadata": {},
   "outputs": [],
   "source": [
    "# Get data of students who scored at least 80 in both subjects.\n"
   ]
  },
  {
   "cell_type": "code",
   "execution_count": 19,
   "id": "7619e559-c244-4ca1-add2-7daca65b365e",
   "metadata": {},
   "outputs": [],
   "source": [
    "# Replace all Science marks < 75 with 0.\n"
   ]
  }
 ],
 "metadata": {
  "kernelspec": {
   "display_name": "Python (booksenv)",
   "language": "python",
   "name": "booksenv"
  },
  "language_info": {
   "codemirror_mode": {
    "name": "ipython",
    "version": 3
   },
   "file_extension": ".py",
   "mimetype": "text/x-python",
   "name": "python",
   "nbconvert_exporter": "python",
   "pygments_lexer": "ipython3",
   "version": "3.12.7"
  }
 },
 "nbformat": 4,
 "nbformat_minor": 5
}
