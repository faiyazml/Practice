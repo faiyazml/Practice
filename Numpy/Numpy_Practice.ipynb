{
 "cells": [
  {
   "cell_type": "code",
   "execution_count": 1,
   "id": "55d67c48-cfae-449a-a6e1-613ea6d8976c",
   "metadata": {},
   "outputs": [],
   "source": [
    "import numpy as np"
   ]
  },
  {
   "cell_type": "code",
   "execution_count": 2,
   "id": "52ee7aa0-b19d-4fb6-9efd-b056aff79706",
   "metadata": {},
   "outputs": [
    {
     "data": {
      "text/plain": [
       "array([ 0,  1,  2,  3,  4,  5,  6,  7,  8,  9, 10, 11, 12, 13, 14, 15, 16,\n",
       "       17, 18, 19, 20, 21, 22, 23])"
      ]
     },
     "execution_count": 2,
     "metadata": {},
     "output_type": "execute_result"
    }
   ],
   "source": [
    "np.arange(0,24)"
   ]
  },
  {
   "cell_type": "code",
   "execution_count": 3,
   "id": "3da73982-55bf-428c-839a-7b3332664b76",
   "metadata": {},
   "outputs": [
    {
     "name": "stdout",
     "output_type": "stream",
     "text": [
      "[1 2 3 4]\n"
     ]
    }
   ],
   "source": [
    "arr1 = np.array([1, 2, 3, 4])\n",
    "print(arr1)"
   ]
  },
  {
   "cell_type": "code",
   "execution_count": 4,
   "id": "f75d506d-2d4e-4231-b1ac-20c8b3f24e26",
   "metadata": {},
   "outputs": [
    {
     "data": {
      "text/plain": [
       "3"
      ]
     },
     "execution_count": 4,
     "metadata": {},
     "output_type": "execute_result"
    }
   ],
   "source": [
    "arr3d = np.array([[[1, 2], [3, 4]], [[5, 6], [7,8]]])\n",
    "arr3d.ndim"
   ]
  },
  {
   "cell_type": "code",
   "execution_count": 5,
   "id": "bfd2e727-4835-47f5-9e91-878600b811e4",
   "metadata": {},
   "outputs": [
    {
     "data": {
      "text/plain": [
       "array([[0., 0., 0., 0.],\n",
       "       [0., 0., 0., 0.]])"
      ]
     },
     "execution_count": 5,
     "metadata": {},
     "output_type": "execute_result"
    }
   ],
   "source": [
    "np.zeros((2, 4))"
   ]
  },
  {
   "cell_type": "code",
   "execution_count": 6,
   "id": "7969340c-4c96-4bf6-9f98-22478df79af1",
   "metadata": {},
   "outputs": [
    {
     "data": {
      "text/plain": [
       "array([[1, 2, 3],\n",
       "       [4, 5, 6],\n",
       "       [7, 8, 9]])"
      ]
     },
     "execution_count": 6,
     "metadata": {},
     "output_type": "execute_result"
    }
   ],
   "source": [
    "arr2 = np.array([[1, 2, 3],[4, 5, 6], [7, 8, 9]])\n",
    "arr2"
   ]
  },
  {
   "cell_type": "code",
   "execution_count": 7,
   "id": "8f2f6f2d-8043-4245-b6e2-6e07d3995c51",
   "metadata": {},
   "outputs": [
    {
     "data": {
      "text/plain": [
       "(3, 3)"
      ]
     },
     "execution_count": 7,
     "metadata": {},
     "output_type": "execute_result"
    }
   ],
   "source": [
    "arr2.shape"
   ]
  },
  {
   "cell_type": "code",
   "execution_count": 8,
   "id": "537df2fc-28a8-4ceb-9f7f-24402630554f",
   "metadata": {},
   "outputs": [
    {
     "data": {
      "text/plain": [
       "9"
      ]
     },
     "execution_count": 8,
     "metadata": {},
     "output_type": "execute_result"
    }
   ],
   "source": [
    "arr2.size"
   ]
  },
  {
   "cell_type": "code",
   "execution_count": 9,
   "id": "ea8cb951-411b-4262-b320-b6b2bd7fd243",
   "metadata": {},
   "outputs": [
    {
     "data": {
      "text/plain": [
       "2"
      ]
     },
     "execution_count": 9,
     "metadata": {},
     "output_type": "execute_result"
    }
   ],
   "source": [
    "arr2.ndim"
   ]
  },
  {
   "cell_type": "code",
   "execution_count": 10,
   "id": "9c713409-5195-43d6-bd20-3ba69764095c",
   "metadata": {},
   "outputs": [
    {
     "data": {
      "text/plain": [
       "dtype('int64')"
      ]
     },
     "execution_count": 10,
     "metadata": {},
     "output_type": "execute_result"
    }
   ],
   "source": [
    "arr2.dtype"
   ]
  },
  {
   "cell_type": "code",
   "execution_count": 11,
   "id": "f50b54d9-9fd9-40b6-94df-ca31254bcea4",
   "metadata": {},
   "outputs": [],
   "source": [
    "array2 = np.array([[1, 2, 3],[4, 5, 6], [7, 8, 9]] ,dtype=float)"
   ]
  },
  {
   "cell_type": "code",
   "execution_count": 12,
   "id": "c0244dec-a0a8-4eaa-b12f-9ff25481e5d0",
   "metadata": {},
   "outputs": [
    {
     "data": {
      "text/plain": [
       "dtype('float64')"
      ]
     },
     "execution_count": 12,
     "metadata": {},
     "output_type": "execute_result"
    }
   ],
   "source": [
    "array2.dtype"
   ]
  },
  {
   "cell_type": "code",
   "execution_count": 13,
   "id": "e66f7bd6-f02b-4498-adeb-da05d5318909",
   "metadata": {},
   "outputs": [],
   "source": [
    "farr = np.array([3,6,2,5])"
   ]
  },
  {
   "cell_type": "code",
   "execution_count": 14,
   "id": "ecd071eb-b00e-43bf-9eac-3bcb9963eef0",
   "metadata": {},
   "outputs": [
    {
     "data": {
      "text/plain": [
       "(4,)"
      ]
     },
     "execution_count": 14,
     "metadata": {},
     "output_type": "execute_result"
    }
   ],
   "source": [
    "farr.shape"
   ]
  },
  {
   "cell_type": "code",
   "execution_count": 15,
   "id": "2de176fc-a228-49ff-be38-d24be2ff18ba",
   "metadata": {},
   "outputs": [
    {
     "data": {
      "text/plain": [
       "array([ 3, 40,  2,  5])"
      ]
     },
     "execution_count": 15,
     "metadata": {},
     "output_type": "execute_result"
    }
   ],
   "source": [
    "farr[1]=40\n",
    "farr"
   ]
  },
  {
   "cell_type": "code",
   "execution_count": 16,
   "id": "c33b5065-7335-4b7e-b52c-cf9d9297f8d5",
   "metadata": {},
   "outputs": [
    {
     "data": {
      "text/plain": [
       "array([ 1,  2,  3,  4,  5,  6,  7,  8,  9, 10])"
      ]
     },
     "execution_count": 16,
     "metadata": {},
     "output_type": "execute_result"
    }
   ],
   "source": [
    "np.arange(1,11)  # kind of (for loop with range)"
   ]
  },
  {
   "cell_type": "code",
   "execution_count": 17,
   "id": "1ca3d3d1-9f5b-4af5-97f1-7c6169a3bca2",
   "metadata": {},
   "outputs": [
    {
     "data": {
      "text/plain": [
       "array([ 1.,  4.,  7., 10.])"
      ]
     },
     "execution_count": 17,
     "metadata": {},
     "output_type": "execute_result"
    }
   ],
   "source": [
    "np.linspace(1,10,4)  # start end num : (from 1 - 10 distributes equely) num times = 4 times"
   ]
  },
  {
   "cell_type": "code",
   "execution_count": 18,
   "id": "a2865b5d-ced8-4b85-8a6a-e3dd1472ffd0",
   "metadata": {},
   "outputs": [
    {
     "data": {
      "text/plain": [
       "array([2.41907520e-312, 1.06099790e-312, 2.33419537e-312, 2.22809558e-312,\n",
       "       2.67020950e-306, 2.08388517e-134])"
      ]
     },
     "execution_count": 18,
     "metadata": {},
     "output_type": "execute_result"
    }
   ],
   "source": [
    "emp = np.empty(6)  \n",
    "emp"
   ]
  },
  {
   "cell_type": "code",
   "execution_count": 19,
   "id": "ec2a3bd2-ede9-489f-98e2-fbf2727ce006",
   "metadata": {},
   "outputs": [
    {
     "data": {
      "text/plain": [
       "array([[1., 1., 1.],\n",
       "       [1., 1., 1.],\n",
       "       [1., 1., 1.],\n",
       "       [1., 1., 1.],\n",
       "       [1., 1., 1.],\n",
       "       [1., 1., 1.]])"
      ]
     },
     "execution_count": 19,
     "metadata": {},
     "output_type": "execute_result"
    }
   ],
   "source": [
    "np.ones((6,3))"
   ]
  },
  {
   "cell_type": "code",
   "execution_count": 20,
   "id": "2ecd5412-d821-429b-a02b-2a4650cf2c74",
   "metadata": {},
   "outputs": [
    {
     "data": {
      "text/plain": [
       "array([[0., 0., 0.],\n",
       "       [0., 0., 0.],\n",
       "       [0., 0., 0.],\n",
       "       [0., 0., 0.],\n",
       "       [0., 0., 0.]])"
      ]
     },
     "execution_count": 20,
     "metadata": {},
     "output_type": "execute_result"
    }
   ],
   "source": [
    "np.zeros((5,3))"
   ]
  },
  {
   "cell_type": "code",
   "execution_count": 21,
   "id": "40c89ec4-d9a4-4ab5-951c-7c6fbe59826f",
   "metadata": {},
   "outputs": [
    {
     "data": {
      "text/plain": [
       "array([[3, 3],\n",
       "       [3, 3],\n",
       "       [3, 3],\n",
       "       [3, 3],\n",
       "       [3, 3]])"
      ]
     },
     "execution_count": 21,
     "metadata": {},
     "output_type": "execute_result"
    }
   ],
   "source": [
    "np.full((5,2), 3)"
   ]
  },
  {
   "cell_type": "code",
   "execution_count": 22,
   "id": "1720f2aa-90be-40a4-af68-2cae6d87f6af",
   "metadata": {},
   "outputs": [
    {
     "data": {
      "text/plain": [
       "array([3, 5, 7, 2])"
      ]
     },
     "execution_count": 22,
     "metadata": {},
     "output_type": "execute_result"
    }
   ],
   "source": [
    "np.array([3,5,7,2])"
   ]
  },
  {
   "cell_type": "code",
   "execution_count": 23,
   "id": "99002461-c41f-4a96-a3aa-f538d2e6b709",
   "metadata": {},
   "outputs": [
    {
     "data": {
      "text/plain": [
       "array([[0., 0., 0.],\n",
       "       [0., 0., 0.],\n",
       "       [0., 0., 0.],\n",
       "       [0., 0., 0.],\n",
       "       [0., 0., 0.]])"
      ]
     },
     "execution_count": 23,
     "metadata": {},
     "output_type": "execute_result"
    }
   ],
   "source": [
    "sanu = np.zeros((5,3))\n",
    "sanu"
   ]
  },
  {
   "cell_type": "code",
   "execution_count": 24,
   "id": "ed9c101c-2202-4389-bcbf-7e043410b3b6",
   "metadata": {},
   "outputs": [
    {
     "data": {
      "text/plain": [
       "2"
      ]
     },
     "execution_count": 24,
     "metadata": {},
     "output_type": "execute_result"
    }
   ],
   "source": [
    "sanu.ndim"
   ]
  },
  {
   "cell_type": "code",
   "execution_count": 25,
   "id": "fb95d6d9-6662-4e0a-b051-5a742fbd277b",
   "metadata": {},
   "outputs": [
    {
     "data": {
      "text/plain": [
       "4"
      ]
     },
     "execution_count": 25,
     "metadata": {},
     "output_type": "execute_result"
    }
   ],
   "source": [
    "a = np.zeros((2, 5, 3, 4))\n",
    "a.ndim"
   ]
  },
  {
   "cell_type": "code",
   "execution_count": 26,
   "id": "5d74ac3d-29ce-4b53-ba1f-98a15fd8a8c6",
   "metadata": {},
   "outputs": [
    {
     "data": {
      "text/plain": [
       "array([0.16287696, 0.49580745, 0.20290694, 0.44218501, 0.51200452,\n",
       "       0.54875967, 0.28140135])"
      ]
     },
     "execution_count": 26,
     "metadata": {},
     "output_type": "execute_result"
    }
   ],
   "source": [
    "np.random.rand(7)"
   ]
  },
  {
   "cell_type": "code",
   "execution_count": 27,
   "id": "e340ae03-f241-4355-b9b0-c8fd14fbc46f",
   "metadata": {},
   "outputs": [
    {
     "data": {
      "text/plain": [
       "np.int64(9)"
      ]
     },
     "execution_count": 27,
     "metadata": {},
     "output_type": "execute_result"
    }
   ],
   "source": [
    "j = np.arange(10)\n",
    "j[9]"
   ]
  },
  {
   "cell_type": "code",
   "execution_count": 28,
   "id": "ecc963ce-e638-48aa-941b-c28b9e51d3b4",
   "metadata": {},
   "outputs": [
    {
     "name": "stdout",
     "output_type": "stream",
     "text": [
      "[[1 0 0]\n",
      " [0 2 0]\n",
      " [0 0 3]]\n",
      "Index of a 2x2 is : 3\n"
     ]
    }
   ],
   "source": [
    "a = np.diag([1,2,3])\n",
    "print(a)\n",
    "print(f\"Index of a 2x2 is : {a[2, 2]}\")"
   ]
  },
  {
   "cell_type": "code",
   "execution_count": 29,
   "id": "bce02c64-42d6-47d8-ad21-8fe66c0bd06a",
   "metadata": {},
   "outputs": [
    {
     "data": {
      "text/plain": [
       "array([[1, 0, 0],\n",
       "       [0, 2, 0],\n",
       "       [0, 6, 3]])"
      ]
     },
     "execution_count": 29,
     "metadata": {},
     "output_type": "execute_result"
    }
   ],
   "source": [
    "a[2, 1] = 6   #assigning value\n",
    "a"
   ]
  },
  {
   "cell_type": "code",
   "execution_count": 30,
   "id": "3c86c30b-1e52-411a-bef9-ed8327fc7d92",
   "metadata": {},
   "outputs": [
    {
     "data": {
      "text/plain": [
       "array([0, 1, 2, 3, 4, 5, 6, 7, 8, 9])"
      ]
     },
     "execution_count": 30,
     "metadata": {},
     "output_type": "execute_result"
    }
   ],
   "source": [
    "a = np.arange(10)\n",
    "a"
   ]
  },
  {
   "cell_type": "code",
   "execution_count": 31,
   "id": "468b125c-a600-4b97-8248-092b716d4537",
   "metadata": {},
   "outputs": [
    {
     "data": {
      "text/plain": [
       "array([1, 3, 5, 7])"
      ]
     },
     "execution_count": 31,
     "metadata": {},
     "output_type": "execute_result"
    }
   ],
   "source": [
    "a[1:8:2]  #start=1, end=8, step=2 "
   ]
  },
  {
   "cell_type": "code",
   "execution_count": 32,
   "id": "07f4e728-5b28-477c-b121-89b01addb733",
   "metadata": {},
   "outputs": [
    {
     "data": {
      "text/plain": [
       "array([ 0,  1,  2,  3,  4, 10, 10, 10, 10, 10])"
      ]
     },
     "execution_count": 32,
     "metadata": {},
     "output_type": "execute_result"
    }
   ],
   "source": [
    "#combine assignment and slicing:\n",
    "a = np.arange(10)\n",
    "a[5:] = 10\n",
    "a"
   ]
  },
  {
   "cell_type": "code",
   "execution_count": 33,
   "id": "d21573d3-5edf-47a6-a639-93cdd75ff2b2",
   "metadata": {},
   "outputs": [
    {
     "data": {
      "text/plain": [
       "array([0, 1, 2, 3, 4, 4, 3, 2, 1, 0])"
      ]
     },
     "execution_count": 33,
     "metadata": {},
     "output_type": "execute_result"
    }
   ],
   "source": [
    "b = np.arange(5)\n",
    "a[5:] = b[::-1] #assigning into a the reverse value of b \n",
    "a"
   ]
  },
  {
   "cell_type": "markdown",
   "id": "a99b02fd-0d59-41d2-856c-6e8710ad152d",
   "metadata": {},
   "source": [
    "# Copies and Views\n",
    "A slicing operation created a view on the original array, which is just a way of accessing array data. Thus the original array is not copied in memory. You can use np.may_share_memory() to check if two arrays share the same memory block.\n",
    "\n",
    "<b>When modigying the view, the original array is modified as well:<b>"
   ]
  },
  {
   "cell_type": "code",
   "execution_count": 34,
   "id": "c1f875a4-cf5e-4c52-be02-ac1b5b991ca3",
   "metadata": {},
   "outputs": [
    {
     "data": {
      "text/plain": [
       "array([0, 1, 2, 3, 4, 5, 6, 7, 8, 9])"
      ]
     },
     "execution_count": 34,
     "metadata": {},
     "output_type": "execute_result"
    }
   ],
   "source": [
    "a = np.arange(10)\n",
    "a"
   ]
  },
  {
   "cell_type": "code",
   "execution_count": 35,
   "id": "82945af1-c830-40b5-9c58-d7a6d4f9f858",
   "metadata": {},
   "outputs": [
    {
     "data": {
      "text/plain": [
       "array([0, 2, 4, 6, 8])"
      ]
     },
     "execution_count": 35,
     "metadata": {},
     "output_type": "execute_result"
    }
   ],
   "source": [
    "b = a[::2]  #storing indexes of 'a' along with there idx val in 'b'\n",
    "b"
   ]
  },
  {
   "cell_type": "code",
   "execution_count": 36,
   "id": "f8a761e2-864e-4421-8963-7bb35d23d1ad",
   "metadata": {},
   "outputs": [
    {
     "data": {
      "text/plain": [
       "True"
      ]
     },
     "execution_count": 36,
     "metadata": {},
     "output_type": "execute_result"
    }
   ],
   "source": [
    "np.shares_memory(a,b) #as there indexes are same and stored 'a' val into 'b' , there memory location are same, output=True"
   ]
  },
  {
   "cell_type": "code",
   "execution_count": 37,
   "id": "d3e904f0-b230-482a-a404-10ef149072b8",
   "metadata": {},
   "outputs": [
    {
     "name": "stdout",
     "output_type": "stream",
     "text": [
      "[10  2  4  6  8]\n",
      "[10  1  2  3  4  5  6  7  8  9]\n"
     ]
    }
   ],
   "source": [
    "b[0] = 10\n",
    "print(b)\n",
    "print(a)  #eventhough we modified 'b', it updated 'a' because both shares same memory\n",
    "\n",
    "#the chanages in 'b' will be reflect in 'a' also because 'b' stores the values of 'a', which makes memory location same for both : a & b"
   ]
  },
  {
   "cell_type": "code",
   "execution_count": 38,
   "id": "ba3a29c3-397f-4c36-8073-bde0acfd611a",
   "metadata": {},
   "outputs": [
    {
     "data": {
      "text/plain": [
       "array([0, 2, 4, 6, 8])"
      ]
     },
     "execution_count": 38,
     "metadata": {},
     "output_type": "execute_result"
    }
   ],
   "source": [
    "a = np.arange(10)\n",
    "\n",
    "#force a copy\n",
    "c = a[::2].copy()  #here we are just forcefuly copying the value of 'a' into 'c'\n",
    "c"
   ]
  },
  {
   "cell_type": "code",
   "execution_count": 39,
   "id": "e1cfa8d4-f1eb-4913-b8f8-b40abf78dbdf",
   "metadata": {},
   "outputs": [
    {
     "data": {
      "text/plain": [
       "False"
      ]
     },
     "execution_count": 39,
     "metadata": {},
     "output_type": "execute_result"
    }
   ],
   "source": [
    "np.shares_memory(a,c)  #output:false, because we just copied the val, so that is why there memory location are not same"
   ]
  },
  {
   "cell_type": "code",
   "execution_count": 40,
   "id": "cd3c5049-5ea6-4d9b-97b3-894cca74d595",
   "metadata": {},
   "outputs": [
    {
     "data": {
      "text/plain": [
       "array([0, 1, 2, 3, 4, 5, 6, 7, 8, 9])"
      ]
     },
     "execution_count": 40,
     "metadata": {},
     "output_type": "execute_result"
    }
   ],
   "source": [
    "c[0] = 10  #assigning new val\n",
    "a  #assigning val in 'c' will not reflect in 'a' because there memory location are not same"
   ]
  },
  {
   "cell_type": "markdown",
   "id": "d02a58d7-a8f8-477e-b820-5acc3a50be25",
   "metadata": {},
   "source": [
    "# Fancy Indexing\n",
    "Numpy arrays can be indexed with slices, but also with boolean or integer arrays (masks). This method is called fancy indexing. It creates couples not views.\n",
    "\n",
    "<b>Using Boolean Mask<b>"
   ]
  },
  {
   "cell_type": "code",
   "execution_count": 41,
   "id": "44ef59f2-1c33-4720-b8bd-207f58c6d3c5",
   "metadata": {},
   "outputs": [
    {
     "data": {
      "text/plain": [
       "array([13,  9, 14, 10,  9, 13, 16, 12, 16, 13,  8, 16, 11,  9,  8],\n",
       "      dtype=int32)"
      ]
     },
     "execution_count": 41,
     "metadata": {},
     "output_type": "execute_result"
    }
   ],
   "source": [
    "a = np.random.randint(0, 20, 15)\n",
    "a"
   ]
  },
  {
   "cell_type": "code",
   "execution_count": 42,
   "id": "2413d279-56da-4d92-b993-5162537d7d01",
   "metadata": {},
   "outputs": [],
   "source": [
    "mask = (a % 2 == 0)"
   ]
  },
  {
   "cell_type": "code",
   "execution_count": 43,
   "id": "ef8e910e-3055-4365-bf54-57118ed6f832",
   "metadata": {},
   "outputs": [
    {
     "data": {
      "text/plain": [
       "array([14, 10, 16, 12, 16,  8, 16,  8], dtype=int32)"
      ]
     },
     "execution_count": 43,
     "metadata": {},
     "output_type": "execute_result"
    }
   ],
   "source": [
    "#extracting mask variable operation\n",
    "extract_from_a = a[mask]\n",
    "extract_from_a"
   ]
  },
  {
   "cell_type": "markdown",
   "id": "de0cb03a-af92-46fe-b9b6-d836e44f84ab",
   "metadata": {},
   "source": [
    "<b> Indexing with a mask can be very useful to assign a new value to a sub-array: <b>"
   ]
  },
  {
   "cell_type": "code",
   "execution_count": 44,
   "id": "d113d209-07d2-45cc-8026-c8394f7c80d0",
   "metadata": {},
   "outputs": [
    {
     "data": {
      "text/plain": [
       "array([13,  9, -1, -1,  9, 13, -1, -1, -1, 13, -1, -1, 11,  9, -1],\n",
       "      dtype=int32)"
      ]
     },
     "execution_count": 44,
     "metadata": {},
     "output_type": "execute_result"
    }
   ],
   "source": [
    "a[mask] = -1  #assigning 'mask' value with -1\n",
    "a"
   ]
  },
  {
   "cell_type": "markdown",
   "id": "c1ccef7f-7a6e-4e32-9065-92a9ea981f87",
   "metadata": {},
   "source": [
    "<b>Indexing with an array of integers<b>"
   ]
  },
  {
   "cell_type": "code",
   "execution_count": 45,
   "id": "63598576-b600-4370-a867-697494461b4f",
   "metadata": {},
   "outputs": [
    {
     "data": {
      "text/plain": [
       "array([ 0, 10, 20, 30, 40, 50, 60, 70, 80, 90])"
      ]
     },
     "execution_count": 45,
     "metadata": {},
     "output_type": "execute_result"
    }
   ],
   "source": [
    "a = np.arange(0, 100, 10)\n",
    "a"
   ]
  },
  {
   "cell_type": "code",
   "execution_count": 46,
   "id": "96eb4ee7-aa9b-4f01-ba8f-d8e6059578b4",
   "metadata": {},
   "outputs": [
    {
     "data": {
      "text/plain": [
       "array([20, 30, 20, 40, 20])"
      ]
     },
     "execution_count": 46,
     "metadata": {},
     "output_type": "execute_result"
    }
   ],
   "source": [
    "#Indexing can be done with an array of integers, where the same index is repeated several time:\n",
    "a[[2, 3, 2, 4, 2]]"
   ]
  },
  {
   "cell_type": "code",
   "execution_count": 47,
   "id": "c68646da-ba2a-4a61-b254-ad3a5931df32",
   "metadata": {},
   "outputs": [
    {
     "data": {
      "text/plain": [
       "array([   0,   10,   20,   30,   40,   50,   60, -200,   80, -200])"
      ]
     },
     "execution_count": 47,
     "metadata": {},
     "output_type": "execute_result"
    }
   ],
   "source": [
    "# New values can be assigned\n",
    "a[[9,7]] = -200\n",
    "a"
   ]
  },
  {
   "cell_type": "markdown",
   "id": "b04d6228-8c30-4f40-a991-baebe0e00194",
   "metadata": {},
   "source": [
    "# Practice Questions (Easy)"
   ]
  },
  {
   "cell_type": "code",
   "execution_count": 48,
   "id": "fe11cdeb-e699-40c3-ac9d-0fda7eade1cb",
   "metadata": {},
   "outputs": [
    {
     "data": {
      "text/plain": [
       "array([0, 1, 2, 3, 4, 5, 6, 7, 8, 9])"
      ]
     },
     "execution_count": 48,
     "metadata": {},
     "output_type": "execute_result"
    }
   ],
   "source": [
    "# Create a 1D NumPy array of numbers from 0 to 9.\n",
    "a = np.arange(10)\n",
    "a"
   ]
  },
  {
   "cell_type": "code",
   "execution_count": 49,
   "id": "b90e2cdc-a353-4d32-9136-328f1a9d8144",
   "metadata": {},
   "outputs": [
    {
     "data": {
      "text/plain": [
       "array([[ True,  True,  True],\n",
       "       [ True,  True,  True],\n",
       "       [ True,  True,  True]])"
      ]
     },
     "execution_count": 49,
     "metadata": {},
     "output_type": "execute_result"
    }
   ],
   "source": [
    "# Create a 3×3 NumPy array filled with all True values (Boolean type).\n",
    "np.full((3, 3), True, dtype=bool)"
   ]
  },
  {
   "cell_type": "code",
   "execution_count": 50,
   "id": "15bd78b4-7483-47f3-9fd5-620f165363af",
   "metadata": {},
   "outputs": [
    {
     "data": {
      "text/plain": [
       "array([[4, 6, 1],\n",
       "       [7, 2, 8],\n",
       "       [3, 2, 7]], dtype=int32)"
      ]
     },
     "execution_count": 50,
     "metadata": {},
     "output_type": "execute_result"
    }
   ],
   "source": [
    "# Create a 2D NumPy array with shape (3, 3) containing random integers from 1 to 10 (inclusive).\n",
    "np.random.randint(1, 11, size=(3, 3))"
   ]
  },
  {
   "cell_type": "code",
   "execution_count": 51,
   "id": "ffbda029-ba8c-410c-b1fc-f5af4987d122",
   "metadata": {},
   "outputs": [
    {
     "data": {
      "text/plain": [
       "array([0.        , 0.11111111, 0.22222222, 0.33333333, 0.44444444,\n",
       "       0.55555556, 0.66666667, 0.77777778, 0.88888889, 1.        ])"
      ]
     },
     "execution_count": 51,
     "metadata": {},
     "output_type": "execute_result"
    }
   ],
   "source": [
    "# Create a 1D NumPy array with 10 values evenly spaced between 0 and 1, inclusive.\n",
    "np.linspace(0, 1, 10)"
   ]
  },
  {
   "cell_type": "code",
   "execution_count": 52,
   "id": "bb4eee05-b2ac-46e7-bd38-51d68f5bc745",
   "metadata": {},
   "outputs": [
    {
     "data": {
      "text/plain": [
       "array([[1., 0., 0.],\n",
       "       [0., 1., 0.],\n",
       "       [0., 0., 1.]])"
      ]
     },
     "execution_count": 52,
     "metadata": {},
     "output_type": "execute_result"
    }
   ],
   "source": [
    "# Create a 3×3 identity matrix using NumPy.\n",
    "np.eye(3, 3)"
   ]
  },
  {
   "cell_type": "code",
   "execution_count": 53,
   "id": "f4e26df6-acb0-4132-9655-efb91da2f96c",
   "metadata": {},
   "outputs": [
    {
     "data": {
      "text/plain": [
       "array([5, 4, 3, 2, 1])"
      ]
     },
     "execution_count": 53,
     "metadata": {},
     "output_type": "execute_result"
    }
   ],
   "source": [
    "# Given a NumPy array a = np.array([1, 2, 3, 4, 5]), how would you get a new array with the elements reversed?\n",
    "a = np.arange(1,6)\n",
    "a[::-1]"
   ]
  },
  {
   "cell_type": "code",
   "execution_count": 54,
   "id": "bb25a6fd-05d7-4319-a9ed-ee8e29ca183a",
   "metadata": {},
   "outputs": [
    {
     "data": {
      "text/plain": [
       "array([[0, 1, 2],\n",
       "       [3, 4, 5],\n",
       "       [6, 7, 8]])"
      ]
     },
     "execution_count": 54,
     "metadata": {},
     "output_type": "execute_result"
    }
   ],
   "source": [
    "# How would you reshape a 1D array of 9 elements into a 3×3 2D array using NumPy?\n",
    "a = np.arange(9)\n",
    "a.reshape(3,3)"
   ]
  },
  {
   "cell_type": "code",
   "execution_count": 55,
   "id": "3a1891c9-cc48-4fe7-a31f-3958fa90533e",
   "metadata": {},
   "outputs": [
    {
     "name": "stdout",
     "output_type": "stream",
     "text": [
      "[2 4 6 8]\n"
     ]
    }
   ],
   "source": [
    "# How can you extract all even numbers from the NumPy array a = np.array([1, 2, 3, 4, 5, 6, 7, 8, 9])?\n",
    "\n",
    "#Using Boolean Indexing\n",
    "a = np.array([1, 2, 3, 4, 5, 6, 7, 8, 9])\n",
    "b = (a % 2 == 0)\n",
    "print(a[b])"
   ]
  },
  {
   "cell_type": "code",
   "execution_count": 56,
   "id": "20c6d6c4-bf41-4fa3-ade3-28ac41173265",
   "metadata": {},
   "outputs": [
    {
     "name": "stdout",
     "output_type": "stream",
     "text": [
      "[2 4 6 8]\n"
     ]
    }
   ],
   "source": [
    "# How can you extract all even numbers from the NumPy array a = np.array([1, 2, 3, 4, 5, 6, 7, 8, 9])?\n",
    "\n",
    "#Using Boolean Indexing\n",
    "a = np.array([1, 2, 3, 4, 5, 6, 7, 8, 9])\n",
    "approach = a[a % 2 == 0]\n",
    "print(approach)"
   ]
  },
  {
   "cell_type": "code",
   "execution_count": 57,
   "id": "8d9d02c0-09d0-4cf1-9d2f-8ce5abd6fc1d",
   "metadata": {},
   "outputs": [
    {
     "data": {
      "text/plain": [
       "array([[1., 0.],\n",
       "       [0., 1.]])"
      ]
     },
     "execution_count": 57,
     "metadata": {},
     "output_type": "execute_result"
    }
   ],
   "source": [
    "np.eye(2)"
   ]
  },
  {
   "cell_type": "markdown",
   "id": "79fa53ec-0e92-43cd-bd62-99a21c76fd65",
   "metadata": {},
   "source": [
    "# ChatGPT Basic Practice Questions"
   ]
  },
  {
   "cell_type": "code",
   "execution_count": 58,
   "id": "31a5d275-7997-4029-8f34-c7a0a1b9bcbf",
   "metadata": {},
   "outputs": [
    {
     "name": "stdout",
     "output_type": "stream",
     "text": [
      "[0 2 4 6 8]\n"
     ]
    }
   ],
   "source": [
    "# Q: Create a 1D NumPy array of integers from 0 to 9 and print only the even numbers.\n",
    "d = np.arange(9)\n",
    "print(d[d % 2 == 0])"
   ]
  },
  {
   "cell_type": "code",
   "execution_count": 59,
   "id": "1c585d08-9dec-4fed-b8a9-be818d6c6a69",
   "metadata": {},
   "outputs": [
    {
     "name": "stdout",
     "output_type": "stream",
     "text": [
      "[12 15 18]\n"
     ]
    }
   ],
   "source": [
    "# Q: Create a 1D NumPy array of integers from 10 to 20 (inclusive) and print only the numbers that are divisible by 3.\n",
    "d = np.arange(10, 21)\n",
    "print(d[d % 3 == 0])"
   ]
  },
  {
   "cell_type": "code",
   "execution_count": 60,
   "id": "d475f9a9-a097-4b3b-8116-8833d8b3c8d1",
   "metadata": {},
   "outputs": [
    {
     "name": "stdout",
     "output_type": "stream",
     "text": [
      "[77  4 72 67  3]\n"
     ]
    }
   ],
   "source": [
    "# Q: Create a 1D NumPy array of 5 random integers between 1 and 100 (inclusive), and print the maximum and minimum values from the array.\n",
    "d = np.random.randint(1, 101, 5)\n",
    "print(d)"
   ]
  },
  {
   "cell_type": "code",
   "execution_count": 61,
   "id": "fed11bd5-764c-49b7-8214-dd357e8ee115",
   "metadata": {},
   "outputs": [
    {
     "name": "stdout",
     "output_type": "stream",
     "text": [
      "[0.         0.22222222 0.44444444 0.66666667 0.88888889 1.11111111\n",
      " 1.33333333 1.55555556 1.77777778 2.        ]\n"
     ]
    }
   ],
   "source": [
    "# Q: Create a 1D NumPy array of 10 numbers linearly spaced between 0 and 1 (inclusive), and print the array.\n",
    "d = np.linspace(0, 2, 10)\n",
    "print(d)"
   ]
  },
  {
   "cell_type": "code",
   "execution_count": 62,
   "id": "9b5e83b4-4423-4b52-b8b9-dc0528519220",
   "metadata": {},
   "outputs": [
    {
     "name": "stdout",
     "output_type": "stream",
     "text": [
      "Array:\n",
      " [[1 2 3]\n",
      " [4 5 6]\n",
      " [7 8 9]]\n",
      "Row-wise sum: [ 6 15 24]\n"
     ]
    }
   ],
   "source": [
    "# Q: Create a 3x3 NumPy array with values from 1 to 9, and print the sum of each row.\n",
    "d = np.arange(1, 10)       \n",
    "d = d.reshape(3, 3)          \n",
    "print(\"Array:\\n\", d)\n",
    "print(\"Row-wise sum:\", d.sum(axis=1))"
   ]
  },
  {
   "cell_type": "code",
   "execution_count": 63,
   "id": "253a93b4-e3d5-4b67-b9c0-0b499365a5c8",
   "metadata": {},
   "outputs": [
    {
     "name": "stdout",
     "output_type": "stream",
     "text": [
      "Array:\n",
      " [[ 1  2  3  4]\n",
      " [ 5  6  7  8]\n",
      " [ 9 10 11 12]\n",
      " [13 14 15 16]]\n",
      "Main diagonal: [ 1  6 11 16]\n"
     ]
    }
   ],
   "source": [
    "# Q: Create a 4x4 NumPy array with values from 1 to 16, and print the elements on its main diagonal.\n",
    "d = np.arange(1, 17)\n",
    "d = d.reshape(4, 4)\n",
    "print(\"Array:\\n\", d)\n",
    "print(\"Main diagonal:\", np.diag(d))"
   ]
  },
  {
   "cell_type": "code",
   "execution_count": 64,
   "id": "b9dac9ec-3046-41da-9dc9-832ff70cf150",
   "metadata": {},
   "outputs": [
    {
     "name": "stdout",
     "output_type": "stream",
     "text": [
      "Original array: [3 7 1 9 2]\n",
      "Sorted array:   [1 2 3 7 9]\n"
     ]
    }
   ],
   "source": [
    "# Q: Create a 1D NumPy array with values [3, 7, 1, 9, 2], and sort the array in ascending order.\n",
    "a = np.array([3, 7, 1, 9, 2])\n",
    "sorted_a = np.sort(a)\n",
    "print(\"Original array:\", a)\n",
    "print(\"Sorted array:  \", sorted_a)"
   ]
  },
  {
   "cell_type": "code",
   "execution_count": 65,
   "id": "16251a34-787d-4c0e-b30e-bbca23ca1096",
   "metadata": {},
   "outputs": [
    {
     "name": "stdout",
     "output_type": "stream",
     "text": [
      "Numbers divisible by 4: [ 0  4  8 12 16 20]\n"
     ]
    }
   ],
   "source": [
    "# Q1: Create a 1D NumPy array with values from 0 to 20 (inclusive), and print only the values that are divisible by 4.\n",
    "arr1 = np.arange(0, 21)\n",
    "print(\"Numbers divisible by 4:\", arr1[arr1 % 4 == 0])"
   ]
  },
  {
   "cell_type": "code",
   "execution_count": 66,
   "id": "9e80535f-802b-4a5c-a517-301026d64fe0",
   "metadata": {},
   "outputs": [
    {
     "name": "stdout",
     "output_type": "stream",
     "text": [
      "3x3 Array:\n",
      " [[1 2 3]\n",
      " [4 5 6]\n",
      " [7 8 9]]\n",
      "Sum of all elements: 45\n"
     ]
    }
   ],
   "source": [
    "# Q2: Create a 3x3 NumPy array with values from 1 to 9, and print the sum of all elements.\n",
    "arr2 = np.arange(1, 10).reshape(3, 3)\n",
    "print(\"3x3 Array:\\n\", arr2)\n",
    "print(\"Sum of all elements:\", arr2.sum())"
   ]
  },
  {
   "cell_type": "code",
   "execution_count": null,
   "id": "0eb65d53-ea82-4fc4-b017-168f8e8b6d25",
   "metadata": {},
   "outputs": [],
   "source": []
  }
 ],
 "metadata": {
  "kernelspec": {
   "display_name": "Python 3 (ipykernel)",
   "language": "python",
   "name": "python3"
  },
  "language_info": {
   "codemirror_mode": {
    "name": "ipython",
    "version": 3
   },
   "file_extension": ".py",
   "mimetype": "text/x-python",
   "name": "python",
   "nbconvert_exporter": "python",
   "pygments_lexer": "ipython3",
   "version": "3.13.4"
  }
 },
 "nbformat": 4,
 "nbformat_minor": 5
}
