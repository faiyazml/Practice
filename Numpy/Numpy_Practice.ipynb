{
 "cells": [
  {
   "cell_type": "code",
   "execution_count": null,
   "id": "55d67c48-cfae-449a-a6e1-613ea6d8976c",
   "metadata": {},
   "outputs": [],
   "source": [
    "import numpy as np"
   ]
  },
  {
   "cell_type": "code",
   "execution_count": null,
   "id": "52ee7aa0-b19d-4fb6-9efd-b056aff79706",
   "metadata": {},
   "outputs": [],
   "source": [
    "np.arange(0,24)"
   ]
  },
  {
   "cell_type": "code",
   "execution_count": null,
   "id": "3da73982-55bf-428c-839a-7b3332664b76",
   "metadata": {},
   "outputs": [],
   "source": [
    "arr1 = np.array([1, 2, 3, 4])\n",
    "print(arr1)"
   ]
  },
  {
   "cell_type": "code",
   "execution_count": null,
   "id": "f75d506d-2d4e-4231-b1ac-20c8b3f24e26",
   "metadata": {},
   "outputs": [],
   "source": [
    "arr3d = np.array([[[1, 2], [3, 4]], [[5, 6], [7,8]]])\n",
    "arr3d.ndim"
   ]
  },
  {
   "cell_type": "code",
   "execution_count": null,
   "id": "bfd2e727-4835-47f5-9e91-878600b811e4",
   "metadata": {},
   "outputs": [],
   "source": [
    "np.zeros((2, 4))"
   ]
  },
  {
   "cell_type": "code",
   "execution_count": null,
   "id": "7969340c-4c96-4bf6-9f98-22478df79af1",
   "metadata": {},
   "outputs": [],
   "source": [
    "arr2 = np.array([[1, 2, 3],[4, 5, 6], [7, 8, 9]])\n",
    "arr2"
   ]
  },
  {
   "cell_type": "code",
   "execution_count": null,
   "id": "8f2f6f2d-8043-4245-b6e2-6e07d3995c51",
   "metadata": {},
   "outputs": [],
   "source": [
    "arr2.shape"
   ]
  },
  {
   "cell_type": "code",
   "execution_count": null,
   "id": "537df2fc-28a8-4ceb-9f7f-24402630554f",
   "metadata": {},
   "outputs": [],
   "source": [
    "arr2.size"
   ]
  },
  {
   "cell_type": "code",
   "execution_count": null,
   "id": "ea8cb951-411b-4262-b320-b6b2bd7fd243",
   "metadata": {},
   "outputs": [],
   "source": [
    "arr2.ndim"
   ]
  },
  {
   "cell_type": "code",
   "execution_count": null,
   "id": "9c713409-5195-43d6-bd20-3ba69764095c",
   "metadata": {},
   "outputs": [],
   "source": [
    "arr2.dtype"
   ]
  },
  {
   "cell_type": "code",
   "execution_count": null,
   "id": "f50b54d9-9fd9-40b6-94df-ca31254bcea4",
   "metadata": {},
   "outputs": [],
   "source": [
    "array2 = np.array([[1, 2, 3],[4, 5, 6], [7, 8, 9]] ,dtype=float)"
   ]
  },
  {
   "cell_type": "code",
   "execution_count": null,
   "id": "c0244dec-a0a8-4eaa-b12f-9ff25481e5d0",
   "metadata": {},
   "outputs": [],
   "source": [
    "array2.dtype"
   ]
  },
  {
   "cell_type": "code",
   "execution_count": null,
   "id": "e66f7bd6-f02b-4498-adeb-da05d5318909",
   "metadata": {},
   "outputs": [],
   "source": [
    "farr = np.array([3,6,2,5])"
   ]
  },
  {
   "cell_type": "code",
   "execution_count": null,
   "id": "ecd071eb-b00e-43bf-9eac-3bcb9963eef0",
   "metadata": {},
   "outputs": [],
   "source": [
    "farr.shape"
   ]
  },
  {
   "cell_type": "code",
   "execution_count": null,
   "id": "2de176fc-a228-49ff-be38-d24be2ff18ba",
   "metadata": {},
   "outputs": [],
   "source": [
    "farr[1]=40\n",
    "farr"
   ]
  },
  {
   "cell_type": "code",
   "execution_count": null,
   "id": "c33b5065-7335-4b7e-b52c-cf9d9297f8d5",
   "metadata": {},
   "outputs": [],
   "source": [
    "np.arange(1,11)  # kind of (for loop with range)"
   ]
  },
  {
   "cell_type": "code",
   "execution_count": null,
   "id": "1ca3d3d1-9f5b-4af5-97f1-7c6169a3bca2",
   "metadata": {},
   "outputs": [],
   "source": [
    "np.linspace(1,10,4)  # start end num : (from 1 - 10 distributes equely) num times = 4 times"
   ]
  },
  {
   "cell_type": "code",
   "execution_count": null,
   "id": "a2865b5d-ced8-4b85-8a6a-e3dd1472ffd0",
   "metadata": {},
   "outputs": [],
   "source": [
    "emp = np.empty(6)  \n",
    "emp"
   ]
  },
  {
   "cell_type": "code",
   "execution_count": null,
   "id": "ec2a3bd2-ede9-489f-98e2-fbf2727ce006",
   "metadata": {},
   "outputs": [],
   "source": [
    "np.ones((6,3))"
   ]
  },
  {
   "cell_type": "code",
   "execution_count": null,
   "id": "2ecd5412-d821-429b-a02b-2a4650cf2c74",
   "metadata": {},
   "outputs": [],
   "source": [
    "np.zeros((5,3))"
   ]
  },
  {
   "cell_type": "code",
   "execution_count": null,
   "id": "40c89ec4-d9a4-4ab5-951c-7c6fbe59826f",
   "metadata": {},
   "outputs": [],
   "source": [
    "np.full((5,2), 3)"
   ]
  },
  {
   "cell_type": "code",
   "execution_count": null,
   "id": "1720f2aa-90be-40a4-af68-2cae6d87f6af",
   "metadata": {},
   "outputs": [],
   "source": [
    "np.array([3,5,7,2])"
   ]
  },
  {
   "cell_type": "code",
   "execution_count": null,
   "id": "99002461-c41f-4a96-a3aa-f538d2e6b709",
   "metadata": {},
   "outputs": [],
   "source": [
    "sanu = np.zeros((5,3))\n",
    "sanu"
   ]
  },
  {
   "cell_type": "code",
   "execution_count": null,
   "id": "ed9c101c-2202-4389-bcbf-7e043410b3b6",
   "metadata": {},
   "outputs": [],
   "source": [
    "sanu.ndim"
   ]
  },
  {
   "cell_type": "code",
   "execution_count": null,
   "id": "fb95d6d9-6662-4e0a-b051-5a742fbd277b",
   "metadata": {},
   "outputs": [],
   "source": [
    "a = np.zeros((2, 5, 3, 4))\n",
    "a.ndim"
   ]
  },
  {
   "cell_type": "code",
   "execution_count": null,
   "id": "5d74ac3d-29ce-4b53-ba1f-98a15fd8a8c6",
   "metadata": {},
   "outputs": [],
   "source": [
    "np.random.rand(7)"
   ]
  },
  {
   "cell_type": "code",
   "execution_count": null,
   "id": "e340ae03-f241-4355-b9b0-c8fd14fbc46f",
   "metadata": {},
   "outputs": [],
   "source": [
    "j = np.arange(10)\n",
    "j[9]"
   ]
  },
  {
   "cell_type": "code",
   "execution_count": null,
   "id": "ecc963ce-e638-48aa-941b-c28b9e51d3b4",
   "metadata": {},
   "outputs": [],
   "source": [
    "a = np.diag([1,2,3])\n",
    "print(a)\n",
    "print(f\"Index of a 2x2 is : {a[2, 2]}\")"
   ]
  },
  {
   "cell_type": "code",
   "execution_count": null,
   "id": "bce02c64-42d6-47d8-ad21-8fe66c0bd06a",
   "metadata": {},
   "outputs": [],
   "source": [
    "a[2, 1] = 6   #assigning value\n",
    "a"
   ]
  },
  {
   "cell_type": "code",
   "execution_count": null,
   "id": "3c86c30b-1e52-411a-bef9-ed8327fc7d92",
   "metadata": {},
   "outputs": [],
   "source": [
    "a = np.arange(10)\n",
    "a"
   ]
  },
  {
   "cell_type": "code",
   "execution_count": null,
   "id": "468b125c-a600-4b97-8248-092b716d4537",
   "metadata": {},
   "outputs": [],
   "source": [
    "a[1:8:2]  #start=1, end=8, step=2 "
   ]
  },
  {
   "cell_type": "code",
   "execution_count": null,
   "id": "07f4e728-5b28-477c-b121-89b01addb733",
   "metadata": {},
   "outputs": [],
   "source": [
    "#combine assignment and slicing:\n",
    "a = np.arange(10)\n",
    "a[5:] = 10\n",
    "a"
   ]
  },
  {
   "cell_type": "code",
   "execution_count": null,
   "id": "d21573d3-5edf-47a6-a639-93cdd75ff2b2",
   "metadata": {},
   "outputs": [],
   "source": [
    "b = np.arange(5)\n",
    "a[5:] = b[::-1] #assigning into a the reverse value of b \n",
    "a"
   ]
  },
  {
   "cell_type": "markdown",
   "id": "a99b02fd-0d59-41d2-856c-6e8710ad152d",
   "metadata": {},
   "source": [
    "# Copies and Views\n",
    "A slicing operation created a view on the original array, which is just a way of accessing array data. Thus the original array is not copied in memory. You can use np.may_share_memory() to check if two arrays share the same memory block.\n",
    "\n",
    "<b>When modigying the view, the original array is modified as well:<b>"
   ]
  },
  {
   "cell_type": "code",
   "execution_count": null,
   "id": "c1f875a4-cf5e-4c52-be02-ac1b5b991ca3",
   "metadata": {},
   "outputs": [],
   "source": [
    "a = np.arange(10)\n",
    "a"
   ]
  },
  {
   "cell_type": "code",
   "execution_count": null,
   "id": "82945af1-c830-40b5-9c58-d7a6d4f9f858",
   "metadata": {},
   "outputs": [],
   "source": [
    "b = a[::2]  #storing indexes of 'a' along with there idx val in 'b'\n",
    "b"
   ]
  },
  {
   "cell_type": "code",
   "execution_count": null,
   "id": "f8a761e2-864e-4421-8963-7bb35d23d1ad",
   "metadata": {},
   "outputs": [],
   "source": [
    "np.shares_memory(a,b) #as there indexes are same and stored 'a' val into 'b' , there memory location are same, output=True"
   ]
  },
  {
   "cell_type": "code",
   "execution_count": null,
   "id": "d3e904f0-b230-482a-a404-10ef149072b8",
   "metadata": {},
   "outputs": [],
   "source": [
    "b[0] = 10\n",
    "print(b)\n",
    "print(a)  #eventhough we modified 'b', it updated 'a' because both shares same memory\n",
    "\n",
    "#the chanages in 'b' will be reflect in 'a' also because 'b' stores the values of 'a', which makes memory location same for both : a & b"
   ]
  },
  {
   "cell_type": "code",
   "execution_count": null,
   "id": "ba3a29c3-397f-4c36-8073-bde0acfd611a",
   "metadata": {},
   "outputs": [],
   "source": [
    "a = np.arange(10)\n",
    "\n",
    "#force a copy\n",
    "c = a[::2].copy()  #here we are just forcefuly copying the value of 'a' into 'c'\n",
    "c"
   ]
  },
  {
   "cell_type": "code",
   "execution_count": null,
   "id": "e1cfa8d4-f1eb-4913-b8f8-b40abf78dbdf",
   "metadata": {},
   "outputs": [],
   "source": [
    "np.shares_memory(a,c)  #output:false, because we just copied the val, so that is why there memory location are not same"
   ]
  },
  {
   "cell_type": "code",
   "execution_count": null,
   "id": "cd3c5049-5ea6-4d9b-97b3-894cca74d595",
   "metadata": {},
   "outputs": [],
   "source": [
    "c[0] = 10  #assigning new val\n",
    "a  #assigning val in 'c' will not reflect in 'a' because there memory location are not same"
   ]
  },
  {
   "cell_type": "markdown",
   "id": "d02a58d7-a8f8-477e-b820-5acc3a50be25",
   "metadata": {},
   "source": [
    "# Fancy Indexing\n",
    "Numpy arrays can be indexed with slices, but also with boolean or integer arrays (masks). This method is called fancy indexing. It creates couples not views.\n",
    "\n",
    "<b>Using Boolean Mask<b>"
   ]
  },
  {
   "cell_type": "code",
   "execution_count": null,
   "id": "44ef59f2-1c33-4720-b8bd-207f58c6d3c5",
   "metadata": {},
   "outputs": [],
   "source": [
    "a = np.random.randint(0, 20, 15)\n",
    "a"
   ]
  },
  {
   "cell_type": "code",
   "execution_count": null,
   "id": "2413d279-56da-4d92-b993-5162537d7d01",
   "metadata": {},
   "outputs": [],
   "source": [
    "mask = (a % 2 == 0)"
   ]
  },
  {
   "cell_type": "code",
   "execution_count": null,
   "id": "ef8e910e-3055-4365-bf54-57118ed6f832",
   "metadata": {},
   "outputs": [],
   "source": [
    "#extracting mask variable operation\n",
    "extract_from_a = a[mask]\n",
    "extract_from_a"
   ]
  },
  {
   "cell_type": "markdown",
   "id": "de0cb03a-af92-46fe-b9b6-d836e44f84ab",
   "metadata": {},
   "source": [
    "<b> Indexing with a mask can be very useful to assign a new value to a sub-array: <b>"
   ]
  },
  {
   "cell_type": "code",
   "execution_count": null,
   "id": "d113d209-07d2-45cc-8026-c8394f7c80d0",
   "metadata": {},
   "outputs": [],
   "source": [
    "a[mask] = -1  #assigning 'mask' value with -1\n",
    "a"
   ]
  },
  {
   "cell_type": "markdown",
   "id": "c1ccef7f-7a6e-4e32-9065-92a9ea981f87",
   "metadata": {},
   "source": [
    "<b>Indexing with an array of integers<b>"
   ]
  },
  {
   "cell_type": "code",
   "execution_count": null,
   "id": "63598576-b600-4370-a867-697494461b4f",
   "metadata": {},
   "outputs": [],
   "source": [
    "a = np.arange(0, 100, 10)\n",
    "a"
   ]
  },
  {
   "cell_type": "code",
   "execution_count": null,
   "id": "96eb4ee7-aa9b-4f01-ba8f-d8e6059578b4",
   "metadata": {},
   "outputs": [],
   "source": [
    "#Indexing can be done with an array of integers, where the same index is repeated several time:\n",
    "a[[2, 3, 2, 4, 2]]"
   ]
  },
  {
   "cell_type": "code",
   "execution_count": null,
   "id": "c68646da-ba2a-4a61-b254-ad3a5931df32",
   "metadata": {},
   "outputs": [],
   "source": [
    "# New values can be assigned\n",
    "a[[9,7]] = -200\n",
    "a"
   ]
  },
  {
   "cell_type": "markdown",
   "id": "b04d6228-8c30-4f40-a991-baebe0e00194",
   "metadata": {},
   "source": [
    "# Practice Questions (Easy)"
   ]
  },
  {
   "cell_type": "code",
   "execution_count": null,
   "id": "fe11cdeb-e699-40c3-ac9d-0fda7eade1cb",
   "metadata": {},
   "outputs": [],
   "source": [
    "# Create a 1D NumPy array of numbers from 0 to 9.\n",
    "a = np.arange(10)\n",
    "a"
   ]
  },
  {
   "cell_type": "code",
   "execution_count": null,
   "id": "b90e2cdc-a353-4d32-9136-328f1a9d8144",
   "metadata": {},
   "outputs": [],
   "source": [
    "# Create a 3×3 NumPy array filled with all True values (Boolean type).\n",
    "np.full((3, 3), True, dtype=bool)"
   ]
  },
  {
   "cell_type": "code",
   "execution_count": null,
   "id": "15bd78b4-7483-47f3-9fd5-620f165363af",
   "metadata": {},
   "outputs": [],
   "source": [
    "# Create a 2D NumPy array with shape (3, 3) containing random integers from 1 to 10 (inclusive).\n",
    "np.random.randint(1, 11, size=(3, 3))"
   ]
  },
  {
   "cell_type": "code",
   "execution_count": null,
   "id": "ffbda029-ba8c-410c-b1fc-f5af4987d122",
   "metadata": {},
   "outputs": [],
   "source": [
    "# Create a 1D NumPy array with 10 values evenly spaced between 0 and 1, inclusive.\n",
    "np.linspace(0, 1, 10)"
   ]
  },
  {
   "cell_type": "code",
   "execution_count": null,
   "id": "bb4eee05-b2ac-46e7-bd38-51d68f5bc745",
   "metadata": {},
   "outputs": [],
   "source": [
    "# Create a 3×3 identity matrix using NumPy.\n",
    "np.eye(3, 3)"
   ]
  },
  {
   "cell_type": "code",
   "execution_count": null,
   "id": "f4e26df6-acb0-4132-9655-efb91da2f96c",
   "metadata": {},
   "outputs": [],
   "source": [
    "# Given a NumPy array a = np.array([1, 2, 3, 4, 5]), how would you get a new array with the elements reversed?\n",
    "a = np.arange(1,6)\n",
    "a[::-1]"
   ]
  },
  {
   "cell_type": "code",
   "execution_count": null,
   "id": "bb25a6fd-05d7-4319-a9ed-ee8e29ca183a",
   "metadata": {},
   "outputs": [],
   "source": [
    "# How would you reshape a 1D array of 9 elements into a 3×3 2D array using NumPy?\n",
    "a = np.arange(9)\n",
    "a.reshape(3,3)"
   ]
  },
  {
   "cell_type": "code",
   "execution_count": null,
   "id": "3a1891c9-cc48-4fe7-a31f-3958fa90533e",
   "metadata": {},
   "outputs": [],
   "source": [
    "# How can you extract all even numbers from the NumPy array a = np.array([1, 2, 3, 4, 5, 6, 7, 8, 9])?\n",
    "\n",
    "#Using Boolean Indexing\n",
    "a = np.array([1, 2, 3, 4, 5, 6, 7, 8, 9])\n",
    "b = (a % 2 == 0)\n",
    "print(a[b])"
   ]
  },
  {
   "cell_type": "code",
   "execution_count": null,
   "id": "20c6d6c4-bf41-4fa3-ade3-28ac41173265",
   "metadata": {},
   "outputs": [],
   "source": [
    "# How can you extract all even numbers from the NumPy array a = np.array([1, 2, 3, 4, 5, 6, 7, 8, 9])?\n",
    "\n",
    "#Using Boolean Indexing\n",
    "a = np.array([1, 2, 3, 4, 5, 6, 7, 8, 9])\n",
    "approach = a[a % 2 == 0]\n",
    "print(approach)"
   ]
  },
  {
   "cell_type": "code",
   "execution_count": null,
   "id": "8d9d02c0-09d0-4cf1-9d2f-8ce5abd6fc1d",
   "metadata": {},
   "outputs": [],
   "source": [
    "np.eye(2)"
   ]
  },
  {
   "cell_type": "markdown",
   "id": "79fa53ec-0e92-43cd-bd62-99a21c76fd65",
   "metadata": {},
   "source": [
    "# ChatGPT Basic Practice Questions"
   ]
  },
  {
   "cell_type": "code",
   "execution_count": null,
   "id": "31a5d275-7997-4029-8f34-c7a0a1b9bcbf",
   "metadata": {},
   "outputs": [],
   "source": [
    "# Q: Create a 1D NumPy array of integers from 0 to 9 and print only the even numbers.\n",
    "d = np.arange(9)\n",
    "print(d[d % 2 == 0])"
   ]
  },
  {
   "cell_type": "code",
   "execution_count": null,
   "id": "1c585d08-9dec-4fed-b8a9-be818d6c6a69",
   "metadata": {},
   "outputs": [],
   "source": [
    "# Q: Create a 1D NumPy array of integers from 10 to 20 (inclusive) and print only the numbers that are divisible by 3.\n",
    "d = np.arange(10, 21)\n",
    "print(d[d % 3 == 0])"
   ]
  },
  {
   "cell_type": "code",
   "execution_count": null,
   "id": "d475f9a9-a097-4b3b-8116-8833d8b3c8d1",
   "metadata": {},
   "outputs": [],
   "source": [
    "# Q: Create a 1D NumPy array of 5 random integers between 1 and 100 (inclusive), and print the maximum and minimum values from the array.\n",
    "d = np.random.randint(1, 101, 5)\n",
    "print(d)"
   ]
  },
  {
   "cell_type": "code",
   "execution_count": null,
   "id": "fed11bd5-764c-49b7-8214-dd357e8ee115",
   "metadata": {},
   "outputs": [],
   "source": [
    "# Q: Create a 1D NumPy array of 10 numbers linearly spaced between 0 and 1 (inclusive), and print the array.\n",
    "d = np.linspace(0, 2, 10)\n",
    "print(d)"
   ]
  },
  {
   "cell_type": "code",
   "execution_count": null,
   "id": "9b5e83b4-4423-4b52-b8b9-dc0528519220",
   "metadata": {},
   "outputs": [],
   "source": [
    "# Q: Create a 3x3 NumPy array with values from 1 to 9, and print the sum of each row.\n",
    "d = np.arange(1, 10)       \n",
    "d = d.reshape(3, 3)          \n",
    "print(\"Array:\\n\", d)\n",
    "print(\"Row-wise sum:\", d.sum(axis=1))"
   ]
  },
  {
   "cell_type": "code",
   "execution_count": null,
   "id": "253a93b4-e3d5-4b67-b9c0-0b499365a5c8",
   "metadata": {},
   "outputs": [],
   "source": [
    "# Q: Create a 4x4 NumPy array with values from 1 to 16, and print the elements on its main diagonal.\n",
    "d = np.arange(1, 17)\n",
    "d = d.reshape(4, 4)\n",
    "print(\"Array:\\n\", d)\n",
    "print(\"Main diagonal:\", np.diag(d))"
   ]
  },
  {
   "cell_type": "code",
   "execution_count": null,
   "id": "b9dac9ec-3046-41da-9dc9-832ff70cf150",
   "metadata": {},
   "outputs": [],
   "source": [
    "# Q: Create a 1D NumPy array with values [3, 7, 1, 9, 2], and sort the array in ascending order.\n",
    "a = np.array([3, 7, 1, 9, 2])\n",
    "sorted_a = np.sort(a)\n",
    "print(\"Original array:\", a)\n",
    "print(\"Sorted array:  \", sorted_a)"
   ]
  },
  {
   "cell_type": "code",
   "execution_count": null,
   "id": "16251a34-787d-4c0e-b30e-bbca23ca1096",
   "metadata": {},
   "outputs": [],
   "source": [
    "# Q1: Create a 1D NumPy array with values from 0 to 20 (inclusive), and print only the values that are divisible by 4.\n",
    "arr1 = np.arange(0, 21)\n",
    "print(\"Numbers divisible by 4:\", arr1[arr1 % 4 == 0])"
   ]
  },
  {
   "cell_type": "code",
   "execution_count": null,
   "id": "9e80535f-802b-4a5c-a517-301026d64fe0",
   "metadata": {},
   "outputs": [],
   "source": [
    "# Q2: Create a 3x3 NumPy array with values from 1 to 9, and print the sum of all elements.\n",
    "arr2 = np.arange(1, 10).reshape(3, 3)\n",
    "print(\"3x3 Array:\\n\", arr2)\n",
    "print(\"Sum of all elements:\", arr2.sum())"
   ]
  },
  {
   "cell_type": "code",
   "execution_count": null,
   "id": "0eb65d53-ea82-4fc4-b017-168f8e8b6d25",
   "metadata": {},
   "outputs": [],
   "source": [
    "# Q3: Create a NumPy array of 6 random floating-point numbers between 0 and 1, and print the maximum value.\n",
    "arr3 = np.random.rand(6)\n",
    "print(\"Random values:\", arr3)\n",
    "print(\"Maximum value:\", arr3.max())"
   ]
  },
  {
   "cell_type": "code",
   "execution_count": null,
   "id": "130fa2dc-2f18-49f0-8f9e-d387236dc5bb",
   "metadata": {},
   "outputs": [],
   "source": [
    "# Q1: Create a NumPy array of 5 zeros\n",
    "# Create a NumPy array with 5 zeros\n",
    "zeros_array = np.zeros(5)\n",
    "# Output the array\n",
    "print(\"Question 1 Answer:\", zeros_array)"
   ]
  },
  {
   "cell_type": "code",
   "execution_count": null,
   "id": "5c9efb46-c12d-4e87-ab0e-d7b33758a648",
   "metadata": {},
   "outputs": [],
   "source": [
    "# Q3: Find the mean of a NumPy array\n",
    "# Create a NumPy array\n",
    "arr = np.array([10, 20, 30, 40, 50])\n",
    "\n",
    "# Calculate the mean of the array\n",
    "mean_value = np.mean(arr)\n",
    "\n",
    "# Output the mean\n",
    "print(\"Question 3 Answer:\", mean_value)"
   ]
  },
  {
   "cell_type": "code",
   "execution_count": null,
   "id": "16d64662-df58-476e-a810-6d8924aa2fd2",
   "metadata": {},
   "outputs": [],
   "source": [
    "# Q4: Create a NumPy array of even numbers from 2 to 20\n",
    "# Create an array of even numbers from 2 to 20\n",
    "even_array = np.arange(2, 21, 2)\n",
    "\n",
    "# Output the array\n",
    "print(\"Question 4 Answer:\", even_array)"
   ]
  },
  {
   "cell_type": "code",
   "execution_count": null,
   "id": "de5d8454-4241-437f-8f58-bad5cabd2fa2",
   "metadata": {},
   "outputs": [],
   "source": [
    "# Q5: Create a 3×3 identity matrix\n",
    "# Create a 3x3 identity matrix\n",
    "identity_matrix = np.eye(3)\n",
    "\n",
    "# Output the matrix\n",
    "print(\"Question 5 Answer:\\n\", identity_matrix)"
   ]
  },
  {
   "cell_type": "code",
   "execution_count": null,
   "id": "f7d0be8e-7de0-4c05-b333-f0ca075dfbb0",
   "metadata": {},
   "outputs": [],
   "source": [
    "# Q6: Find the maximum value in a NumPy array\n",
    "# Create a NumPy array\n",
    "arr = np.array([15, 42, 7, 89, 23])\n",
    "\n",
    "# Find the maximum value\n",
    "max_value = np.max(arr)\n",
    "\n",
    "# Output the maximum value\n",
    "print(\"Question 6 Answer:\", max_value)"
   ]
  },
  {
   "cell_type": "code",
   "execution_count": null,
   "id": "fbc73c7a-f24b-4224-9dda-e61dd352cd1f",
   "metadata": {},
   "outputs": [],
   "source": [
    "# Q7: Reshape a 1D array into a 3×3 matrix\n",
    "# Create a 1D array from 1 to 9\n",
    "arr = np.arange(1, 10)\n",
    "\n",
    "# Reshape it into a 3x3 matrix\n",
    "reshaped_arr = arr.reshape(3, 3)\n",
    "\n",
    "# Output the reshaped array\n",
    "print(\"Question 7 Answer:\\n\", reshaped_arr)"
   ]
  },
  {
   "cell_type": "code",
   "execution_count": null,
   "id": "93551bb2-dc82-451d-a888-2688bd09c13f",
   "metadata": {},
   "outputs": [],
   "source": [
    "# Q8: Element-wise addition of two NumPy arrays\n",
    "# Create two arrays\n",
    "arr1 = np.array([1, 2, 3])\n",
    "arr2 = np.array([4, 5, 6])\n",
    "\n",
    "# Add them element-wise\n",
    "sum_array = arr1 + arr2\n",
    "\n",
    "# Output the sum\n",
    "print(\"Question 8 Answer:\", sum_array)"
   ]
  },
  {
   "cell_type": "code",
   "execution_count": null,
   "id": "da869419-bc93-4f7d-86aa-7d0fee0ca40d",
   "metadata": {},
   "outputs": [],
   "source": [
    "# Q9: Create an array of 5 random integers between 10 and 50\n",
    "# Create an array of random integers between 10 and 50\n",
    "random_array = np.random.randint(10, 51, 5)\n",
    "\n",
    "# Output the array\n",
    "print(\"Question 9 Answer:\", random_array)"
   ]
  },
  {
   "cell_type": "code",
   "execution_count": null,
   "id": "f01f2f8c-2a88-46fd-9712-b5dae1519ee5",
   "metadata": {},
   "outputs": [],
   "source": [
    "# Q10: Get the square of each element in a NumPy array\n",
    "# Create a NumPy array\n",
    "arr = np.array([2, 4, 6])\n",
    "\n",
    "# Get the square of each element\n",
    "squared_arr = arr ** 2\n",
    "\n",
    "# Output the squared array\n",
    "print(\"Question 10 Answer:\", squared_arr)"
   ]
  },
  {
   "cell_type": "code",
   "execution_count": null,
   "id": "58c48982-a92c-4cc3-9f29-a777faff8f8f",
   "metadata": {},
   "outputs": [],
   "source": [
    "# Q11: Check which elements are greater than 10 in an array\n",
    "# Create a NumPy array\n",
    "arr = np.array([5, 12, 7, 15, 3])\n",
    "\n",
    "# Check condition\n",
    "greater_than_10 = arr > 10\n",
    "\n",
    "# Output the boolean result\n",
    "print(\"Question 11 Answer:\", greater_than_10)"
   ]
  },
  {
   "cell_type": "code",
   "execution_count": null,
   "id": "7d733578-7a98-4368-bbc6-daed85521921",
   "metadata": {},
   "outputs": [],
   "source": [
    "# Create a NumPy array of odd numbers from 1 to 15\n",
    "import numpy as np\n",
    "odd_array = np.arange(1, 16, 2)\n",
    "print(odd_array)"
   ]
  },
  {
   "cell_type": "code",
   "execution_count": null,
   "id": "a436aed1-792e-4685-8da7-ac3603583634",
   "metadata": {},
   "outputs": [],
   "source": [
    "# Find the sum of all elements in a NumPy array\n",
    "arr = np.array([4, 8, 15, 16, 23, 42])\n",
    "total_sum = np.sum(arr)\n",
    "print(total_sum)"
   ]
  },
  {
   "cell_type": "code",
   "execution_count": null,
   "id": "2e6383e2-aee3-4700-a445-7bdd67581190",
   "metadata": {},
   "outputs": [],
   "source": [
    "# Create a 4x4 matrix with values from 1 to 16\n",
    "import numpy as np\n",
    "matrix = np.arange(1, 17).reshape(4, 4)\n",
    "print(matrix)"
   ]
  },
  {
   "cell_type": "code",
   "execution_count": null,
   "id": "7a3cb1de-7d63-44c5-ab09-9584322d3001",
   "metadata": {},
   "outputs": [],
   "source": [
    "# Generate a NumPy array of 6 random floating-point numbers between 0 and 1\n",
    "random_floats = np.random.rand(6)\n",
    "print(random_floats)"
   ]
  },
  {
   "cell_type": "code",
   "execution_count": null,
   "id": "2f71ead2-17a2-4167-8c73-eb8512d93cbb",
   "metadata": {},
   "outputs": [],
   "source": [
    "# Replace all elements greater than 5 in an array with 0\n",
    "arr = np.array([2, 6, 3, 9, 4, 7])\n",
    "arr[arr > 5] = 0\n",
    "print(arr)"
   ]
  },
  {
   "cell_type": "code",
   "execution_count": null,
   "id": "d169e821-265c-48df-a34e-1466c1470a6b",
   "metadata": {},
   "outputs": [],
   "source": [
    "# Multiply two NumPy arrays element-wise\n",
    "arr1 = np.array([1, 2, 3])\n",
    "arr2 = np.array([4, 5, 6])\n",
    "result = arr1 * arr2\n",
    "print(result)"
   ]
  },
  {
   "cell_type": "code",
   "execution_count": null,
   "id": "9c2e0009-0ceb-477d-a099-c043a0444d46",
   "metadata": {},
   "outputs": [],
   "source": []
  }
 ],
 "metadata": {
  "kernelspec": {
   "display_name": "Python 3 (ipykernel)",
   "language": "python",
   "name": "python3"
  },
  "language_info": {
   "codemirror_mode": {
    "name": "ipython",
    "version": 3
   },
   "file_extension": ".py",
   "mimetype": "text/x-python",
   "name": "python",
   "nbconvert_exporter": "python",
   "pygments_lexer": "ipython3",
   "version": "3.13.4"
  }
 },
 "nbformat": 4,
 "nbformat_minor": 5
}
